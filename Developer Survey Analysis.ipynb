{
 "cells": [
  {
   "cell_type": "markdown",
   "metadata": {},
   "source": [
    "# Developer Survey Analysis\n",
    "\n",
    "The goal is this analysis is to analyze the 2018 Stack Overflow survey results and gain relevant insights pertaining to developers, in particular the subgroup that identifies as data scientists. We are interested in studying whether they differ from developers as a larger group. Some questions we will answer:\n",
    "- what are the most popular languages among developers? Among data scientists?\n",
    "- what are the determinants of job satisfaction? Do data scientists seem more/less satisfied with their jobs, after controlling for confounding variables?\n",
    "- is it possible to extract different data scientist \"archetypes\" from this survey? Do they differ from developers as a broader group?\n",
    "\n",
    "We will leverage descriptive statistics as well as modeling to answer all these questions. We will analyze the results collected by Stack Overflow and made publicly available [here](https://insights.stackoverflow.com/survey)."
   ]
  },
  {
   "cell_type": "code",
   "execution_count": 1,
   "metadata": {},
   "outputs": [
    {
     "name": "stderr",
     "output_type": "stream",
     "text": [
      "/anaconda3/lib/python3.6/site-packages/statsmodels/compat/pandas.py:56: FutureWarning: The pandas.core.datetools module is deprecated and will be removed in a future version. Please use the pandas.tseries module instead.\n",
      "  from pandas.core import datetools\n",
      "/anaconda3/lib/python3.6/site-packages/sklearn/cross_validation.py:41: DeprecationWarning: This module was deprecated in version 0.18 in favor of the model_selection module into which all the refactored classes and functions are moved. Also note that the interface of the new CV iterators are different from that of this module. This module will be removed in 0.20.\n",
      "  \"This module will be removed in 0.20.\", DeprecationWarning)\n",
      "/anaconda3/lib/python3.6/site-packages/sklearn/grid_search.py:42: DeprecationWarning: This module was deprecated in version 0.18 in favor of the model_selection module into which all the refactored classes and functions are moved. This module will be removed in 0.20.\n",
      "  DeprecationWarning)\n"
     ]
    }
   ],
   "source": [
    "# We start by loading the necessary libraries\n",
    "import pandas as pd\n",
    "import numpy as np\n",
    "import random\n",
    "from sklearn import linear_model\n",
    "import matplotlib.pyplot as plt\n",
    "import statsmodels.api as sm\n",
    "from scipy import stats\n",
    "import zipfile\n",
    "from sklearn.cluster import KMeans\n",
    "import os\n",
    "import re\n",
    "import math\n",
    "from collections import defaultdict\n",
    "import seaborn as sns\n",
    "from sklearn.model_selection import train_test_split\n",
    "from sklearn.preprocessing import StandardScaler\n",
    "from sklearn.linear_model import LinearRegression, Lasso, Ridge\n",
    "from sklearn.metrics import r2_score, mean_squared_error, make_scorer\n",
    "from sklearn.grid_search import GridSearchCV\n",
    "\n",
    "%matplotlib inline"
   ]
  },
  {
   "cell_type": "markdown",
   "metadata": {},
   "source": [
    "## Loading the Data"
   ]
  },
  {
   "cell_type": "code",
   "execution_count": 2,
   "metadata": {},
   "outputs": [],
   "source": [
    "# We set the seed for reproducible results\n",
    "random.seed(42)"
   ]
  },
  {
   "cell_type": "code",
   "execution_count": 3,
   "metadata": {},
   "outputs": [
    {
     "name": "stderr",
     "output_type": "stream",
     "text": [
      "/anaconda3/lib/python3.6/site-packages/IPython/core/interactiveshell.py:2728: DtypeWarning: Columns (8,12,13,14,15,16,50,51,52,53,55,56,57,58,59,60,61,62,63,64,65,66,67,68,69,70,71,72,73,74,75,76,77,78,79,80,81,82,83,84,85,93,94,95,96,97,98,99,100,101,102,103,104,105,106,107,108,109,110,111,112,113,114,115,116,117,118,119,120,121,122,123,124,125,126,127,128) have mixed types. Specify dtype option on import or set low_memory=False.\n",
      "  interactivity=interactivity, compiler=compiler, result=result)\n"
     ]
    }
   ],
   "source": [
    "# We first extract the file from its archive and then ingest it into Pandas\n",
    "\n",
    "zip_ref = zipfile.ZipFile('developer_survey_2018.zip', 'r')\n",
    "zip_ref.extractall(os.getcwd())\n",
    "zip_ref.close()\n",
    "\n",
    "data_2018 = pd.read_csv('survey_results_public.csv')\n",
    "schema_2018 = pd.read_csv('survey_results_schema.csv')"
   ]
  },
  {
   "cell_type": "markdown",
   "metadata": {},
   "source": [
    "## Initial Assessment"
   ]
  },
  {
   "cell_type": "code",
   "execution_count": 4,
   "metadata": {},
   "outputs": [
    {
     "name": "stdout",
     "output_type": "stream",
     "text": [
      "The 2018 survey had 98855 respondents and 129 variables\n"
     ]
    }
   ],
   "source": [
    "print('The 2018 survey had {} respondents and {} variables'.format(str(data_2018.shape[0]),\n",
    "                            str(data_2018.shape[1])))"
   ]
  },
  {
   "cell_type": "code",
   "execution_count": 5,
   "metadata": {},
   "outputs": [
    {
     "data": {
      "text/html": [
       "<div>\n",
       "<style scoped>\n",
       "    .dataframe tbody tr th:only-of-type {\n",
       "        vertical-align: middle;\n",
       "    }\n",
       "\n",
       "    .dataframe tbody tr th {\n",
       "        vertical-align: top;\n",
       "    }\n",
       "\n",
       "    .dataframe thead th {\n",
       "        text-align: right;\n",
       "    }\n",
       "</style>\n",
       "<table border=\"1\" class=\"dataframe\">\n",
       "  <thead>\n",
       "    <tr style=\"text-align: right;\">\n",
       "      <th></th>\n",
       "      <th>Column</th>\n",
       "      <th>QuestionText</th>\n",
       "    </tr>\n",
       "  </thead>\n",
       "  <tbody>\n",
       "    <tr>\n",
       "      <th>0</th>\n",
       "      <td>Respondent</td>\n",
       "      <td>Randomized respondent ID number (not in order ...</td>\n",
       "    </tr>\n",
       "    <tr>\n",
       "      <th>1</th>\n",
       "      <td>Hobby</td>\n",
       "      <td>Do you code as a hobby?</td>\n",
       "    </tr>\n",
       "    <tr>\n",
       "      <th>2</th>\n",
       "      <td>OpenSource</td>\n",
       "      <td>Do you contribute to open source projects?</td>\n",
       "    </tr>\n",
       "    <tr>\n",
       "      <th>3</th>\n",
       "      <td>Country</td>\n",
       "      <td>In which country do you currently reside?</td>\n",
       "    </tr>\n",
       "    <tr>\n",
       "      <th>4</th>\n",
       "      <td>Student</td>\n",
       "      <td>Are you currently enrolled in a formal, degree...</td>\n",
       "    </tr>\n",
       "  </tbody>\n",
       "</table>\n",
       "</div>"
      ],
      "text/plain": [
       "       Column                                       QuestionText\n",
       "0  Respondent  Randomized respondent ID number (not in order ...\n",
       "1       Hobby                            Do you code as a hobby?\n",
       "2  OpenSource         Do you contribute to open source projects?\n",
       "3     Country          In which country do you currently reside?\n",
       "4     Student  Are you currently enrolled in a formal, degree..."
      ]
     },
     "execution_count": 5,
     "metadata": {},
     "output_type": "execute_result"
    }
   ],
   "source": [
    "# The schema will serve as a useful guide\n",
    "schema_2018.head()"
   ]
  },
  {
   "cell_type": "code",
   "execution_count": 6,
   "metadata": {},
   "outputs": [
    {
     "data": {
      "text/plain": [
       "Respondent                       int64\n",
       "Hobby                           object\n",
       "OpenSource                      object\n",
       "Country                         object\n",
       "Student                         object\n",
       "Employment                      object\n",
       "FormalEducation                 object\n",
       "UndergradMajor                  object\n",
       "CompanySize                     object\n",
       "DevType                         object\n",
       "YearsCoding                     object\n",
       "YearsCodingProf                 object\n",
       "JobSatisfaction                 object\n",
       "CareerSatisfaction              object\n",
       "HopeFiveYears                   object\n",
       "JobSearchStatus                 object\n",
       "LastNewJob                      object\n",
       "AssessJob1                     float64\n",
       "AssessJob2                     float64\n",
       "AssessJob3                     float64\n",
       "AssessJob4                     float64\n",
       "AssessJob5                     float64\n",
       "AssessJob6                     float64\n",
       "AssessJob7                     float64\n",
       "AssessJob8                     float64\n",
       "AssessJob9                     float64\n",
       "AssessJob10                    float64\n",
       "AssessBenefits1                float64\n",
       "AssessBenefits2                float64\n",
       "AssessBenefits3                float64\n",
       "                                ...   \n",
       "EthicsResponsible               object\n",
       "EthicalImplications             object\n",
       "StackOverflowRecommend          object\n",
       "StackOverflowVisit              object\n",
       "StackOverflowHasAccount         object\n",
       "StackOverflowParticipate        object\n",
       "StackOverflowJobs               object\n",
       "StackOverflowDevStory           object\n",
       "StackOverflowJobsRecommend      object\n",
       "StackOverflowConsiderMember     object\n",
       "HypotheticalTools1              object\n",
       "HypotheticalTools2              object\n",
       "HypotheticalTools3              object\n",
       "HypotheticalTools4              object\n",
       "HypotheticalTools5              object\n",
       "WakeTime                        object\n",
       "HoursComputer                   object\n",
       "HoursOutside                    object\n",
       "SkipMeals                       object\n",
       "ErgonomicDevices                object\n",
       "Exercise                        object\n",
       "Gender                          object\n",
       "SexualOrientation               object\n",
       "EducationParents                object\n",
       "RaceEthnicity                   object\n",
       "Age                             object\n",
       "Dependents                      object\n",
       "MilitaryUS                      object\n",
       "SurveyTooLong                   object\n",
       "SurveyEasy                      object\n",
       "Length: 129, dtype: object"
      ]
     },
     "execution_count": 6,
     "metadata": {},
     "output_type": "execute_result"
    }
   ],
   "source": [
    "# We can print out the data type of each column\n",
    "data_2018.dtypes"
   ]
  },
  {
   "cell_type": "markdown",
   "metadata": {},
   "source": [
    "The 2018 survey gathered responses from almost 100,000 people, on 129 questions. We have both numeric and categorical variables, which we will need to encode in order to be able to plug them into machine learning models."
   ]
  },
  {
   "cell_type": "markdown",
   "metadata": {},
   "source": [
    "## Data Preparation\n",
    "\n",
    "### Missing Values\n",
    "\n",
    "We assess the presence of missing values, and deal with them."
   ]
  },
  {
   "cell_type": "code",
   "execution_count": 7,
   "metadata": {},
   "outputs": [
    {
     "data": {
      "text/plain": [
       "TimeAfterBootcamp              0.932710\n",
       "MilitaryUS                     0.840362\n",
       "HackathonReasons               0.740114\n",
       "ErgonomicDevices               0.655475\n",
       "AdBlockerReasons               0.618178\n",
       "StackOverflowJobsRecommend     0.612392\n",
       "JobEmailPriorities1            0.532517\n",
       "JobEmailPriorities2            0.532517\n",
       "JobEmailPriorities3            0.532517\n",
       "JobEmailPriorities4            0.532517\n",
       "JobEmailPriorities6            0.532517\n",
       "JobEmailPriorities5            0.532517\n",
       "JobEmailPriorities7            0.532517\n",
       "ConvertedSalary                0.517455\n",
       "JobContactPriorities3          0.507299\n",
       "JobContactPriorities4          0.507299\n",
       "JobContactPriorities2          0.507299\n",
       "JobContactPriorities1          0.507299\n",
       "JobContactPriorities5          0.507299\n",
       "Salary                         0.488362\n",
       "SalaryType                     0.483385\n",
       "FrameworkWorkedWith            0.477821\n",
       "TimeFullyProductive            0.475272\n",
       "AdBlockerDisable               0.444661\n",
       "FrameworkDesireNextYear        0.441424\n",
       "CommunicationTools             0.423701\n",
       "SelfTaughtTypes                0.419817\n",
       "RaceEthnicity                  0.418613\n",
       "DatabaseDesireNextYear         0.418360\n",
       "CurrencySymbol                 0.406707\n",
       "                                 ...   \n",
       "LanguageDesireNextYear         0.259076\n",
       "VersionControl                 0.248414\n",
       "AdsAgreeDisagree2              0.247251\n",
       "AdsAgreeDisagree3              0.247241\n",
       "AdsAgreeDisagree1              0.246523\n",
       "StackOverflowJobs              0.238309\n",
       "IDE                            0.237287\n",
       "HopeFiveYears                  0.234050\n",
       "StackOverflowConsiderMember    0.231126\n",
       "AdBlocker                      0.230641\n",
       "OperatingSystem                0.229386\n",
       "NumberMonitors                 0.227171\n",
       "StackOverflowRecommend         0.226251\n",
       "CareerSatisfaction             0.226099\n",
       "StackOverflowHasAccount        0.223196\n",
       "StackOverflowVisit             0.222993\n",
       "YearsCodingProf                0.211947\n",
       "LanguageWorkedWith             0.207587\n",
       "LastNewJob                     0.201973\n",
       "UndergradMajor                 0.200486\n",
       "JobSearchStatus                0.195913\n",
       "DevType                        0.068353\n",
       "YearsCoding                    0.050781\n",
       "FormalEducation                0.042001\n",
       "Student                        0.039998\n",
       "Employment                     0.035749\n",
       "Country                        0.004168\n",
       "OpenSource                     0.000000\n",
       "Hobby                          0.000000\n",
       "Respondent                     0.000000\n",
       "Length: 129, dtype: float64"
      ]
     },
     "execution_count": 7,
     "metadata": {},
     "output_type": "execute_result"
    }
   ],
   "source": [
    "# We assess the proportion of missing values in each column\n",
    "data_2018.isnull().mean().sort_values(ascending = False)"
   ]
  },
  {
   "cell_type": "code",
   "execution_count": 8,
   "metadata": {},
   "outputs": [
    {
     "data": {
      "image/png": "[encoded data removed]",
      "text/plain": [
       "<Figure size 432x288 with 1 Axes>"
      ]
     },
     "metadata": {},
     "output_type": "display_data"
    }
   ],
   "source": [
    "data_2018.isnull().mean(axis = 0).hist();"
   ]
  },
  {
   "cell_type": "code",
   "execution_count": 9,
   "metadata": {},
   "outputs": [],
   "source": [
    "# We drop the columns with more than 60% of missing values\n",
    "data_2018 = data_2018.loc[:, data_2018.isnull().mean() < 0.6]"
   ]
  },
  {
   "cell_type": "code",
   "execution_count": 10,
   "metadata": {},
   "outputs": [
    {
     "data": {
      "image/png": "[encoded data removed]",
      "text/plain": [
       "<Figure size 432x288 with 1 Axes>"
      ]
     },
     "metadata": {},
     "output_type": "display_data"
    }
   ],
   "source": [
    "# We now assess the rows\n",
    "data_2018.isnull().mean(axis = 1).hist();"
   ]
  },
  {
   "cell_type": "code",
   "execution_count": 11,
   "metadata": {},
   "outputs": [],
   "source": [
    "# We drop the rows with more than 80% of missing values\n",
    "data_2018 = data_2018.loc[data_2018.isnull().mean(axis = 1) < 0.8,:]"
   ]
  },
  {
   "cell_type": "code",
   "execution_count": 12,
   "metadata": {},
   "outputs": [
    {
     "name": "stdout",
     "output_type": "stream",
     "text": [
      "After removing missing values, we are left with 82184 respondents and 123 variables\n"
     ]
    }
   ],
   "source": [
    "print('After removing missing values, we are left with {} respondents and {} variables'.format(str(data_2018.shape[0]),\n",
    "                            str(data_2018.shape[1])))"
   ]
  },
  {
   "cell_type": "markdown",
   "metadata": {},
   "source": [
    "We assess missing values in rows and columns. We remove columns which have more than 50% of missing values, as well as rows that have more than 80% of missing values, for both these groups do not provide us with useful information for our purposes. We are still left with 123 variables and 82,184 respondents. We will probably have to impute or do more cleaning later on, but this is a good first pass for now."
   ]
  },
  {
   "cell_type": "markdown",
   "metadata": {},
   "source": [
    "### Duplicate Values"
   ]
  },
  {
   "cell_type": "code",
   "execution_count": 13,
   "metadata": {},
   "outputs": [
    {
     "name": "stdout",
     "output_type": "stream",
     "text": [
      "0 0\n"
     ]
    }
   ],
   "source": [
    "print(data_2018.Respondent.duplicated().sum(), data_2018.duplicated().sum())"
   ]
  },
  {
   "cell_type": "markdown",
   "metadata": {},
   "source": [
    "No duplicate values to deal with. "
   ]
  },
  {
   "cell_type": "markdown",
   "metadata": {},
   "source": [
    "### Categorical Variables"
   ]
  },
  {
   "cell_type": "code",
   "execution_count": 14,
   "metadata": {},
   "outputs": [],
   "source": [
    "# We transform the salary variable from a categorical to a numerical variables\n",
    "data_2018.Salary = pd.to_numeric(data_2018.Salary.str.replace(',', ''), errors = 'coerce')"
   ]
  },
  {
   "cell_type": "code",
   "execution_count": 36,
   "metadata": {},
   "outputs": [],
   "source": [
    "# Create a numerical representation of JobSatisfaction for predictions later\n",
    "mapping = {'Extremely dissatisfied': 0, 'Moderately dissatisfied': 1, 'Slightly dissatisfied': 2, \n",
    "           'Neither satisfied nor dissatisfied':3, 'Sligthly satisfied':4, 'Moderately satisfied': 5, \n",
    "           'Extremely satisfied': 6, np.nan: 7}\n",
    "satisf_labels = list(mapping.keys())\n",
    "satisf_labels.remove(np.nan)\n",
    "data_2018.JobSatisfaction = data_2018.JobSatisfaction.map(mapping)"
   ]
  },
  {
   "cell_type": "code",
   "execution_count": 16,
   "metadata": {},
   "outputs": [
    {
     "name": "stderr",
     "output_type": "stream",
     "text": [
      "/anaconda3/lib/python3.6/site-packages/pandas/core/indexing.py:194: SettingWithCopyWarning: \n",
      "A value is trying to be set on a copy of a slice from a DataFrame\n",
      "\n",
      "See the caveats in the documentation: http://pandas.pydata.org/pandas-docs/stable/indexing.html#indexing-view-versus-copy\n",
      "  self._setitem_with_indexer(indexer, value)\n"
     ]
    }
   ],
   "source": [
    "# We create a new column that specifies whether someone is a data scientist\n",
    "\n",
    "pattern = ['Data or business analyst' , 'Data scientist or machine learning specialist']\n",
    "data_2018.dropna(subset = ['DevType'], axis = 0, inplace = True)\n",
    "data_scientists = data_2018['DevType'].str.contains('|'.join(pattern))\n",
    "data_2018['DataScientist'] = 0\n",
    "data_2018.DataScientist.loc[data_scientists] = 1"
   ]
  },
  {
   "cell_type": "markdown",
   "metadata": {},
   "source": [
    "Later in our analysis, we will want to use the salary variable, which we thus convert to numeric (it was viewed as categorical due to the thousand separator certain respondents used). We also create a numerical representation of job satisfaction, to be used in multi-class classification later on. Finally, we encode whether someone is a data scientist as a binary variable, and drop the job variable, since we are interested in comparing data scientists to other developers as a whole.\n",
    "\n",
    "We will use one-hot encoding for our categorical variables later on."
   ]
  },
  {
   "cell_type": "markdown",
   "metadata": {},
   "source": [
    "## Languages"
   ]
  },
  {
   "cell_type": "markdown",
   "metadata": {},
   "source": [
    "We want to look at languages they've worked with, as well as what they want to learn in the future to see whether there is agreement as well as whether it is possible to discern a trend for the future."
   ]
  },
  {
   "cell_type": "code",
   "execution_count": 17,
   "metadata": {},
   "outputs": [],
   "source": [
    "# We start by only keeping non-null elements of the dataframe\n",
    "data_2018_languages_past = data_2018.loc[data_2018.LanguageWorkedWith.notnull(),:]"
   ]
  },
  {
   "cell_type": "code",
   "execution_count": 18,
   "metadata": {},
   "outputs": [
    {
     "name": "stderr",
     "output_type": "stream",
     "text": [
      "/anaconda3/lib/python3.6/site-packages/pandas/core/series.py:2993: SettingWithCopyWarning: \n",
      "A value is trying to be set on a copy of a slice from a DataFrame\n",
      "\n",
      "See the caveats in the documentation: http://pandas.pydata.org/pandas-docs/stable/indexing.html#indexing-view-versus-copy\n",
      "  self._update_inplace(result)\n"
     ]
    }
   ],
   "source": [
    "# We extract all the possible languages through a helper function\n",
    "\n",
    "def extract_unique_values(df, column):\n",
    "    '''\n",
    "    INPUT:\n",
    "    A function to extract all the unique values in a column of a dataframe with each observation having various\n",
    "    values separated by semi-colons\n",
    "    \n",
    "    df - a dataframe\n",
    "    column - a column of a dataframe with values separated with a semicolon\n",
    "\n",
    "    OUTPUT:\n",
    "    unique_values - a list of unique values present in the column\n",
    "    '''\n",
    "    df[column].dropna(inplace = True)\n",
    "    unique_values = []\n",
    "\n",
    "    for i in df[column].unique():\n",
    "        for j in i.split(';'):\n",
    "            if not j in unique_values:\n",
    "                unique_values.append(j)\n",
    "    return(unique_values)\n",
    "\n",
    "languages = extract_unique_values(data_2018_languages_past, 'LanguageWorkedWith')"
   ]
  },
  {
   "cell_type": "code",
   "execution_count": 19,
   "metadata": {},
   "outputs": [],
   "source": [
    "# Now that we have all the possible values, we use them to create counts for each\n",
    "# We start by creating two helper functions\n",
    "\n",
    "def total_count(df, col1, col2, look_for):\n",
    "    '''\n",
    "    A function to calculate the number of occurences of unique values\n",
    "    \n",
    "    INPUT:\n",
    "    df - the pandas dataframe you want to search\n",
    "    col1 - the column name you want to look through\n",
    "    col2 - the column you want to count values from\n",
    "    look_for - a list of strings you want to search for in each row of df[col]\n",
    "\n",
    "    OUTPUT:\n",
    "    new_df - a dataframe of each look_for with the count of how often it shows up\n",
    "    '''\n",
    "    new_df = defaultdict(int)\n",
    "    #loop through list of languages\n",
    "    for val in look_for:\n",
    "        #loop through rows\n",
    "        for idx in range(df.shape[0]):\n",
    "            #if the ed type is in the row add 1\n",
    "            if val in df[col1][idx]:\n",
    "                new_df[val] += int(df[col2][idx])\n",
    "    new_df = pd.DataFrame(pd.Series(new_df)).reset_index()\n",
    "    new_df.columns = [col1, col2]\n",
    "    new_df.sort_values('count', ascending=False, inplace=True)\n",
    "    return new_df\n",
    "\n",
    "\n",
    "def compute_unique_count(df, col, rename_index, unique_values):\n",
    "    '''\n",
    "    INPUT:\n",
    "    df - the pandas dataframe from which to extract the values\n",
    "    col - the column whose value counts we want\n",
    "    rename_index - a string to rename the index of our resulting dataframe\n",
    "    unique_values - a list of unique values for which we want the counts\n",
    "\n",
    "    OUTPUT:\n",
    "    counts - a dataframe of each value with its associated counts\n",
    "    '''\n",
    "    \n",
    "    counts = df[col].value_counts().reset_index()\n",
    "    counts.rename(columns={'index': rename_index, col: 'count'}, inplace=True)\n",
    "    counts = total_count(counts, rename_index, 'count', unique_values)\n",
    "    counts.set_index(rename_index, inplace = True)\n",
    "    \n",
    "    return(counts)"
   ]
  },
  {
   "cell_type": "code",
   "execution_count": 20,
   "metadata": {},
   "outputs": [],
   "source": [
    "# We can now process our dataframe to extract all the counts for the values\n",
    "languages_overall = compute_unique_count(data_2018_languages_past, 'LanguageWorkedWith', 'language', languages)"
   ]
  },
  {
   "cell_type": "code",
   "execution_count": 21,
   "metadata": {},
   "outputs": [
    {
     "data": {
      "image/png": "[encoded data removed]",
      "text/plain": [
       "<Figure size 432x288 with 1 Axes>"
      ]
     },
     "metadata": {},
     "output_type": "display_data"
    }
   ],
   "source": [
    "# We can now plot the popularity of various languages overall\n",
    "# We only keep the top 10\n",
    "languages_overall.head(10).plot(kind = 'bar', legend = None);\n",
    "plt.title(\"Top 10 Most Popular Programming Languages Among Respondents of 2018 StackOverflow Survey\");\n",
    "plt.xlabel(\"Language\");\n",
    "plt.ylabel(\"Number of Times Mentioned\");"
   ]
  },
  {
   "cell_type": "code",
   "execution_count": 22,
   "metadata": {},
   "outputs": [],
   "source": [
    "# We create two datasets, one for data scientists/analysts and one for the rest\n",
    "data_2018_languages_past_DS = data_2018_languages_past.loc[data_2018_languages_past.DataScientist == 1,:]\n",
    "data_2018_languages_past_noDS = data_2018_languages_past.loc[data_2018_languages_past.DataScientist == 0,:]"
   ]
  },
  {
   "cell_type": "code",
   "execution_count": 23,
   "metadata": {},
   "outputs": [],
   "source": [
    "# We now repeat the analysis\n",
    "languages_DS = compute_unique_count(data_2018_languages_past_DS, 'LanguageWorkedWith', 'language', languages)\n",
    "languages_noDS = compute_unique_count(data_2018_languages_past_noDS, 'LanguageWorkedWith', 'language', languages)"
   ]
  },
  {
   "cell_type": "code",
   "execution_count": 24,
   "metadata": {},
   "outputs": [
    {
     "data": {
      "image/png": "[encoded data removed]",
      "text/plain": [
       "<Figure size 720x360 with 2 Axes>"
      ]
     },
     "metadata": {},
     "output_type": "display_data"
    }
   ],
   "source": [
    "# We can now create a dataframe from these two and build a faceted plot\n",
    "\n",
    "def create_faceted_plot(df_DS, df_noDS, plot_title, xlabel, ylabel):\n",
    "    '''\n",
    "    A function to create a faceted plot for data scientists and non data scientists\n",
    "    \n",
    "    INPUT:\n",
    "    df_DS - a Pandas dataframe of counts for Data Scientists\n",
    "    df_noDS - a Pandas dataframe of counts for other developers\n",
    "    plot_title - a string, title to give to our plot\n",
    "    xlabel - a string, label for our x axis\n",
    "    ylabel - a string, label for our y axis\n",
    "\n",
    "    OUTPUT:\n",
    "    a faceted plot\n",
    "    '''\n",
    "    \n",
    "    df_DS['Profession'] = 'Data Scientist'\n",
    "    df_noDS['Profession'] = 'Other Developers'\n",
    "    df = pd.concat([df_DS.head(10), df_noDS.head(10)], axis = 0)\n",
    "    df.reset_index(inplace = True)\n",
    "    g = sns.FacetGrid(df, col = \"Profession\")\n",
    "    g.fig.set_size_inches(10, 5)\n",
    "    plt.tight_layout()\n",
    "    g.map(plt.bar, 'language', 'count')\n",
    "    g.set_xticklabels(rotation = 90)\n",
    "    g.set_xlabels(xlabel)\n",
    "    g.set_ylabels(ylabel)\n",
    "    plt.subplots_adjust(top=0.8)\n",
    "    g.fig.suptitle(plot_title)\n",
    "    g.fig.savefig(plot_title+'png', bbox_inches = 'tight')\n",
    "    plt.show()\n",
    "\n",
    "create_faceted_plot(languages_DS, languages_noDS,\n",
    "                   \"Most Popular Programming Languages Among Data Scientists And Other Developers\",\n",
    "                   \"Language\", \"Number of Respondents\")"
   ]
  },
  {
   "cell_type": "code",
   "execution_count": 25,
   "metadata": {},
   "outputs": [
    {
     "name": "stderr",
     "output_type": "stream",
     "text": [
      "/anaconda3/lib/python3.6/site-packages/pandas/core/series.py:2993: SettingWithCopyWarning: \n",
      "A value is trying to be set on a copy of a slice from a DataFrame\n",
      "\n",
      "See the caveats in the documentation: http://pandas.pydata.org/pandas-docs/stable/indexing.html#indexing-view-versus-copy\n",
      "  self._update_inplace(result)\n"
     ]
    },
    {
     "data": {
      "image/png": "[encoded data removed]",
      "text/plain": [
       "<Figure size 432x288 with 1 Axes>"
      ]
     },
     "metadata": {},
     "output_type": "display_data"
    }
   ],
   "source": [
    "# We can now repeat the same analysis, for languages people want to work with in the future\n",
    "# We first look at it overall\n",
    "\n",
    "data_2018_languages_future = data_2018.loc[data_2018.LanguageDesireNextYear.notnull(),:]\n",
    "languages_future = extract_unique_values(data_2018_languages_future, 'LanguageDesireNextYear')\n",
    "languages_future_overall = compute_unique_count(data_2018_languages_future,\n",
    "                                                'LanguageDesireNextYear', 'language', languages_future)\n",
    "languages_future_overall.head(10).plot(kind = 'bar', legend = None);\n",
    "plt.title(\"Top 10 Most Desired Programming Languages for the Future Among Respondents of 2018 StackOverflow Survey\");\n",
    "plt.xlabel(\"Desired Language\");\n",
    "plt.ylabel(\"Number of Times Mentioned\");"
   ]
  },
  {
   "cell_type": "code",
   "execution_count": 26,
   "metadata": {},
   "outputs": [
    {
     "data": {
      "image/png": "[encoded data removed]",
      "text/plain": [
       "<Figure size 720x360 with 2 Axes>"
      ]
     },
     "metadata": {},
     "output_type": "display_data"
    }
   ],
   "source": [
    "# We can then split it between data scientists and other developers\n",
    "data_2018_languages_future_DS = data_2018_languages_future.loc[data_2018_languages_future.DataScientist == 1,:]\n",
    "data_2018_languages_future_noDS = data_2018_languages_future.loc[data_2018_languages_future.DataScientist == 0,:]\n",
    "\n",
    "languages_future_DS = compute_unique_count(data_2018_languages_future_DS, \n",
    "                                           'LanguageDesireNextYear', 'language', languages_future)\n",
    "languages_future_noDS = compute_unique_count(data_2018_languages_future_noDS,\n",
    "                                             'LanguageDesireNextYear', 'language', languages_future)\n",
    "create_faceted_plot(languages_future_DS, languages_future_noDS,\n",
    "                   \"Most Popular Programming Languages for the Future Among Data Scientists And Other Developers\",\n",
    "                   \"Language\", \"Number of Respondents\")"
   ]
  },
  {
   "cell_type": "markdown",
   "metadata": {},
   "source": [
    "### Interpretation"
   ]
  },
  {
   "cell_type": "markdown",
   "metadata": {},
   "source": [
    "We get several valuable insights from this analysis.\n",
    "\n",
    "First of all, data scientists do not differ from other developers in terms of languages they have used in the past or want to work with in the future. This is interesting as a lot of the languages mentioned are not the first ones we think about for data science (C, PHP, JavaScript). They could nonetheless point to data scientists being proficient in these efficient languages to deploy models into production, rather than simply doing ad hoc analyses in Python or R.\n",
    "\n",
    "In addition, comparing languages used in the past with those who are an objective in the future, most of the languages are the same and in a similar order. The main differences are the rise in popularity of Python and R. These two languages have been rising in popularity in recent years with the explosion of data science, with the creation of many libraries to do state-of-the-art machine learning. It is no coincidence that the rise of these two languages happens at a time when the profession is considered attractive. Many developers, data scientists or not, want to work with them as they are the most widely used techniques."
   ]
  },
  {
   "cell_type": "markdown",
   "metadata": {},
   "source": [
    "## Determinants of job satisfaction"
   ]
  },
  {
   "cell_type": "markdown",
   "metadata": {},
   "source": [
    "## Descriptive Statistics"
   ]
  },
  {
   "cell_type": "code",
   "execution_count": 27,
   "metadata": {},
   "outputs": [],
   "source": [
    "# We start by creating a copy of our data frame\n",
    "data_2018_satisf = data_2018.copy()\n",
    "\n",
    "# We drop the respondent variable which is simply an identifier\n",
    "data_2018_satisf.drop('Respondent', axis = 1, inplace = True)"
   ]
  },
  {
   "cell_type": "code",
   "execution_count": 28,
   "metadata": {},
   "outputs": [
    {
     "data": {
      "text/plain": [
       "DataScientist\n",
       "0    4.700198\n",
       "1    4.624523\n",
       "Name: JobSatisfaction, dtype: float64"
      ]
     },
     "execution_count": 28,
     "metadata": {},
     "output_type": "execute_result"
    }
   ],
   "source": [
    "# We look at the mean\n",
    "data_2018_satisf.groupby('DataScientist')['JobSatisfaction'].mean()"
   ]
  },
  {
   "cell_type": "code",
   "execution_count": 38,
   "metadata": {},
   "outputs": [
    {
     "data": {
      "image/png": "[encoded data removed]",
      "text/plain": [
       "<Figure size 432x216 with 2 Axes>"
      ]
     },
     "metadata": {},
     "output_type": "display_data"
    }
   ],
   "source": [
    "# We compare the distributions\n",
    "satisf_df = data_2018_satisf[['DataScientist', 'JobSatisfaction']]\n",
    "satisf_df = satisf_df.loc[satisf_df['JobSatisfaction'] != 7,:]\n",
    "satisf_df_plot = satisf_df.groupby(['DataScientist', 'JobSatisfaction'])['JobSatisfaction'].count().groupby(level = 0).apply(lambda x:\n",
    "                                                 100 * x / float(x.sum()))\n",
    "satisf_df_plot.index.set_names(['Data Scientist', 'Satisfaction Rating'], inplace = True)\n",
    "satisf_df_plot = satisf_df_plot.reset_index()\n",
    "satisf_df_plot.rename(columns = {'JobSatisfaction':'Proportion'}, inplace = True)\n",
    "\n",
    "g = sns.FacetGrid(satisf_df_plot, col = 'Data Scientist')\n",
    "g.map(plt.bar, 'Satisfaction Rating', 'Proportion')\n",
    "g.set_xticklabels(rotation = 90)\n",
    "g.set_xlabels('Satisfaction Rating')\n",
    "g.set_ylabels('Frequency (%)')\n",
    "g.set(xticklabels=satisf_labels, xticks=np.arange(0,8,1))\n",
    "plt.subplots_adjust(top=0.8)\n",
    "g.fig.suptitle('Job Satisfaction Ratings between Data Scientists and Other Developers')\n",
    "g.fig.savefig('job_satisfaction.png', bbox_inches = 'tight')\n",
    "plt.show()"
   ]
  },
  {
   "cell_type": "code",
   "execution_count": 31,
   "metadata": {},
   "outputs": [
    {
     "data": {
      "text/html": [
       "<div>\n",
       "<style scoped>\n",
       "    .dataframe tbody tr th:only-of-type {\n",
       "        vertical-align: middle;\n",
       "    }\n",
       "\n",
       "    .dataframe tbody tr th {\n",
       "        vertical-align: top;\n",
       "    }\n",
       "\n",
       "    .dataframe thead th {\n",
       "        text-align: right;\n",
       "    }\n",
       "</style>\n",
       "<table border=\"1\" class=\"dataframe\">\n",
       "  <thead>\n",
       "    <tr style=\"text-align: right;\">\n",
       "      <th></th>\n",
       "      <th></th>\n",
       "      <th>Proportion</th>\n",
       "    </tr>\n",
       "    <tr>\n",
       "      <th>Data Scientist</th>\n",
       "      <th>Satisfaction Rating</th>\n",
       "      <th></th>\n",
       "    </tr>\n",
       "  </thead>\n",
       "  <tbody>\n",
       "    <tr>\n",
       "      <th rowspan=\"7\" valign=\"top\">0</th>\n",
       "      <th>0.0</th>\n",
       "      <td>3.208565</td>\n",
       "    </tr>\n",
       "    <tr>\n",
       "      <th>1.0</th>\n",
       "      <td>8.348767</td>\n",
       "    </tr>\n",
       "    <tr>\n",
       "      <th>2.0</th>\n",
       "      <td>9.409624</td>\n",
       "    </tr>\n",
       "    <tr>\n",
       "      <th>3.0</th>\n",
       "      <td>6.496735</td>\n",
       "    </tr>\n",
       "    <tr>\n",
       "      <th>5.0</th>\n",
       "      <td>34.187868</td>\n",
       "    </tr>\n",
       "    <tr>\n",
       "      <th>6.0</th>\n",
       "      <td>16.016831</td>\n",
       "    </tr>\n",
       "    <tr>\n",
       "      <th>7.0</th>\n",
       "      <td>22.331611</td>\n",
       "    </tr>\n",
       "    <tr>\n",
       "      <th rowspan=\"7\" valign=\"top\">1</th>\n",
       "      <th>0.0</th>\n",
       "      <td>3.544565</td>\n",
       "    </tr>\n",
       "    <tr>\n",
       "      <th>1.0</th>\n",
       "      <td>8.665636</td>\n",
       "    </tr>\n",
       "    <tr>\n",
       "      <th>2.0</th>\n",
       "      <td>9.108707</td>\n",
       "    </tr>\n",
       "    <tr>\n",
       "      <th>3.0</th>\n",
       "      <td>6.512107</td>\n",
       "    </tr>\n",
       "    <tr>\n",
       "      <th>5.0</th>\n",
       "      <td>35.188047</td>\n",
       "    </tr>\n",
       "    <tr>\n",
       "      <th>6.0</th>\n",
       "      <td>18.773828</td>\n",
       "    </tr>\n",
       "    <tr>\n",
       "      <th>7.0</th>\n",
       "      <td>18.207110</td>\n",
       "    </tr>\n",
       "  </tbody>\n",
       "</table>\n",
       "</div>"
      ],
      "text/plain": [
       "                                    Proportion\n",
       "Data Scientist Satisfaction Rating            \n",
       "0              0.0                    3.208565\n",
       "               1.0                    8.348767\n",
       "               2.0                    9.409624\n",
       "               3.0                    6.496735\n",
       "               5.0                   34.187868\n",
       "               6.0                   16.016831\n",
       "               7.0                   22.331611\n",
       "1              0.0                    3.544565\n",
       "               1.0                    8.665636\n",
       "               2.0                    9.108707\n",
       "               3.0                    6.512107\n",
       "               5.0                   35.188047\n",
       "               6.0                   18.773828\n",
       "               7.0                   18.207110"
      ]
     },
     "execution_count": 31,
     "metadata": {},
     "output_type": "execute_result"
    }
   ],
   "source": [
    "satisf_df_plot.set_index(['Data Scientist', 'Satisfaction Rating'])"
   ]
  },
  {
   "cell_type": "markdown",
   "metadata": {},
   "source": [
    "## Modeling"
   ]
  },
  {
   "cell_type": "code",
   "execution_count": 32,
   "metadata": {},
   "outputs": [],
   "source": [
    "# We first have to remove missing values from the JobSatisfaction column since it is our target variable\n",
    "\n",
    "data_2018_satisf = data_2018_satisf.dropna(subset = ['JobSatisfaction'], axis = 0)"
   ]
  },
  {
   "cell_type": "code",
   "execution_count": 33,
   "metadata": {},
   "outputs": [],
   "source": [
    "# We focus on a subset of our variables to build our model\n",
    "# We choose them based on domain-knowledge and our intuition\n",
    "\n",
    "predictors = ['Hobby', 'Exercise', 'Gender', 'DevType', 'OpenSource', 'SexualOrientation', 'EducationTypes',\n",
    "            'DataScientist', 'NumberMonitors', 'UndergradMajor', 'TimeFullyProductive',\n",
    "              'RaceEthnicity', 'Age', 'Employment', 'Dependents', 'CompanySize', \n",
    "              'YearsCoding', 'WakeTime', 'HoursComputer', 'YearsCodingProf', 'OperatingSystem',\n",
    "             'HoursOutside', 'SkipMeals', 'FormalEducation', 'HopeFiveYears',\n",
    "              'ConvertedSalary', 'JobSatisfaction']\n",
    "\n",
    "data_2018_satisf_subset = data_2018_satisf.loc[:,predictors]"
   ]
  },
  {
   "cell_type": "code",
   "execution_count": 34,
   "metadata": {},
   "outputs": [],
   "source": [
    "# We need to encode ourselves the DevType, EducationTypes, Gender, SexualOrientation and DevType columns\n",
    "for c in ['EducationTypes', 'DevType', 'RaceEthnicity', 'Gender', 'SexualOrientation']:\n",
    "    data_2018_satisf_subset = pd.concat([data_2018_satisf_subset, data_2018_satisf_subset[c].str.get_dummies(sep = ';')], \n",
    "                                        axis = 1)\n",
    "    data_2018_satisf_subset.drop(c, inplace = True, axis = 1)\n"
   ]
  },
  {
   "cell_type": "code",
   "execution_count": 35,
   "metadata": {
    "scrolled": true
   },
   "outputs": [],
   "source": [
    "# We impute missing values for the salary columns\n",
    "\n",
    "data_2018_satisf_subset['ConvertedSalary'] = data_2018_satisf_subset['ConvertedSalary'].fillna(data_2018_satisf_subset['ConvertedSalary'].median())\n",
    "\n",
    "# We create our dummy variables\n",
    "data_2018_satisf_dummies = pd.get_dummies(data_2018_satisf_subset)"
   ]
  },
  {
   "cell_type": "code",
   "execution_count": 36,
   "metadata": {},
   "outputs": [
    {
     "name": "stdout",
     "output_type": "stream",
     "text": [
      "The R2 score on the train set is 0.34562695339036564 and 0.3459163579209036 on the test set with linear regression\n",
      "The RMSE is 1.6567159986794322 on the train set and 1.6598355973251475 on the test set with linear regression\n",
      "The R2 score on the train set is 0.0 and -4.127736797587822e-05 on the test set with Lasso regression\n",
      "The RMSE is 2.048025524255059 on the train set and 2.052378201961116 on the test set with Lasso regression\n",
      "The R2 score on the train set is 0.2542885095479235 and 0.2542407503759908 on the test set with Ridge regression\n",
      "The RMSE is 1.768564007858965 on the train set and 1.772342919710982 on the test set with Ridge regression\n"
     ]
    }
   ],
   "source": [
    "# We separate our predictor from our target variable\n",
    "X = data_2018_satisf_dummies.drop(labels = 'JobSatisfaction', axis = 1)\n",
    "y = data_2018_satisf_dummies['JobSatisfaction']\n",
    "\n",
    "# We can now build our models\n",
    "X_train, X_test, y_train, y_test = train_test_split(X, y, test_size = 0.2, random_state = 42)\n",
    "\n",
    "# Linear Regression\n",
    "lm = LinearRegression(normalize = True)\n",
    "lm.fit(X_train, y_train)\n",
    "lm_y_test_preds = lm.predict(X_test)\n",
    "lm_y_train_preds = lm.predict(X_train)\n",
    "\n",
    "lm_r2_train = lm.score(X_train, y_train)\n",
    "lm_r2_test = lm.score(X_test, y_test)\n",
    "\n",
    "lm_rmse_train = math.sqrt(mean_squared_error(y_train, lm_y_train_preds))\n",
    "lm_rmse_test = math.sqrt(mean_squared_error(y_test, lm_y_test_preds))\n",
    "\n",
    "print(\"The R2 score on the train set is {} and {} on the test set with linear regression\".format(lm_r2_train, lm_r2_test))\n",
    "print(\"The RMSE is {} on the train set and {} on the test set with linear regression\". format(lm_rmse_train, lm_rmse_test))\n",
    "\n",
    "# Lasso\n",
    "lasso = Lasso(normalize = True)\n",
    "lasso.fit(X_train, y_train)\n",
    "lasso_y_test_preds = lasso.predict(X_test)\n",
    "lasso_y_train_preds = lasso.predict(X_train)\n",
    "\n",
    "lasso_r2_train = lasso.score(X_train, y_train)\n",
    "lasso_r2_test = lasso.score(X_test, y_test)\n",
    "\n",
    "lasso_rmse_train = math.sqrt(mean_squared_error(y_train, lasso_y_train_preds))\n",
    "lasso_rmse_test = math.sqrt(mean_squared_error(y_test, lasso_y_test_preds))\n",
    "\n",
    "print(\"The R2 score on the train set is {} and {} on the test set with Lasso regression\".format(lasso_r2_train, \n",
    "                                                                                                lasso_r2_test))\n",
    "print(\"The RMSE is {} on the train set and {} on the test set with Lasso regression\". format(lasso_rmse_train,\n",
    "                                                                                             lasso_rmse_test))\n",
    "\n",
    "# Ridge\n",
    "ridge = Ridge(normalize = True)\n",
    "ridge.fit(X_train, y_train)\n",
    "ridge_y_test_preds = ridge.predict(X_test)\n",
    "ridge_y_train_preds = ridge.predict(X_train)\n",
    "\n",
    "ridge_r2_train = ridge.score(X_train, y_train)\n",
    "ridge_r2_test = ridge.score(X_test, y_test)\n",
    "\n",
    "ridge_rmse_train = math.sqrt(mean_squared_error(y_train, ridge_y_train_preds))\n",
    "ridge_rmse_test = math.sqrt(mean_squared_error(y_test, ridge_y_test_preds))\n",
    "\n",
    "print(\"The R2 score on the train set is {} and {} on the test set with Ridge regression\".format(ridge_r2_train, \n",
    "                                                                                                ridge_r2_test))\n",
    "print(\"The RMSE is {} on the train set and {} on the test set with Ridge regression\". format(ridge_rmse_train,\n",
    "                                                                                             ridge_rmse_test))"
   ]
  },
  {
   "cell_type": "code",
   "execution_count": 37,
   "metadata": {},
   "outputs": [
    {
     "name": "stderr",
     "output_type": "stream",
     "text": [
      "/anaconda3/lib/python3.6/site-packages/scipy/linalg/basic.py:40: RuntimeWarning: scipy.linalg.solve\n",
      "Ill-conditioned matrix detected. Result is not guaranteed to be accurate.\n",
      "Reciprocal condition number/precision: 9.344103530037227e-17 / 1.1102230246251565e-16\n",
      "  RuntimeWarning)\n",
      "/anaconda3/lib/python3.6/site-packages/scipy/linalg/basic.py:40: RuntimeWarning: scipy.linalg.solve\n",
      "Ill-conditioned matrix detected. Result is not guaranteed to be accurate.\n",
      "Reciprocal condition number/precision: 9.505978150687488e-17 / 1.1102230246251565e-16\n",
      "  RuntimeWarning)\n",
      "/anaconda3/lib/python3.6/site-packages/scipy/linalg/basic.py:40: RuntimeWarning: scipy.linalg.solve\n",
      "Ill-conditioned matrix detected. Result is not guaranteed to be accurate.\n",
      "Reciprocal condition number/precision: 7.430266246133875e-17 / 1.1102230246251565e-16\n",
      "  RuntimeWarning)\n"
     ]
    },
    {
     "name": "stdout",
     "output_type": "stream",
     "text": [
      "The r-squared is 0.3324982872234893 and the RMSE is 1.6739632492571581\n"
     ]
    }
   ],
   "source": [
    "# Ridge Regression seems to be the most promising one, as well as the one most likely to generalize\n",
    "# We use GridSearch to find the optimal value of alpha parameter and whether normalizing helps\n",
    "# We fit on our entire dataset\n",
    "\n",
    "ridge = Ridge()\n",
    "\n",
    "parameters = {'alpha': [0.1,0.25,0.75,1,1.5,2], 'normalize': [True, False]}\n",
    "\n",
    "scorer = make_scorer(r2_score)\n",
    "\n",
    "grid_obj = GridSearchCV(ridge, parameters, scorer)\n",
    "\n",
    "grid_fit = grid_obj.fit(X, y)\n",
    "\n",
    "best_ridge = grid_fit.best_estimator_\n",
    "\n",
    "preds = best_ridge.predict(X)\n",
    "\n",
    "r_2 = best_ridge.score(X,y)\n",
    "\n",
    "rmse = math.sqrt(mean_squared_error(y, preds))\n",
    "\n",
    "print('The r-squared is {} and the RMSE is {}'.format(r_2, rmse))"
   ]
  },
  {
   "cell_type": "code",
   "execution_count": 38,
   "metadata": {},
   "outputs": [
    {
     "data": {
      "text/html": [
       "<div>\n",
       "<style scoped>\n",
       "    .dataframe tbody tr th:only-of-type {\n",
       "        vertical-align: middle;\n",
       "    }\n",
       "\n",
       "    .dataframe tbody tr th {\n",
       "        vertical-align: top;\n",
       "    }\n",
       "\n",
       "    .dataframe thead th {\n",
       "        text-align: right;\n",
       "    }\n",
       "</style>\n",
       "<table border=\"1\" class=\"dataframe\">\n",
       "  <thead>\n",
       "    <tr style=\"text-align: right;\">\n",
       "      <th></th>\n",
       "      <th>Features</th>\n",
       "      <th>Coefficient</th>\n",
       "    </tr>\n",
       "  </thead>\n",
       "  <tbody>\n",
       "    <tr>\n",
       "      <th>165</th>\n",
       "      <td>HopeFiveYears_Working in a career completely u...</td>\n",
       "      <td>-1.388773</td>\n",
       "    </tr>\n",
       "    <tr>\n",
       "      <th>86</th>\n",
       "      <td>Employment_Independent contractor, freelancer,...</td>\n",
       "      <td>-1.008282</td>\n",
       "    </tr>\n",
       "    <tr>\n",
       "      <th>166</th>\n",
       "      <td>HopeFiveYears_Working in a different or more s...</td>\n",
       "      <td>-0.986653</td>\n",
       "    </tr>\n",
       "    <tr>\n",
       "      <th>162</th>\n",
       "      <td>HopeFiveYears_Working as a founder or co-found...</td>\n",
       "      <td>-0.896353</td>\n",
       "    </tr>\n",
       "    <tr>\n",
       "      <th>72</th>\n",
       "      <td>TimeFullyProductive_More than a year</td>\n",
       "      <td>-0.781876</td>\n",
       "    </tr>\n",
       "    <tr>\n",
       "      <th>163</th>\n",
       "      <td>HopeFiveYears_Working as a product manager or ...</td>\n",
       "      <td>-0.740987</td>\n",
       "    </tr>\n",
       "    <tr>\n",
       "      <th>161</th>\n",
       "      <td>HopeFiveYears_Retirement</td>\n",
       "      <td>-0.738686</td>\n",
       "    </tr>\n",
       "    <tr>\n",
       "      <th>164</th>\n",
       "      <td>HopeFiveYears_Working as an engineering manage...</td>\n",
       "      <td>-0.680521</td>\n",
       "    </tr>\n",
       "    <tr>\n",
       "      <th>137</th>\n",
       "      <td>YearsCodingProf_9-11 years</td>\n",
       "      <td>-0.674366</td>\n",
       "    </tr>\n",
       "    <tr>\n",
       "      <th>73</th>\n",
       "      <td>TimeFullyProductive_Nine months to a year</td>\n",
       "      <td>-0.669265</td>\n",
       "    </tr>\n",
       "    <tr>\n",
       "      <th>130</th>\n",
       "      <td>YearsCodingProf_18-20 years</td>\n",
       "      <td>-0.648877</td>\n",
       "    </tr>\n",
       "    <tr>\n",
       "      <th>133</th>\n",
       "      <td>YearsCodingProf_27-29 years</td>\n",
       "      <td>-0.643482</td>\n",
       "    </tr>\n",
       "    <tr>\n",
       "      <th>128</th>\n",
       "      <td>YearsCodingProf_12-14 years</td>\n",
       "      <td>-0.639685</td>\n",
       "    </tr>\n",
       "    <tr>\n",
       "      <th>134</th>\n",
       "      <td>YearsCodingProf_3-5 years</td>\n",
       "      <td>-0.632287</td>\n",
       "    </tr>\n",
       "    <tr>\n",
       "      <th>129</th>\n",
       "      <td>YearsCodingProf_15-17 years</td>\n",
       "      <td>-0.630054</td>\n",
       "    </tr>\n",
       "    <tr>\n",
       "      <th>84</th>\n",
       "      <td>Employment_Employed full-time</td>\n",
       "      <td>-0.624045</td>\n",
       "    </tr>\n",
       "    <tr>\n",
       "      <th>136</th>\n",
       "      <td>YearsCodingProf_6-8 years</td>\n",
       "      <td>-0.601624</td>\n",
       "    </tr>\n",
       "    <tr>\n",
       "      <th>132</th>\n",
       "      <td>YearsCodingProf_24-26 years</td>\n",
       "      <td>-0.592469</td>\n",
       "    </tr>\n",
       "    <tr>\n",
       "      <th>75</th>\n",
       "      <td>TimeFullyProductive_Six to nine months</td>\n",
       "      <td>-0.587283</td>\n",
       "    </tr>\n",
       "    <tr>\n",
       "      <th>76</th>\n",
       "      <td>TimeFullyProductive_Three to six months</td>\n",
       "      <td>-0.569899</td>\n",
       "    </tr>\n",
       "    <tr>\n",
       "      <th>131</th>\n",
       "      <td>YearsCodingProf_21-23 years</td>\n",
       "      <td>-0.569428</td>\n",
       "    </tr>\n",
       "    <tr>\n",
       "      <th>85</th>\n",
       "      <td>Employment_Employed part-time</td>\n",
       "      <td>-0.523418</td>\n",
       "    </tr>\n",
       "    <tr>\n",
       "      <th>135</th>\n",
       "      <td>YearsCodingProf_30 or more years</td>\n",
       "      <td>-0.513604</td>\n",
       "    </tr>\n",
       "    <tr>\n",
       "      <th>74</th>\n",
       "      <td>TimeFullyProductive_One to three months</td>\n",
       "      <td>-0.511757</td>\n",
       "    </tr>\n",
       "    <tr>\n",
       "      <th>127</th>\n",
       "      <td>YearsCodingProf_0-2 years</td>\n",
       "      <td>-0.497870</td>\n",
       "    </tr>\n",
       "    <tr>\n",
       "      <th>71</th>\n",
       "      <td>TimeFullyProductive_Less than a month</td>\n",
       "      <td>-0.456408</td>\n",
       "    </tr>\n",
       "    <tr>\n",
       "      <th>160</th>\n",
       "      <td>HopeFiveYears_Doing the same work</td>\n",
       "      <td>-0.353185</td>\n",
       "    </tr>\n",
       "    <tr>\n",
       "      <th>94</th>\n",
       "      <td>CompanySize_10,000 or more employees</td>\n",
       "      <td>-0.295721</td>\n",
       "    </tr>\n",
       "    <tr>\n",
       "      <th>125</th>\n",
       "      <td>HoursComputer_Less than 1 hour</td>\n",
       "      <td>-0.255888</td>\n",
       "    </tr>\n",
       "    <tr>\n",
       "      <th>80</th>\n",
       "      <td>Age_45 - 54 years old</td>\n",
       "      <td>-0.247509</td>\n",
       "    </tr>\n",
       "    <tr>\n",
       "      <th>...</th>\n",
       "      <td>...</td>\n",
       "      <td>...</td>\n",
       "    </tr>\n",
       "    <tr>\n",
       "      <th>61</th>\n",
       "      <td>UndergradMajor_A humanities discipline (ex. li...</td>\n",
       "      <td>0.042964</td>\n",
       "    </tr>\n",
       "    <tr>\n",
       "      <th>101</th>\n",
       "      <td>YearsCoding_12-14 years</td>\n",
       "      <td>0.052954</td>\n",
       "    </tr>\n",
       "    <tr>\n",
       "      <th>77</th>\n",
       "      <td>Age_18 - 24 years old</td>\n",
       "      <td>0.057177</td>\n",
       "    </tr>\n",
       "    <tr>\n",
       "      <th>54</th>\n",
       "      <td>NumberMonitors_1</td>\n",
       "      <td>0.060848</td>\n",
       "    </tr>\n",
       "    <tr>\n",
       "      <th>105</th>\n",
       "      <td>YearsCoding_24-26 years</td>\n",
       "      <td>0.062471</td>\n",
       "    </tr>\n",
       "    <tr>\n",
       "      <th>21</th>\n",
       "      <td>Engineering manager</td>\n",
       "      <td>0.068455</td>\n",
       "    </tr>\n",
       "    <tr>\n",
       "      <th>59</th>\n",
       "      <td>UndergradMajor_A business discipline (ex. acco...</td>\n",
       "      <td>0.068857</td>\n",
       "    </tr>\n",
       "    <tr>\n",
       "      <th>24</th>\n",
       "      <td>Game or graphics developer</td>\n",
       "      <td>0.070251</td>\n",
       "    </tr>\n",
       "    <tr>\n",
       "      <th>108</th>\n",
       "      <td>YearsCoding_30 or more years</td>\n",
       "      <td>0.074425</td>\n",
       "    </tr>\n",
       "    <tr>\n",
       "      <th>141</th>\n",
       "      <td>OperatingSystem_Windows</td>\n",
       "      <td>0.083099</td>\n",
       "    </tr>\n",
       "    <tr>\n",
       "      <th>58</th>\n",
       "      <td>NumberMonitors_More than 4</td>\n",
       "      <td>0.085518</td>\n",
       "    </tr>\n",
       "    <tr>\n",
       "      <th>27</th>\n",
       "      <td>Product manager</td>\n",
       "      <td>0.088693</td>\n",
       "    </tr>\n",
       "    <tr>\n",
       "      <th>5</th>\n",
       "      <td>Participated in a hackathon</td>\n",
       "      <td>0.090761</td>\n",
       "    </tr>\n",
       "    <tr>\n",
       "      <th>14</th>\n",
       "      <td>Data scientist or machine learning specialist</td>\n",
       "      <td>0.112018</td>\n",
       "    </tr>\n",
       "    <tr>\n",
       "      <th>139</th>\n",
       "      <td>OperatingSystem_Linux-based</td>\n",
       "      <td>0.121639</td>\n",
       "    </tr>\n",
       "    <tr>\n",
       "      <th>29</th>\n",
       "      <td>Student</td>\n",
       "      <td>0.123542</td>\n",
       "    </tr>\n",
       "    <tr>\n",
       "      <th>7</th>\n",
       "      <td>Received on-the-job training in software devel...</td>\n",
       "      <td>0.124887</td>\n",
       "    </tr>\n",
       "    <tr>\n",
       "      <th>63</th>\n",
       "      <td>UndergradMajor_A social science (ex. anthropol...</td>\n",
       "      <td>0.129326</td>\n",
       "    </tr>\n",
       "    <tr>\n",
       "      <th>55</th>\n",
       "      <td>NumberMonitors_2</td>\n",
       "      <td>0.132758</td>\n",
       "    </tr>\n",
       "    <tr>\n",
       "      <th>19</th>\n",
       "      <td>Educator or academic researcher</td>\n",
       "      <td>0.136783</td>\n",
       "    </tr>\n",
       "    <tr>\n",
       "      <th>37</th>\n",
       "      <td>White or of European descent</td>\n",
       "      <td>0.160267</td>\n",
       "    </tr>\n",
       "    <tr>\n",
       "      <th>155</th>\n",
       "      <td>FormalEducation_Other doctoral degree (Ph.D, E...</td>\n",
       "      <td>0.169710</td>\n",
       "    </tr>\n",
       "    <tr>\n",
       "      <th>83</th>\n",
       "      <td>Age_Under 18 years old</td>\n",
       "      <td>0.180857</td>\n",
       "    </tr>\n",
       "    <tr>\n",
       "      <th>140</th>\n",
       "      <td>OperatingSystem_MacOS</td>\n",
       "      <td>0.221015</td>\n",
       "    </tr>\n",
       "    <tr>\n",
       "      <th>57</th>\n",
       "      <td>NumberMonitors_4</td>\n",
       "      <td>0.229096</td>\n",
       "    </tr>\n",
       "    <tr>\n",
       "      <th>56</th>\n",
       "      <td>NumberMonitors_3</td>\n",
       "      <td>0.262552</td>\n",
       "    </tr>\n",
       "    <tr>\n",
       "      <th>12</th>\n",
       "      <td>C-suite executive (CEO, CTO, etc.)</td>\n",
       "      <td>0.300298</td>\n",
       "    </tr>\n",
       "    <tr>\n",
       "      <th>87</th>\n",
       "      <td>Employment_Not employed, and not looking for work</td>\n",
       "      <td>0.797572</td>\n",
       "    </tr>\n",
       "    <tr>\n",
       "      <th>89</th>\n",
       "      <td>Employment_Retired</td>\n",
       "      <td>0.956839</td>\n",
       "    </tr>\n",
       "    <tr>\n",
       "      <th>88</th>\n",
       "      <td>Employment_Not employed, but looking for work</td>\n",
       "      <td>1.113962</td>\n",
       "    </tr>\n",
       "  </tbody>\n",
       "</table>\n",
       "<p>167 rows × 2 columns</p>\n",
       "</div>"
      ],
      "text/plain": [
       "                                              Features  Coefficient\n",
       "165  HopeFiveYears_Working in a career completely u...    -1.388773\n",
       "86   Employment_Independent contractor, freelancer,...    -1.008282\n",
       "166  HopeFiveYears_Working in a different or more s...    -0.986653\n",
       "162  HopeFiveYears_Working as a founder or co-found...    -0.896353\n",
       "72                TimeFullyProductive_More than a year    -0.781876\n",
       "163  HopeFiveYears_Working as a product manager or ...    -0.740987\n",
       "161                           HopeFiveYears_Retirement    -0.738686\n",
       "164  HopeFiveYears_Working as an engineering manage...    -0.680521\n",
       "137                         YearsCodingProf_9-11 years    -0.674366\n",
       "73           TimeFullyProductive_Nine months to a year    -0.669265\n",
       "130                        YearsCodingProf_18-20 years    -0.648877\n",
       "133                        YearsCodingProf_27-29 years    -0.643482\n",
       "128                        YearsCodingProf_12-14 years    -0.639685\n",
       "134                          YearsCodingProf_3-5 years    -0.632287\n",
       "129                        YearsCodingProf_15-17 years    -0.630054\n",
       "84                       Employment_Employed full-time    -0.624045\n",
       "136                          YearsCodingProf_6-8 years    -0.601624\n",
       "132                        YearsCodingProf_24-26 years    -0.592469\n",
       "75              TimeFullyProductive_Six to nine months    -0.587283\n",
       "76             TimeFullyProductive_Three to six months    -0.569899\n",
       "131                        YearsCodingProf_21-23 years    -0.569428\n",
       "85                       Employment_Employed part-time    -0.523418\n",
       "135                   YearsCodingProf_30 or more years    -0.513604\n",
       "74             TimeFullyProductive_One to three months    -0.511757\n",
       "127                          YearsCodingProf_0-2 years    -0.497870\n",
       "71               TimeFullyProductive_Less than a month    -0.456408\n",
       "160                  HopeFiveYears_Doing the same work    -0.353185\n",
       "94                CompanySize_10,000 or more employees    -0.295721\n",
       "125                     HoursComputer_Less than 1 hour    -0.255888\n",
       "80                               Age_45 - 54 years old    -0.247509\n",
       "..                                                 ...          ...\n",
       "61   UndergradMajor_A humanities discipline (ex. li...     0.042964\n",
       "101                            YearsCoding_12-14 years     0.052954\n",
       "77                               Age_18 - 24 years old     0.057177\n",
       "54                                    NumberMonitors_1     0.060848\n",
       "105                            YearsCoding_24-26 years     0.062471\n",
       "21                                 Engineering manager     0.068455\n",
       "59   UndergradMajor_A business discipline (ex. acco...     0.068857\n",
       "24                          Game or graphics developer     0.070251\n",
       "108                       YearsCoding_30 or more years     0.074425\n",
       "141                            OperatingSystem_Windows     0.083099\n",
       "58                          NumberMonitors_More than 4     0.085518\n",
       "27                                     Product manager     0.088693\n",
       "5                          Participated in a hackathon     0.090761\n",
       "14       Data scientist or machine learning specialist     0.112018\n",
       "139                        OperatingSystem_Linux-based     0.121639\n",
       "29                                             Student     0.123542\n",
       "7    Received on-the-job training in software devel...     0.124887\n",
       "63   UndergradMajor_A social science (ex. anthropol...     0.129326\n",
       "55                                    NumberMonitors_2     0.132758\n",
       "19                     Educator or academic researcher     0.136783\n",
       "37                        White or of European descent     0.160267\n",
       "155  FormalEducation_Other doctoral degree (Ph.D, E...     0.169710\n",
       "83                              Age_Under 18 years old     0.180857\n",
       "140                              OperatingSystem_MacOS     0.221015\n",
       "57                                    NumberMonitors_4     0.229096\n",
       "56                                    NumberMonitors_3     0.262552\n",
       "12                  C-suite executive (CEO, CTO, etc.)     0.300298\n",
       "87   Employment_Not employed, and not looking for work     0.797572\n",
       "89                                  Employment_Retired     0.956839\n",
       "88       Employment_Not employed, but looking for work     1.113962\n",
       "\n",
       "[167 rows x 2 columns]"
      ]
     },
     "execution_count": 38,
     "metadata": {},
     "output_type": "execute_result"
    }
   ],
   "source": [
    "coef_df = pd.DataFrame({'Features':X.columns, 'Coefficient': best_ridge.coef_})\n",
    "coef_df[['Features', 'Coefficient']].sort_values('Coefficient', axis = 0)"
   ]
  },
  {
   "cell_type": "markdown",
   "metadata": {},
   "source": [
    "### Interpretation"
   ]
  },
  {
   "cell_type": "markdown",
   "metadata": {},
   "source": [
    "Good news: developers in general are happy with their job, with an average rating between sligthly and moderately satisfied. There is no significant difference for the subgroup of data scientists, with a slight tendency to have a higher satisfaction and to rate as being extremely satisfied. \n",
    "\n",
    "We can build a model to see which elements correlate most closely with a high or low satisfaction at work. Our model only explains 35% of the variability in the job satisfaction, but we find that C-suite executives, those with a lot of monitors, with PhD's, younger, product managers who constantly acquire new skills are the happiest while contractors or part-time employees later in their careers, as well as people in very large companies, tend to have lower job satisfaction. The sweet spot: mid sized company, where they have opportunities for growth and learning and are well-treated (number of monitors)."
   ]
  },
  {
   "cell_type": "markdown",
   "metadata": {},
   "source": [
    "## Archetypes"
   ]
  },
  {
   "cell_type": "markdown",
   "metadata": {},
   "source": [
    "Subset only a few variables of interest (salary, education, languages used, big/small company, job satisfaction, experience) Drill in within the data scientist profession in the US, and repeat the analysis for developers, comparing the two. Use the dummy variable for DS here, and do the clustering on the two subsets.\n",
    "\n",
    "We will only create 3 clusters, because we do not want to get at an optimal solution but rather extract some underlying structure of the data."
   ]
  },
  {
   "cell_type": "code",
   "execution_count": 39,
   "metadata": {},
   "outputs": [],
   "source": [
    "# We start by creating a copy of our data frame\n",
    "data_2018_cluster = data_2018.copy()\n",
    "\n",
    "# We drop the respondent variable which is simply an identifier\n",
    "data_2018_cluster.drop('Respondent', axis = 1, inplace = True)"
   ]
  },
  {
   "cell_type": "code",
   "execution_count": 48,
   "metadata": {},
   "outputs": [],
   "source": [
    "# We create a function to prepare our data for clustering\n",
    "def prepare_clustering(df, features):\n",
    "    '''\n",
    "    A function to prepare our data for clustering\n",
    "    \n",
    "    INPUT:\n",
    "    df - a Pandas dataframe to prepare for clustering\n",
    "    predictors - a list of column names from the original df we want to keep for clustering\n",
    "\n",
    "    OUTPUT:\n",
    "    a dataframe scaled, subsetted with categorical variables encoded\n",
    "    '''\n",
    "    # We only keep the desired features\n",
    "    df_subset = df.loc[:,features]\n",
    "    \n",
    "    # We deal with the columns that have values separated by a semi-colon\n",
    "    for c in ['EducationTypes', 'DevType', 'RaceEthnicity', 'Gender', 'SexualOrientation']:\n",
    "        df_subset = pd.concat([df_subset, df_subset[c].str.get_dummies(sep = ';')], \n",
    "                                        axis = 1)\n",
    "        df_subset.drop(c, inplace = True, axis = 1)\n",
    "    \n",
    "    # We impute missing values for the salary and job satisfaction columns\n",
    "\n",
    "    for c in ['ConvertedSalary', 'JobSatisfaction']:\n",
    "        df_subset[c] = df_subset[c].fillna(df_subset[c].median())\n",
    "\n",
    "    # We create our dummy variables\n",
    "    df_dummies = pd.get_dummies(df_subset)\n",
    "\n",
    "    # We standardize our data\n",
    "    scaler = StandardScaler()\n",
    "    df_scaled = scaler.fit_transform(df_dummies)\n",
    "    df_scaled = pd.DataFrame(df_scaled, columns = df_dummies.columns)\n",
    "    \n",
    "    return(df_scaled)"
   ]
  },
  {
   "cell_type": "code",
   "execution_count": 49,
   "metadata": {},
   "outputs": [],
   "source": [
    "# # We focus on a subset of our variables to build our model\n",
    "# # We choose them based on domain-knowledge and our intuition\n",
    "\n",
    "# predictors = ['Hobby', 'Country', 'Exercise', 'Gender', 'OpenSource', 'EducationTypes',\n",
    "#               'SexualOrientation', 'DataScientist', 'NumberMonitors', 'UndergradMajor', 'TimeFullyProductive',\n",
    "#               'RaceEthnicity', 'Age', 'Employment', 'Dependents', 'CompanySize', \n",
    "#               'YearsCoding', 'WakeTime', 'HoursComputer', 'YearsCodingProf', 'OperatingSystem',\n",
    "#              'HoursOutside', 'SkipMeals', 'FormalEducation', 'HopeFiveYears',\n",
    "#               'ConvertedSalary', 'JobSatisfaction', 'DevType']\n",
    "\n",
    "\n",
    "# data_2018_cluster_subset = data_2018_cluster.loc[:,predictors]\n",
    "\n",
    "# for c in ['EducationTypes', 'DevType', 'RaceEthnicity', 'Gender', 'SexualOrientation']:\n",
    "#     data_2018_cluster_subset = pd.concat([data_2018_cluster_subset, data_2018_cluster_subset[c].str.get_dummies(sep = ';')], \n",
    "#                                         axis = 1)\n",
    "#     data_2018_cluster_subset.drop(c, inplace = True, axis = 1)\n",
    "    \n",
    "# # We impute missing values for the salary and job satisfaction columns\n",
    "\n",
    "# for c in ['ConvertedSalary', 'JobSatisfaction']:\n",
    "#     data_2018_cluster_subset[c] = data_2018_cluster_subset[c].fillna(data_2018_cluster_subset[c].median())\n",
    "\n",
    "# # We create our dummy variables\n",
    "# data_2018_cluster_dummies = pd.get_dummies(data_2018_cluster_subset)\n",
    "\n",
    "# # We standardize our data\n",
    "# scaler = StandardScaler()\n",
    "# cluster_data_scaled = scaler.fit_transform(data_2018_cluster_dummies)\n",
    "# cluster_data_scaled = pd.DataFrame(cluster_data_scaled, columns = data_2018_cluster_dummies.columns)"
   ]
  },
  {
   "cell_type": "code",
   "execution_count": 50,
   "metadata": {},
   "outputs": [],
   "source": [
    "def cluster(df, k):\n",
    "    '''\n",
    "    A function to run the K-Means algorithm\n",
    "    \n",
    "    INPUTS:\n",
    "    df - data we want to cluster\n",
    "    k - number of clusters desired\n",
    "\n",
    "    OUTPUT:\n",
    "    a dataframe of features as observations and clusters as columns, values being the center value\n",
    "    '''\n",
    "    \n",
    "    model = KMeans(n_clusters=k)\n",
    "    model.fit(df)\n",
    "    first_cluster_center = model.cluster_centers_[0]\n",
    "    second_cluster_center = model.cluster_centers_[1]\n",
    "    third_cluster_center = model.cluster_centers_[2]\n",
    "    \n",
    "    centers_df = pd.DataFrame({'Feature': df.columns.values,\n",
    "                               'First Cluster Center': first_cluster_center,\n",
    "                               'Second Cluster Center': second_cluster_center,\n",
    "                               'Third Cluster Center': third_cluster_center})\n",
    "    \n",
    "    return centers_df"
   ]
  },
  {
   "cell_type": "code",
   "execution_count": 51,
   "metadata": {},
   "outputs": [],
   "source": [
    "# We focus on a subset of our variables to cluster our data\n",
    "# We choose them based on domain-knowledge, to try and have interpretable results\n",
    "\n",
    "predictors = ['Hobby', 'Country', 'Exercise', 'Gender', 'OpenSource', 'EducationTypes',\n",
    "              'SexualOrientation', 'DataScientist', 'NumberMonitors', 'UndergradMajor', 'TimeFullyProductive',\n",
    "              'RaceEthnicity', 'Age', 'Employment', 'Dependents', 'CompanySize', \n",
    "              'YearsCoding', 'WakeTime', 'HoursComputer', 'YearsCodingProf', 'OperatingSystem',\n",
    "             'HoursOutside', 'SkipMeals', 'FormalEducation', 'HopeFiveYears',\n",
    "              'ConvertedSalary', 'JobSatisfaction', 'DevType']\n",
    "\n",
    "# We then prepare the data for analysis\n",
    "cluster_data_scaled = prepare_clustering(data_2018_cluster, predictors)"
   ]
  },
  {
   "cell_type": "code",
   "execution_count": 52,
   "metadata": {},
   "outputs": [],
   "source": [
    "# We extract three clusters for the whole dataset\n",
    "overall_centers = cluster(cluster_data_scaled, 3)"
   ]
  },
  {
   "cell_type": "code",
   "execution_count": 53,
   "metadata": {},
   "outputs": [],
   "source": [
    "def extract_top_features(center_df, k, top = 5):\n",
    "    '''\n",
    "    A function to extract the features with the most weights in the center of the clusters\n",
    "    \n",
    "    INPUTS:\n",
    "    center_df - a dataframe with centers for various clusters\n",
    "    k - which cluster we want to focus on\n",
    "    top - how many features to visualize\n",
    "\n",
    "    OUTPUT:\n",
    "    prints out the most important features for this cluster\n",
    "    '''\n",
    "    \n",
    "    chosen_cluster = center_df.set_index('Feature').iloc[:,k]\n",
    "    ordered_centers = chosen_cluster.sort_values()\n",
    "    \n",
    "    print('The top {} negative features are: \\n {} \\n \\nWhile the top {} positive features are \\n {}'.format(\n",
    "    top, ordered_centers[:top], top, ordered_centers[-(top+1):-1]))"
   ]
  },
  {
   "cell_type": "code",
   "execution_count": 54,
   "metadata": {},
   "outputs": [
    {
     "name": "stdout",
     "output_type": "stream",
     "text": [
      "The top 5 negative features are: \n",
      " Feature\n",
      "Male                                                                                -0.889699\n",
      "Straight or heterosexual                                                            -0.886009\n",
      "Taught yourself a new language, framework, or tool without taking a formal course   -0.797775\n",
      "White or of European descent                                                        -0.722007\n",
      "Age_25 - 34 years old                                                               -0.662998\n",
      "Name: First Cluster Center, dtype: float64 \n",
      " \n",
      "While the top 5 positive features are \n",
      " Feature\n",
      "YearsCodingProf_0-2 years                            0.327534\n",
      "Employment_Not employed, and not looking for work    0.401300\n",
      "Employment_Not employed, but looking for work        0.425957\n",
      "YearsCoding_0-2 years                                0.450079\n",
      "JobSatisfaction                                      0.475707\n",
      "Name: First Cluster Center, dtype: float64\n"
     ]
    }
   ],
   "source": [
    "# Looking at the first cluster\n",
    "extract_top_features(overall_centers,0, top = 5)"
   ]
  },
  {
   "cell_type": "code",
   "execution_count": 55,
   "metadata": {},
   "outputs": [
    {
     "name": "stdout",
     "output_type": "stream",
     "text": [
      "The top 5 negative features are: \n",
      " Feature\n",
      "Age_25 - 34 years old       -0.626907\n",
      "YearsCodingProf_0-2 years   -0.555618\n",
      "YearsCoding_3-5 years       -0.525311\n",
      "YearsCodingProf_3-5 years   -0.492968\n",
      "Age_18 - 24 years old       -0.474287\n",
      "Name: Second Cluster Center, dtype: float64 \n",
      " \n",
      "While the top 5 positive features are \n",
      " Feature\n",
      "YearsCodingProf_15-17 years     0.683072\n",
      "YearsCodingProf_18-20 years     0.701451\n",
      "YearsCoding_30 or more years    0.754977\n",
      "Age_45 - 54 years old           0.793184\n",
      "Dependents_Yes                  0.981694\n",
      "Name: Second Cluster Center, dtype: float64\n"
     ]
    }
   ],
   "source": [
    "# The second cluster\n",
    "extract_top_features(overall_centers,1)"
   ]
  },
  {
   "cell_type": "code",
   "execution_count": 56,
   "metadata": {},
   "outputs": [
    {
     "name": "stdout",
     "output_type": "stream",
     "text": [
      "The top 5 negative features are: \n",
      " Feature\n",
      "Age_35 - 44 years old                           -0.309411\n",
      "JobSatisfaction                                 -0.243764\n",
      "Student                                         -0.204229\n",
      "YearsCoding_30 or more years                    -0.204036\n",
      "Employment_Not employed, but looking for work   -0.198638\n",
      "Name: Third Cluster Center, dtype: float64 \n",
      " \n",
      "While the top 5 positive features are \n",
      " Feature\n",
      "YearsCodingProf_3-5 years                                                            0.319546\n",
      "Taught yourself a new language, framework, or tool without taking a formal course    0.336149\n",
      "Male                                                                                 0.399476\n",
      "Straight or heterosexual                                                             0.403837\n",
      "Dependents_No                                                                        0.475981\n",
      "Name: Third Cluster Center, dtype: float64\n"
     ]
    }
   ],
   "source": [
    "# And the third cluster\n",
    "extract_top_features(overall_centers,2)"
   ]
  },
  {
   "cell_type": "code",
   "execution_count": 57,
   "metadata": {},
   "outputs": [],
   "source": [
    "# Repeating the analysis for data scientists\n",
    "# We drop the data scientist column because it could unfairly influence our clustering\n",
    "data_scientist = data_2018_cluster.DataScientist == 1\n",
    "data_2018_cluster_DS = data_2018_cluster.loc[data_scientist,:]\n",
    "\n",
    "DS_scaled = prepare_clustering(data_2018_cluster_DS, predictors)\n",
    "DS_scaled.drop('DataScientist', inplace = True, axis = 1)\n",
    "DS_centers = cluster(DS_scaled, 3)"
   ]
  },
  {
   "cell_type": "code",
   "execution_count": 58,
   "metadata": {},
   "outputs": [
    {
     "name": "stdout",
     "output_type": "stream",
     "text": [
      "The top 10 negative features are: \n",
      " Feature\n",
      "Database administrator                         -0.293996\n",
      "Age_35 - 44 years old                          -0.274591\n",
      "Desktop or enterprise applications developer   -0.265151\n",
      "Designer                                       -0.264030\n",
      "Front-end developer                            -0.255527\n",
      "Dependents_Yes                                 -0.255524\n",
      "YearsCoding_30 or more years                   -0.252414\n",
      "System administrator                           -0.252013\n",
      "Data or business analyst                       -0.248392\n",
      "Back-end developer                             -0.231131\n",
      "Name: First Cluster Center, dtype: float64 \n",
      " \n",
      "While the top 10 positive features are \n",
      " Feature\n",
      "Taken an online course in programming or software development (e.g. a MOOC)                        0.246802\n",
      "HopeFiveYears_Working in a different or more specialized technical role than the one I'm in now    0.252679\n",
      "YearsCodingProf_3-5 years                                                                          0.273892\n",
      "Data scientist or machine learning specialist                                                      0.275810\n",
      "Taught yourself a new language, framework, or tool without taking a formal course                  0.303248\n",
      "YearsCodingProf_0-2 years                                                                          0.310502\n",
      "Age_18 - 24 years old                                                                              0.351291\n",
      "Male                                                                                               0.360192\n",
      "Straight or heterosexual                                                                           0.376022\n",
      "Age_25 - 34 years old                                                                              0.461354\n",
      "Name: First Cluster Center, dtype: float64\n"
     ]
    }
   ],
   "source": [
    "# For the first cluster\n",
    "extract_top_features(DS_centers,0, 10)"
   ]
  },
  {
   "cell_type": "code",
   "execution_count": 59,
   "metadata": {},
   "outputs": [
    {
     "name": "stdout",
     "output_type": "stream",
     "text": [
      "The top 10 negative features are: \n",
      " Feature\n",
      "Male                                                                                -1.457613\n",
      "Straight or heterosexual                                                            -1.404301\n",
      "Taught yourself a new language, framework, or tool without taking a formal course   -1.247654\n",
      "White or of European descent                                                        -1.057524\n",
      "Dependents_No                                                                       -0.919853\n",
      "Age_25 - 34 years old                                                               -0.697396\n",
      "Taken an online course in programming or software development (e.g. a MOOC)         -0.681664\n",
      "SkipMeals_Never                                                                     -0.591754\n",
      "Contributed to open source software                                                 -0.546791\n",
      "Dependents_Yes                                                                      -0.512615\n",
      "Name: Second Cluster Center, dtype: float64 \n",
      " \n",
      "While the top 10 positive features are \n",
      " Feature\n",
      "Country_Bangladesh                               0.106191\n",
      "UndergradMajor_Web development or web design     0.106293\n",
      "Country_Indonesia                                0.109775\n",
      "Country_China                                    0.112845\n",
      "Designer                                         0.129813\n",
      "Student                                          0.148599\n",
      "YearsCoding_3-5 years                            0.174785\n",
      "Employment_Not employed, but looking for work    0.182333\n",
      "YearsCoding_0-2 years                            0.275791\n",
      "Country_India                                    0.321177\n",
      "Name: Second Cluster Center, dtype: float64\n"
     ]
    }
   ],
   "source": [
    "# For the second cluster\n",
    "extract_top_features(DS_centers,1, 10)"
   ]
  },
  {
   "cell_type": "code",
   "execution_count": 60,
   "metadata": {},
   "outputs": [
    {
     "name": "stdout",
     "output_type": "stream",
     "text": [
      "The top 10 negative features are: \n",
      " Feature\n",
      "YearsCodingProf_0-2 years                       -0.529659\n",
      "YearsCoding_3-5 years                           -0.424001\n",
      "Data scientist or machine learning specialist   -0.371370\n",
      "YearsCodingProf_3-5 years                       -0.344290\n",
      "Student                                         -0.336414\n",
      "Age_18 - 24 years old                           -0.326818\n",
      "YearsCoding_6-8 years                           -0.324192\n",
      "Dependents_No                                   -0.297533\n",
      "YearsCoding_0-2 years                           -0.257151\n",
      "Country_India                                   -0.240722\n",
      "Name: Third Cluster Center, dtype: float64 \n",
      " \n",
      "While the top 10 positive features are \n",
      " Feature\n",
      "YearsCodingProf_18-20 years                     0.390190\n",
      "Full-stack developer                            0.398050\n",
      "Desktop or enterprise applications developer    0.403724\n",
      "Database administrator                          0.412451\n",
      "System administrator                            0.415460\n",
      "Male                                            0.418386\n",
      "White or of European descent                    0.430396\n",
      "YearsCoding_30 or more years                    0.470196\n",
      "Age_45 - 54 years old                           0.477359\n",
      "Age_35 - 44 years old                           0.692351\n",
      "Name: Third Cluster Center, dtype: float64\n"
     ]
    }
   ],
   "source": [
    "# The third cluster\n",
    "extract_top_features(DS_centers, 2, 10)"
   ]
  },
  {
   "cell_type": "code",
   "execution_count": 61,
   "metadata": {},
   "outputs": [],
   "source": [
    "# Finally for non-data scientists\n",
    "data_2018_cluster_noDS = data_2018_cluster.loc[data_scientist == False,:]\n",
    "\n",
    "noDS_scaled = prepare_clustering(data_2018_cluster_noDS, predictors)\n",
    "noDS_centers = cluster(DS_scaled, 3)"
   ]
  },
  {
   "cell_type": "code",
   "execution_count": 62,
   "metadata": {},
   "outputs": [
    {
     "name": "stdout",
     "output_type": "stream",
     "text": [
      "The top 5 negative features are: \n",
      " Feature\n",
      "YearsCodingProf_0-2 years                       -0.532663\n",
      "YearsCoding_3-5 years                           -0.422877\n",
      "Data scientist or machine learning specialist   -0.365668\n",
      "YearsCodingProf_3-5 years                       -0.345431\n",
      "Student                                         -0.343631\n",
      "Name: First Cluster Center, dtype: float64 \n",
      " \n",
      "While the top 5 positive features are \n",
      " Feature\n",
      "Male                            0.418031\n",
      "White or of European descent    0.428467\n",
      "YearsCoding_30 or more years    0.456664\n",
      "Age_45 - 54 years old           0.464158\n",
      "Age_35 - 44 years old           0.691448\n",
      "Name: First Cluster Center, dtype: float64\n"
     ]
    }
   ],
   "source": [
    "# Looking at the first cluster\n",
    "extract_top_features(noDS_centers,0)"
   ]
  },
  {
   "cell_type": "code",
   "execution_count": 63,
   "metadata": {},
   "outputs": [
    {
     "name": "stdout",
     "output_type": "stream",
     "text": [
      "The top 5 negative features are: \n",
      " Feature\n",
      "Database administrator                         -0.291608\n",
      "Age_35 - 44 years old                          -0.287871\n",
      "Desktop or enterprise applications developer   -0.271838\n",
      "Dependents_Yes                                 -0.263121\n",
      "Designer                                       -0.257407\n",
      "Name: Second Cluster Center, dtype: float64 \n",
      " \n",
      "While the top 5 positive features are \n",
      " Feature\n",
      "YearsCodingProf_0-2 years    0.329429\n",
      "Male                         0.360414\n",
      "Age_18 - 24 years old        0.367488\n",
      "Straight or heterosexual     0.370339\n",
      "Age_25 - 34 years old        0.458903\n",
      "Name: Second Cluster Center, dtype: float64\n"
     ]
    }
   ],
   "source": [
    "# Second cluster\n",
    "extract_top_features(noDS_centers,1)"
   ]
  },
  {
   "cell_type": "code",
   "execution_count": null,
   "metadata": {},
   "outputs": [],
   "source": [
    "# Third Cluster\n",
    "extract_top_features(noDS_centers,2)"
   ]
  },
  {
   "cell_type": "markdown",
   "metadata": {},
   "source": [
    "### Interpretation"
   ]
  },
  {
   "cell_type": "markdown",
   "metadata": {},
   "source": [
    "Among respondents of the survey, we have three main archetypes of respondents:\n",
    "-\tUnemployed young developers who only started to code recently\n",
    "-\tMod-career male coders who spend time learning new skills\n",
    "-\tOlder professionals with children who work in more traditional software development roles\n",
    "\n",
    "Drilling deeper, among data scientists:\n",
    "-\tWhite males, mid-career, who switched from a career in more traditional software development such as database or system administrator\n",
    "-\tPeople from Asian ethnicity who studied computer science in school and are early in their career\n",
    "-\tYoung professionals who are taking advantage of online learning opportunities to slowly transition into more technical roles"
   ]
  },
  {
   "cell_type": "code",
   "execution_count": null,
   "metadata": {},
   "outputs": [],
   "source": []
  },
  {
   "cell_type": "code",
   "execution_count": null,
   "metadata": {},
   "outputs": [],
   "source": []
  }
 ],
 "metadata": {
  "kernelspec": {
   "display_name": "Python [conda env:anaconda3]",
   "language": "python",
   "name": "conda-env-anaconda3-py"
  },
  "language_info": {
   "codemirror_mode": {
    "name": "ipython",
    "version": 3
   },
   "file_extension": ".py",
   "mimetype": "text/x-python",
   "name": "python",
   "nbconvert_exporter": "python",
   "pygments_lexer": "ipython3",
   "version": "3.6.6"
  }
 },
 "nbformat": 4,
 "nbformat_minor": 2
}
