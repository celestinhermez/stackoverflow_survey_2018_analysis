{
 "cells": [
  {
   "cell_type": "markdown",
   "metadata": {},
   "source": [
    "# Developer Survey Analysis\n",
    "\n",
    "The goal is this analysis is to analyze the 2018 survey results and gain relevant insights pertaining to the Data Scientist profession. In particular, we want to see whether they differ from developers. Some questions we are interested in right off the bat are:\n",
    "- what are the most popular languages/technologies among developers? Among data scientists?\n",
    "- what are the determinants of job satisfaction? Do data scientists seem more/less satisfied with their jobs, after controlling for confounding variables?\n",
    "- is it possible to extract different data scientist \"archetypes\" from this survey? Do they differ from developers as a broader group?\n",
    "\n",
    "We will leverage descriptive statistics as well as modeling to answer all these questions. We will analyze the results collected by Stack Overflow and made publicly available [here](https://insights.stackoverflow.com/survey)."
   ]
  },
  {
   "cell_type": "code",
   "execution_count": 52,
   "metadata": {},
   "outputs": [],
   "source": [
    "# We start by loading the necessary libraries\n",
    "import pandas as pd\n",
    "import numpy as np\n",
    "import matplotlib.pyplot as plt\n",
    "import zipfile\n",
    "import os\n",
    "import re\n",
    "from collections import defaultdict\n",
    "\n",
    "%matplotlib inline"
   ]
  },
  {
   "cell_type": "markdown",
   "metadata": {},
   "source": [
    "## Loading the Data"
   ]
  },
  {
   "cell_type": "code",
   "execution_count": 2,
   "metadata": {},
   "outputs": [
    {
     "name": "stderr",
     "output_type": "stream",
     "text": [
      "/anaconda3/lib/python3.6/site-packages/IPython/core/interactiveshell.py:2728: DtypeWarning: Columns (8,12,13,14,15,16,50,51,52,53,55,56,57,58,59,60,61,62,63,64,65,66,67,68,69,70,71,72,73,74,75,76,77,78,79,80,81,82,83,84,85,93,94,95,96,97,98,99,100,101,102,103,104,105,106,107,108,109,110,111,112,113,114,115,116,117,118,119,120,121,122,123,124,125,126,127,128) have mixed types. Specify dtype option on import or set low_memory=False.\n",
      "  interactivity=interactivity, compiler=compiler, result=result)\n"
     ]
    }
   ],
   "source": [
    "# We first extract the file from its archive and then ingest it into Pandas\n",
    "\n",
    "zip_ref = zipfile.ZipFile('developer_survey_2018.zip', 'r')\n",
    "zip_ref.extractall(os.getcwd())\n",
    "zip_ref.close()\n",
    "\n",
    "data_2018 = pd.read_csv('survey_results_public.csv')\n",
    "schema_2018 = pd.read_csv('survey_results_schema.csv')"
   ]
  },
  {
   "cell_type": "markdown",
   "metadata": {},
   "source": [
    "## Initial Assessment"
   ]
  },
  {
   "cell_type": "code",
   "execution_count": 3,
   "metadata": {},
   "outputs": [
    {
     "name": "stdout",
     "output_type": "stream",
     "text": [
      "The 2018 survey results have 98855 respondents and 129 variables\n"
     ]
    }
   ],
   "source": [
    "print('The 2018 survey results have {} respondents and {} variables'.format(str(data_2018.shape[0]),\n",
    "                            str(data_2018.shape[1])))"
   ]
  },
  {
   "cell_type": "code",
   "execution_count": 4,
   "metadata": {},
   "outputs": [
    {
     "data": {
      "text/html": [
       "<div>\n",
       "<style scoped>\n",
       "    .dataframe tbody tr th:only-of-type {\n",
       "        vertical-align: middle;\n",
       "    }\n",
       "\n",
       "    .dataframe tbody tr th {\n",
       "        vertical-align: top;\n",
       "    }\n",
       "\n",
       "    .dataframe thead th {\n",
       "        text-align: right;\n",
       "    }\n",
       "</style>\n",
       "<table border=\"1\" class=\"dataframe\">\n",
       "  <thead>\n",
       "    <tr style=\"text-align: right;\">\n",
       "      <th></th>\n",
       "      <th>Column</th>\n",
       "      <th>QuestionText</th>\n",
       "    </tr>\n",
       "  </thead>\n",
       "  <tbody>\n",
       "    <tr>\n",
       "      <th>0</th>\n",
       "      <td>Respondent</td>\n",
       "      <td>Randomized respondent ID number (not in order ...</td>\n",
       "    </tr>\n",
       "    <tr>\n",
       "      <th>1</th>\n",
       "      <td>Hobby</td>\n",
       "      <td>Do you code as a hobby?</td>\n",
       "    </tr>\n",
       "    <tr>\n",
       "      <th>2</th>\n",
       "      <td>OpenSource</td>\n",
       "      <td>Do you contribute to open source projects?</td>\n",
       "    </tr>\n",
       "    <tr>\n",
       "      <th>3</th>\n",
       "      <td>Country</td>\n",
       "      <td>In which country do you currently reside?</td>\n",
       "    </tr>\n",
       "    <tr>\n",
       "      <th>4</th>\n",
       "      <td>Student</td>\n",
       "      <td>Are you currently enrolled in a formal, degree...</td>\n",
       "    </tr>\n",
       "  </tbody>\n",
       "</table>\n",
       "</div>"
      ],
      "text/plain": [
       "       Column                                       QuestionText\n",
       "0  Respondent  Randomized respondent ID number (not in order ...\n",
       "1       Hobby                            Do you code as a hobby?\n",
       "2  OpenSource         Do you contribute to open source projects?\n",
       "3     Country          In which country do you currently reside?\n",
       "4     Student  Are you currently enrolled in a formal, degree..."
      ]
     },
     "execution_count": 4,
     "metadata": {},
     "output_type": "execute_result"
    }
   ],
   "source": [
    "# The schema will serve as a useful guide\n",
    "schema_2018.head()"
   ]
  },
  {
   "cell_type": "code",
   "execution_count": 5,
   "metadata": {},
   "outputs": [
    {
     "data": {
      "text/plain": [
       "Respondent                       int64\n",
       "Hobby                           object\n",
       "OpenSource                      object\n",
       "Country                         object\n",
       "Student                         object\n",
       "Employment                      object\n",
       "FormalEducation                 object\n",
       "UndergradMajor                  object\n",
       "CompanySize                     object\n",
       "DevType                         object\n",
       "YearsCoding                     object\n",
       "YearsCodingProf                 object\n",
       "JobSatisfaction                 object\n",
       "CareerSatisfaction              object\n",
       "HopeFiveYears                   object\n",
       "JobSearchStatus                 object\n",
       "LastNewJob                      object\n",
       "AssessJob1                     float64\n",
       "AssessJob2                     float64\n",
       "AssessJob3                     float64\n",
       "AssessJob4                     float64\n",
       "AssessJob5                     float64\n",
       "AssessJob6                     float64\n",
       "AssessJob7                     float64\n",
       "AssessJob8                     float64\n",
       "AssessJob9                     float64\n",
       "AssessJob10                    float64\n",
       "AssessBenefits1                float64\n",
       "AssessBenefits2                float64\n",
       "AssessBenefits3                float64\n",
       "                                ...   \n",
       "EthicsResponsible               object\n",
       "EthicalImplications             object\n",
       "StackOverflowRecommend          object\n",
       "StackOverflowVisit              object\n",
       "StackOverflowHasAccount         object\n",
       "StackOverflowParticipate        object\n",
       "StackOverflowJobs               object\n",
       "StackOverflowDevStory           object\n",
       "StackOverflowJobsRecommend      object\n",
       "StackOverflowConsiderMember     object\n",
       "HypotheticalTools1              object\n",
       "HypotheticalTools2              object\n",
       "HypotheticalTools3              object\n",
       "HypotheticalTools4              object\n",
       "HypotheticalTools5              object\n",
       "WakeTime                        object\n",
       "HoursComputer                   object\n",
       "HoursOutside                    object\n",
       "SkipMeals                       object\n",
       "ErgonomicDevices                object\n",
       "Exercise                        object\n",
       "Gender                          object\n",
       "SexualOrientation               object\n",
       "EducationParents                object\n",
       "RaceEthnicity                   object\n",
       "Age                             object\n",
       "Dependents                      object\n",
       "MilitaryUS                      object\n",
       "SurveyTooLong                   object\n",
       "SurveyEasy                      object\n",
       "Length: 129, dtype: object"
      ]
     },
     "execution_count": 5,
     "metadata": {},
     "output_type": "execute_result"
    }
   ],
   "source": [
    "# We can print out the data type of each column, since it will inform our analysis\n",
    "data_2018.dtypes"
   ]
  },
  {
   "cell_type": "markdown",
   "metadata": {},
   "source": [
    "The 2018 survey gathered responses from almost 100,000 people, on 129 questions. It will be really useful to answer the questions at hand. We have both numeric and categorical variables, which we will need to encode in order to be able to plug them in machine learning models."
   ]
  },
  {
   "cell_type": "markdown",
   "metadata": {},
   "source": [
    "## Data Preparation\n",
    "\n",
    "### Missing Values\n",
    "\n",
    "We assess the presence of missing values, and deal with them."
   ]
  },
  {
   "cell_type": "code",
   "execution_count": 6,
   "metadata": {},
   "outputs": [
    {
     "data": {
      "text/plain": [
       "TimeAfterBootcamp              0.932710\n",
       "MilitaryUS                     0.840362\n",
       "HackathonReasons               0.740114\n",
       "ErgonomicDevices               0.655475\n",
       "AdBlockerReasons               0.618178\n",
       "StackOverflowJobsRecommend     0.612392\n",
       "JobEmailPriorities1            0.532517\n",
       "JobEmailPriorities2            0.532517\n",
       "JobEmailPriorities3            0.532517\n",
       "JobEmailPriorities4            0.532517\n",
       "JobEmailPriorities6            0.532517\n",
       "JobEmailPriorities5            0.532517\n",
       "JobEmailPriorities7            0.532517\n",
       "ConvertedSalary                0.517455\n",
       "JobContactPriorities3          0.507299\n",
       "JobContactPriorities4          0.507299\n",
       "JobContactPriorities2          0.507299\n",
       "JobContactPriorities1          0.507299\n",
       "JobContactPriorities5          0.507299\n",
       "Salary                         0.488362\n",
       "SalaryType                     0.483385\n",
       "FrameworkWorkedWith            0.477821\n",
       "TimeFullyProductive            0.475272\n",
       "AdBlockerDisable               0.444661\n",
       "FrameworkDesireNextYear        0.441424\n",
       "CommunicationTools             0.423701\n",
       "SelfTaughtTypes                0.419817\n",
       "RaceEthnicity                  0.418613\n",
       "DatabaseDesireNextYear         0.418360\n",
       "CurrencySymbol                 0.406707\n",
       "                                 ...   \n",
       "LanguageDesireNextYear         0.259076\n",
       "VersionControl                 0.248414\n",
       "AdsAgreeDisagree2              0.247251\n",
       "AdsAgreeDisagree3              0.247241\n",
       "AdsAgreeDisagree1              0.246523\n",
       "StackOverflowJobs              0.238309\n",
       "IDE                            0.237287\n",
       "HopeFiveYears                  0.234050\n",
       "StackOverflowConsiderMember    0.231126\n",
       "AdBlocker                      0.230641\n",
       "OperatingSystem                0.229386\n",
       "NumberMonitors                 0.227171\n",
       "StackOverflowRecommend         0.226251\n",
       "CareerSatisfaction             0.226099\n",
       "StackOverflowHasAccount        0.223196\n",
       "StackOverflowVisit             0.222993\n",
       "YearsCodingProf                0.211947\n",
       "LanguageWorkedWith             0.207587\n",
       "LastNewJob                     0.201973\n",
       "UndergradMajor                 0.200486\n",
       "JobSearchStatus                0.195913\n",
       "DevType                        0.068353\n",
       "YearsCoding                    0.050781\n",
       "FormalEducation                0.042001\n",
       "Student                        0.039998\n",
       "Employment                     0.035749\n",
       "Country                        0.004168\n",
       "OpenSource                     0.000000\n",
       "Hobby                          0.000000\n",
       "Respondent                     0.000000\n",
       "Length: 129, dtype: float64"
      ]
     },
     "execution_count": 6,
     "metadata": {},
     "output_type": "execute_result"
    }
   ],
   "source": [
    "# We assess the columns\n",
    "data_2018.isnull().mean().sort_values(ascending = False)"
   ]
  },
  {
   "cell_type": "code",
   "execution_count": 7,
   "metadata": {},
   "outputs": [
    {
     "data": {
      "image/png": "[encoded data removed]",
      "text/plain": [
       "<Figure size 432x288 with 1 Axes>"
      ]
     },
     "metadata": {},
     "output_type": "display_data"
    }
   ],
   "source": [
    "data_2018.isnull().mean(axis = 0).hist();"
   ]
  },
  {
   "cell_type": "code",
   "execution_count": 8,
   "metadata": {},
   "outputs": [],
   "source": [
    "# We drop the columns with more than 60% of missing values\n",
    "data_2018 = data_2018.loc[:, data_2018.isnull().mean() < 0.6]"
   ]
  },
  {
   "cell_type": "code",
   "execution_count": 9,
   "metadata": {},
   "outputs": [
    {
     "data": {
      "image/png": "[encoded data removed]",
      "text/plain": [
       "<Figure size 432x288 with 1 Axes>"
      ]
     },
     "metadata": {},
     "output_type": "display_data"
    }
   ],
   "source": [
    "# We now assess the rows\n",
    "data_2018.isnull().mean(axis = 1).hist();"
   ]
  },
  {
   "cell_type": "code",
   "execution_count": 10,
   "metadata": {},
   "outputs": [],
   "source": [
    "# We drop the rows with more than 80% of missing values\n",
    "data_2018 = data_2018.loc[data_2018.isnull().mean(axis = 1) < 0.8,:]"
   ]
  },
  {
   "cell_type": "code",
   "execution_count": 11,
   "metadata": {},
   "outputs": [
    {
     "name": "stdout",
     "output_type": "stream",
     "text": [
      "After removing missing values, the 2018 survey results have 82184 respondents and 123 variables\n"
     ]
    }
   ],
   "source": [
    "print('After removing missing values, the 2018 survey results have {} respondents and {} variables'.format(str(data_2018.shape[0]),\n",
    "                            str(data_2018.shape[1])))"
   ]
  },
  {
   "cell_type": "markdown",
   "metadata": {},
   "source": [
    "We assess missing values in rows and columns. We remove columns which have more than 50% of missing values, as well as rows that have more than 80% of missing values, for both these groups do not provide us with useful information for our purposes. We are still left with 123 variables and 82,184 respondents. We will probably have to impute or do more cleaning later on, but this is a good first pass for now."
   ]
  },
  {
   "cell_type": "markdown",
   "metadata": {},
   "source": [
    "### Duplicate Values"
   ]
  },
  {
   "cell_type": "code",
   "execution_count": 12,
   "metadata": {},
   "outputs": [
    {
     "name": "stdout",
     "output_type": "stream",
     "text": [
      "0 0\n"
     ]
    }
   ],
   "source": [
    "print(data_2018.Respondent.duplicated().sum(), data_2018.duplicated().sum())"
   ]
  },
  {
   "cell_type": "markdown",
   "metadata": {},
   "source": [
    "No duplicate values to deal with. "
   ]
  },
  {
   "cell_type": "markdown",
   "metadata": {},
   "source": [
    "### Categorical Variables"
   ]
  },
  {
   "cell_type": "code",
   "execution_count": 13,
   "metadata": {},
   "outputs": [],
   "source": [
    "# We transform the salary variable from a categorical to a numerical variables\n",
    "data_2018.Salary = pd.to_numeric(data_2018.Salary.str.replace(',', ''), errors = 'coerce')"
   ]
  },
  {
   "cell_type": "code",
   "execution_count": 14,
   "metadata": {},
   "outputs": [],
   "source": [
    "# Create a numerical representation of JobSatisfaction for predictions later\n",
    "mapping = dict([(category, code) for code, category in enumerate(data_2018.CareerSatisfaction.unique())])\n",
    "data_2018.JobSatisfaction = data_2018.JobSatisfaction.map(mapping)"
   ]
  },
  {
   "cell_type": "code",
   "execution_count": 15,
   "metadata": {},
   "outputs": [],
   "source": [
    "# Create dummy variables for our categorical variables\n",
    "categorical_cols = data_2018.select_dtypes(include = [\"object\"]).columns.values.tolist()\n",
    "data_2018_dummies = pd.get_dummies(data_2018, columns = categorical_cols, dummy_na = True)"
   ]
  },
  {
   "cell_type": "code",
   "execution_count": 16,
   "metadata": {},
   "outputs": [],
   "source": [
    "# We drop columns which arise from the multiple response nature of the survey, only keeping the most general answer\n",
    "cols = []\n",
    "\n",
    "for c in data_2018_dummies.columns:\n",
    "    if (re.search(r'.*;.*', c)):\n",
    "        cols.append(c)\n",
    "\n",
    "data_2018_dummies.drop(cols, axis =1, inplace = True)"
   ]
  },
  {
   "cell_type": "markdown",
   "metadata": {},
   "source": [
    "Later in our analysis, we will want to use the salary variable, which we thus convert to numeric (it was viewed as categorical due to the thousand separator certain respondents used). We also create a numerical representation of job satisfaction, to be used in multi-class classification later on.\n",
    "\n",
    "We use one-hot encoding for categorical variables, which will enable us to use them in machine learning models later on. Due to the way certain responses were recorded, we also choose to remove detailed descriptions, only keeping the uppermost level."
   ]
  },
  {
   "cell_type": "markdown",
   "metadata": {},
   "source": [
    "### Languages and Frameworks - General Tools"
   ]
  },
  {
   "cell_type": "markdown",
   "metadata": {},
   "source": [
    "Look overall, and whether there are associations/biases within various groups/professions. Consider using the original dataset vs. the dummy one for this. Focus on the differences between DS and developers.\n",
    "Create same visualizations as in the example seen in class."
   ]
  },
  {
   "cell_type": "markdown",
   "metadata": {},
   "source": [
    "For this particular application, since we are not trying to build a model, we use the dataset before creating dummies for categorical variables. We want to look at languages they've worked with, as well as what they want to learn in the future to see whether there is agreement as well as whether it is possible to discern a trend."
   ]
  },
  {
   "cell_type": "code",
   "execution_count": 35,
   "metadata": {},
   "outputs": [],
   "source": [
    "# We start by only keeping non-null elements of the dataframe\n",
    "data_2018_languages_past = data_2018.loc[data_2018.LanguageWorkedWith.notnull(),:]"
   ]
  },
  {
   "cell_type": "code",
   "execution_count": 44,
   "metadata": {},
   "outputs": [],
   "source": [
    "# We extract all the possible languages through a helper function\n",
    "\n",
    "def extract_unique_values(df, column):\n",
    "    '''\n",
    "    INPUT:\n",
    "    df - a dataframe\n",
    "    column - a column of a dataframe with values separated with a semicolon\n",
    "\n",
    "    OUTPUT:\n",
    "    unique_values - a list of unique values present in the column\n",
    "    '''\n",
    "\n",
    "    unique_values = []\n",
    "\n",
    "    for i in df[column].unique():\n",
    "        for j in i.split(';'):\n",
    "            if not j in unique_values:\n",
    "                unique_values.append(j)\n",
    "    return(unique_values)\n",
    "\n",
    "languages = extract_unique_values(data_2018_languages_past, 'LanguageWorkedWith')"
   ]
  },
  {
   "cell_type": "code",
   "execution_count": 50,
   "metadata": {},
   "outputs": [
    {
     "data": {
      "text/html": [
       "<div>\n",
       "<style scoped>\n",
       "    .dataframe tbody tr th:only-of-type {\n",
       "        vertical-align: middle;\n",
       "    }\n",
       "\n",
       "    .dataframe tbody tr th {\n",
       "        vertical-align: top;\n",
       "    }\n",
       "\n",
       "    .dataframe thead th {\n",
       "        text-align: right;\n",
       "    }\n",
       "</style>\n",
       "<table border=\"1\" class=\"dataframe\">\n",
       "  <thead>\n",
       "    <tr style=\"text-align: right;\">\n",
       "      <th></th>\n",
       "      <th>language</th>\n",
       "      <th>count</th>\n",
       "    </tr>\n",
       "  </thead>\n",
       "  <tbody>\n",
       "    <tr>\n",
       "      <th>2</th>\n",
       "      <td>C</td>\n",
       "      <td>65144</td>\n",
       "    </tr>\n",
       "    <tr>\n",
       "      <th>17</th>\n",
       "      <td>Java</td>\n",
       "      <td>63117</td>\n",
       "    </tr>\n",
       "    <tr>\n",
       "      <th>18</th>\n",
       "      <td>JavaScript</td>\n",
       "      <td>53282</td>\n",
       "    </tr>\n",
       "    <tr>\n",
       "      <th>14</th>\n",
       "      <td>HTML</td>\n",
       "      <td>52173</td>\n",
       "    </tr>\n",
       "    <tr>\n",
       "      <th>5</th>\n",
       "      <td>CSS</td>\n",
       "      <td>49603</td>\n",
       "    </tr>\n",
       "    <tr>\n",
       "      <th>31</th>\n",
       "      <td>SQL</td>\n",
       "      <td>43588</td>\n",
       "    </tr>\n",
       "    <tr>\n",
       "      <th>1</th>\n",
       "      <td>Bash/Shell</td>\n",
       "      <td>30607</td>\n",
       "    </tr>\n",
       "    <tr>\n",
       "      <th>27</th>\n",
       "      <td>Python</td>\n",
       "      <td>29567</td>\n",
       "    </tr>\n",
       "    <tr>\n",
       "      <th>3</th>\n",
       "      <td>C#</td>\n",
       "      <td>26264</td>\n",
       "    </tr>\n",
       "    <tr>\n",
       "      <th>25</th>\n",
       "      <td>PHP</td>\n",
       "      <td>23313</td>\n",
       "    </tr>\n",
       "    <tr>\n",
       "      <th>4</th>\n",
       "      <td>C++</td>\n",
       "      <td>19195</td>\n",
       "    </tr>\n",
       "    <tr>\n",
       "      <th>34</th>\n",
       "      <td>TypeScript</td>\n",
       "      <td>13349</td>\n",
       "    </tr>\n",
       "    <tr>\n",
       "      <th>28</th>\n",
       "      <td>R</td>\n",
       "      <td>13068</td>\n",
       "    </tr>\n",
       "    <tr>\n",
       "      <th>29</th>\n",
       "      <td>Ruby</td>\n",
       "      <td>7733</td>\n",
       "    </tr>\n",
       "    <tr>\n",
       "      <th>33</th>\n",
       "      <td>Swift</td>\n",
       "      <td>6134</td>\n",
       "    </tr>\n",
       "    <tr>\n",
       "      <th>0</th>\n",
       "      <td>Assembly</td>\n",
       "      <td>5545</td>\n",
       "    </tr>\n",
       "    <tr>\n",
       "      <th>12</th>\n",
       "      <td>Go</td>\n",
       "      <td>5422</td>\n",
       "    </tr>\n",
       "    <tr>\n",
       "      <th>23</th>\n",
       "      <td>Objective-C</td>\n",
       "      <td>5349</td>\n",
       "    </tr>\n",
       "    <tr>\n",
       "      <th>35</th>\n",
       "      <td>VB.NET</td>\n",
       "      <td>5069</td>\n",
       "    </tr>\n",
       "    <tr>\n",
       "      <th>22</th>\n",
       "      <td>Matlab</td>\n",
       "      <td>4423</td>\n",
       "    </tr>\n",
       "    <tr>\n",
       "      <th>36</th>\n",
       "      <td>VBA</td>\n",
       "      <td>3684</td>\n",
       "    </tr>\n",
       "    <tr>\n",
       "      <th>20</th>\n",
       "      <td>Kotlin</td>\n",
       "      <td>3435</td>\n",
       "    </tr>\n",
       "    <tr>\n",
       "      <th>32</th>\n",
       "      <td>Scala</td>\n",
       "      <td>3351</td>\n",
       "    </tr>\n",
       "    <tr>\n",
       "      <th>13</th>\n",
       "      <td>Groovy</td>\n",
       "      <td>3299</td>\n",
       "    </tr>\n",
       "    <tr>\n",
       "      <th>26</th>\n",
       "      <td>Perl</td>\n",
       "      <td>3198</td>\n",
       "    </tr>\n",
       "    <tr>\n",
       "      <th>37</th>\n",
       "      <td>Visual Basic 6</td>\n",
       "      <td>2968</td>\n",
       "    </tr>\n",
       "    <tr>\n",
       "      <th>21</th>\n",
       "      <td>Lua</td>\n",
       "      <td>2677</td>\n",
       "    </tr>\n",
       "    <tr>\n",
       "      <th>8</th>\n",
       "      <td>CoffeeScript</td>\n",
       "      <td>2526</td>\n",
       "    </tr>\n",
       "    <tr>\n",
       "      <th>9</th>\n",
       "      <td>Delphi/Object Pascal</td>\n",
       "      <td>1956</td>\n",
       "    </tr>\n",
       "    <tr>\n",
       "      <th>16</th>\n",
       "      <td>Haskell</td>\n",
       "      <td>1909</td>\n",
       "    </tr>\n",
       "    <tr>\n",
       "      <th>30</th>\n",
       "      <td>Rust</td>\n",
       "      <td>1826</td>\n",
       "    </tr>\n",
       "    <tr>\n",
       "      <th>11</th>\n",
       "      <td>F#</td>\n",
       "      <td>1086</td>\n",
       "    </tr>\n",
       "    <tr>\n",
       "      <th>6</th>\n",
       "      <td>Clojure</td>\n",
       "      <td>1002</td>\n",
       "    </tr>\n",
       "    <tr>\n",
       "      <th>10</th>\n",
       "      <td>Erlang</td>\n",
       "      <td>861</td>\n",
       "    </tr>\n",
       "    <tr>\n",
       "      <th>7</th>\n",
       "      <td>Cobol</td>\n",
       "      <td>561</td>\n",
       "    </tr>\n",
       "    <tr>\n",
       "      <th>24</th>\n",
       "      <td>Ocaml</td>\n",
       "      <td>447</td>\n",
       "    </tr>\n",
       "    <tr>\n",
       "      <th>19</th>\n",
       "      <td>Julia</td>\n",
       "      <td>409</td>\n",
       "    </tr>\n",
       "    <tr>\n",
       "      <th>15</th>\n",
       "      <td>Hack</td>\n",
       "      <td>236</td>\n",
       "    </tr>\n",
       "  </tbody>\n",
       "</table>\n",
       "</div>"
      ],
      "text/plain": [
       "                language  count\n",
       "2                      C  65144\n",
       "17                  Java  63117\n",
       "18            JavaScript  53282\n",
       "14                  HTML  52173\n",
       "5                    CSS  49603\n",
       "31                   SQL  43588\n",
       "1             Bash/Shell  30607\n",
       "27                Python  29567\n",
       "3                     C#  26264\n",
       "25                   PHP  23313\n",
       "4                    C++  19195\n",
       "34            TypeScript  13349\n",
       "28                     R  13068\n",
       "29                  Ruby   7733\n",
       "33                 Swift   6134\n",
       "0               Assembly   5545\n",
       "12                    Go   5422\n",
       "23           Objective-C   5349\n",
       "35                VB.NET   5069\n",
       "22                Matlab   4423\n",
       "36                   VBA   3684\n",
       "20                Kotlin   3435\n",
       "32                 Scala   3351\n",
       "13                Groovy   3299\n",
       "26                  Perl   3198\n",
       "37        Visual Basic 6   2968\n",
       "21                   Lua   2677\n",
       "8           CoffeeScript   2526\n",
       "9   Delphi/Object Pascal   1956\n",
       "16               Haskell   1909\n",
       "30                  Rust   1826\n",
       "11                    F#   1086\n",
       "6                Clojure   1002\n",
       "10                Erlang    861\n",
       "7                  Cobol    561\n",
       "24                 Ocaml    447\n",
       "19                 Julia    409\n",
       "15                  Hack    236"
      ]
     },
     "execution_count": 50,
     "metadata": {},
     "output_type": "execute_result"
    }
   ],
   "source": [
    "# Now that we have all the possible values, we use them to create counts for each\n",
    "# We start by creating a helper function \n",
    "\n",
    "def total_count(df, col1, col2, look_for):\n",
    "    '''\n",
    "    INPUT:\n",
    "    df - the pandas dataframe you want to search\n",
    "    col1 - the column name you want to look through\n",
    "    col2 - the column you want to count values from\n",
    "    look_for - a list of strings you want to search for in each row of df[col]\n",
    "\n",
    "    OUTPUT:\n",
    "    new_df - a dataframe of each look_for with the count of how often it shows up\n",
    "    '''\n",
    "    new_df = defaultdict(int)\n",
    "    #loop through list of ed types\n",
    "    for val in look_for:\n",
    "        #loop through rows\n",
    "        for idx in range(df.shape[0]):\n",
    "            #if the ed type is in the row add 1\n",
    "            if val in df[col1][idx]:\n",
    "                new_df[val] += int(df[col2][idx])\n",
    "    new_df = pd.DataFrame(pd.Series(new_df)).reset_index()\n",
    "    new_df.columns = [col1, col2]\n",
    "    new_df.sort_values('count', ascending=False, inplace=True)\n",
    "    return new_df\n",
    "\n",
    "languages_overall = data_2018_languages_past.LanguageWorkedWith.value_counts().reset_index()\n",
    "languages_overall.rename(columns={'index': 'language', 'LanguageWorkedWith': 'count'}, inplace=True)\n",
    "languages_overall = total_count(languages_overall, 'language', 'count', languages)\n",
    "languages_overall.set_index('language', inplace=True)"
   ]
  },
  {
   "cell_type": "code",
   "execution_count": 65,
   "metadata": {},
   "outputs": [
    {
     "data": {
      "image/png": "[encoded data removed]",
      "text/plain": [
       "<Figure size 432x288 with 1 Axes>"
      ]
     },
     "metadata": {},
     "output_type": "display_data"
    }
   ],
   "source": [
    "# We can now plot the popularity of various languages overall\n",
    "# We only keep the top 10\n",
    "languages_overall.head(10).plot(kind = 'bar', legend = None);\n",
    "plt.title(\"Top 10 Most Popular Programming Languages Among Respondents of 2018 StackOverflow Survey\");\n",
    "plt.xlabel(\"Language\");\n",
    "plt.ylabel(\"Number of Times Mentioned\");"
   ]
  },
  {
   "cell_type": "code",
   "execution_count": 92,
   "metadata": {},
   "outputs": [
    {
     "name": "stderr",
     "output_type": "stream",
     "text": [
      "/anaconda3/lib/python3.6/site-packages/ipykernel/__main__.py:4: SettingWithCopyWarning: \n",
      "A value is trying to be set on a copy of a slice from a DataFrame\n",
      "\n",
      "See the caveats in the documentation: http://pandas.pydata.org/pandas-docs/stable/indexing.html#indexing-view-versus-copy\n"
     ]
    }
   ],
   "source": [
    "# We create two datasets, one for data scientists/analysts and one for the rest\n",
    "# We must first filter out the NA values in the DevType column to do so\n",
    "\n",
    "data_2018_languages_past.dropna(subset = ['DevType'], axis = 0, inplace = True)\n",
    "pattern = ['Data or business analyst' , 'Data scientist or machine learning specialist']\n",
    "\n",
    "data_scientists = data_2018_languages_past.DevType.str.contains('|'.join(pattern))\n",
    "data_2018_languages_past_DS = data_2018_languages_past.loc[data_scientists,\"LanguageWorkedWith\"]\n",
    "data_2018_languages_past_noDS = data_2018_languages_past.loc[data_scientists == False,\"LanguageWorkedWith\"]"
   ]
  },
  {
   "cell_type": "code",
   "execution_count": null,
   "metadata": {},
   "outputs": [],
   "source": [
    "# We then repeat the prior analysis for these two groups"
   ]
  },
  {
   "cell_type": "markdown",
   "metadata": {},
   "source": [
    "### Determinants of job satisfaction"
   ]
  },
  {
   "cell_type": "markdown",
   "metadata": {},
   "source": [
    "Linear Regression model. Impute missing values. Only a subset of all features? Compare data scientists vs. developers in general. Start by only looking at on average, and then control for other values. Deal with categorical variables here - rather than have all the values for dev_type, create a dummy if data scientist/analyst or not and drop dev_type."
   ]
  },
  {
   "cell_type": "markdown",
   "metadata": {},
   "source": [
    "### Archetypes"
   ]
  },
  {
   "cell_type": "markdown",
   "metadata": {},
   "source": [
    "Subset only a few variables of interest (salary, education, languages used, big/small company, job satisfaction, experience) Drill in within the data scientist profession in the US, and repeat the analysis for developers, comparing the two. Use the dummy variable for DS here, and do the clustering on the two subsets."
   ]
  },
  {
   "cell_type": "code",
   "execution_count": null,
   "metadata": {},
   "outputs": [],
   "source": []
  }
 ],
 "metadata": {
  "kernelspec": {
   "display_name": "Python [conda env:anaconda3]",
   "language": "python",
   "name": "conda-env-anaconda3-py"
  },
  "language_info": {
   "codemirror_mode": {
    "name": "ipython",
    "version": 3
   },
   "file_extension": ".py",
   "mimetype": "text/x-python",
   "name": "python",
   "nbconvert_exporter": "python",
   "pygments_lexer": "ipython3",
   "version": "3.6.6"
  }
 },
 "nbformat": 4,
 "nbformat_minor": 2
}
