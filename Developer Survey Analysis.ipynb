{
 "cells": [
  {
   "cell_type": "markdown",
   "metadata": {},
   "source": [
    "# Developer Survey Analysis\n",
    "\n",
    "The goal is this analysis is to analyze the 2018 survey results and gain relevant insights pertaining to the profession. Some questions we are interested in right off the bat are:\n",
    "- what are the determinants of job satisfaction?\n",
    "- what are the most popular languages/technologies among developers?\n",
    "- is it possible to extract different developer \"archetypes\" from this survey? Does it indicate bias in the respondents of the survey of in the profession as a whole?\n",
    "\n",
    "We will leverage descriptive statistics as well as modeling to answer all these questions. We will analyze the results collected by Stack Overflow and made publicly available [here](https://insights.stackoverflow.com/survey)."
   ]
  },
  {
   "cell_type": "code",
   "execution_count": 1,
   "metadata": {},
   "outputs": [],
   "source": [
    "# We start by loading the necessary libraries\n",
    "import pandas as pd\n",
    "import numpy as np\n",
    "import zipfile\n",
    "import os"
   ]
  },
  {
   "cell_type": "markdown",
   "metadata": {},
   "source": [
    "## Loading the Data"
   ]
  },
  {
   "cell_type": "code",
   "execution_count": 2,
   "metadata": {},
   "outputs": [
    {
     "name": "stderr",
     "output_type": "stream",
     "text": [
      "/anaconda3/lib/python3.6/site-packages/IPython/core/interactiveshell.py:2728: DtypeWarning: Columns (8,12,13,14,15,16,50,51,52,53,55,56,57,58,59,60,61,62,63,64,65,66,67,68,69,70,71,72,73,74,75,76,77,78,79,80,81,82,83,84,85,93,94,95,96,97,98,99,100,101,102,103,104,105,106,107,108,109,110,111,112,113,114,115,116,117,118,119,120,121,122,123,124,125,126,127,128) have mixed types. Specify dtype option on import or set low_memory=False.\n",
      "  interactivity=interactivity, compiler=compiler, result=result)\n"
     ]
    }
   ],
   "source": [
    "# We first extract the file from its archive and then ingest it into Pandas\n",
    "\n",
    "zip_ref = zipfile.ZipFile('developer_survey_2018.zip', 'r')\n",
    "zip_ref.extractall(os.getcwd())\n",
    "zip_ref.close()\n",
    "\n",
    "data_2018 = pd.read_csv('survey_results_public.csv')\n",
    "schema_2018 = pd.read_csv('survey_results_schema.csv')"
   ]
  },
  {
   "cell_type": "markdown",
   "metadata": {},
   "source": [
    "## Initial Assessment"
   ]
  },
  {
   "cell_type": "code",
   "execution_count": 21,
   "metadata": {},
   "outputs": [
    {
     "name": "stdout",
     "output_type": "stream",
     "text": [
      "The 2013 survey results have 9743 respondents and 29 variables, while in 2017 these numbers were 51392 and 154 respectively\n"
     ]
    }
   ],
   "source": [
    "print('The 2013 survey results have {} respondents and {}'.format(str(data_2013.shape[0]),\n",
    "                            str(data_2013.shape[1])),\n",
    "      'variables, while in 2017 these numbers were {} and {} respectively'.format(str(data_2017.shape[0]), \n",
    "                            str(data_2017.shape[1])))"
   ]
  },
  {
   "cell_type": "code",
   "execution_count": 3,
   "metadata": {},
   "outputs": [
    {
     "name": "stdout",
     "output_type": "stream",
     "text": [
      "Index(['What Country or Region do you live in?',\n",
      "       'Which US State or Territory do you live in?', 'How old are you?',\n",
      "       'How many years of IT/Programming experience do you have?',\n",
      "       'How would you best describe the industry you currently work in?',\n",
      "       'How many people work for your company?',\n",
      "       'Which of the following best describes your occupation?',\n",
      "       'Including yourself, how many developers are employed at your company?',\n",
      "       'How large is the team that you work on?',\n",
      "       'What other departments / roles do you interact with regularly?',\n",
      "       ...\n",
      "       'Unnamed: 118', 'Unnamed: 119', 'Unnamed: 120', 'Unnamed: 121',\n",
      "       'What advertisers do you remember seeing on Stack Overflow?',\n",
      "       'What is your current Stack Overflow reputation?',\n",
      "       'How do you use Stack Overflow?', 'Unnamed: 125', 'Unnamed: 126',\n",
      "       'Unnamed: 127'],\n",
      "      dtype='object', length=128)\n"
     ]
    }
   ],
   "source": [
    "# We examine the first few rows of data_2013\n",
    "# We notice some features are unnamed,\n",
    "\n",
    "print(data_2013.columns)"
   ]
  },
  {
   "cell_type": "code",
   "execution_count": 4,
   "metadata": {},
   "outputs": [],
   "source": [
    "# We look at these columns further\n",
    "# It appears they are simply additional information from a previous question\n",
    "# We will simply drop them, since they have a lot of missing value\n",
    "# And probably do not capture the main information, which was in the first, named, column\n",
    "data_2013[[col for col in data_2013.columns if \"Unnamed\" in col]]\n",
    "\n",
    "cols_to_drop = data_2013[[col for col in data_2013.columns if \"Unnamed\" in col]].columns.values.tolist()\n",
    "\n",
    "\n",
    "data_2013 = data_2013.drop(labels = cols_to_drop, axis = 1)"
   ]
  },
  {
   "cell_type": "code",
   "execution_count": 10,
   "metadata": {},
   "outputs": [
    {
     "name": "stdout",
     "output_type": "stream",
     "text": [
      "   Respondent                                       Professional  \\\n",
      "0           1                                            Student   \n",
      "1           2                                            Student   \n",
      "2           3                             Professional developer   \n",
      "3           4  Professional non-developer who sometimes write...   \n",
      "4           5                             Professional developer   \n",
      "\n",
      "                ProgramHobby         Country      University  \\\n",
      "0                  Yes, both   United States              No   \n",
      "1                  Yes, both  United Kingdom  Yes, full-time   \n",
      "2                  Yes, both  United Kingdom              No   \n",
      "3                  Yes, both   United States              No   \n",
      "4  Yes, I program as a hobby     Switzerland              No   \n",
      "\n",
      "                         EmploymentStatus  \\\n",
      "0  Not employed, and not looking for work   \n",
      "1                      Employed part-time   \n",
      "2                      Employed full-time   \n",
      "3                      Employed full-time   \n",
      "4                      Employed full-time   \n",
      "\n",
      "                                     FormalEducation  \\\n",
      "0                                   Secondary school   \n",
      "1  Some college/university study without earning ...   \n",
      "2                                  Bachelor's degree   \n",
      "3                                    Doctoral degree   \n",
      "4                                    Master's degree   \n",
      "\n",
      "                                  MajorUndergrad  \\\n",
      "0                                            NaN   \n",
      "1       Computer science or software engineering   \n",
      "2       Computer science or software engineering   \n",
      "3  A non-computer-focused engineering discipline   \n",
      "4       Computer science or software engineering   \n",
      "\n",
      "                                          HomeRemote  \\\n",
      "0                                                NaN   \n",
      "1              More than half, but not all, the time   \n",
      "2  Less than half the time, but at least one day ...   \n",
      "3  Less than half the time, but at least one day ...   \n",
      "4                                              Never   \n",
      "\n",
      "                CompanySize       ...       StackOverflowMakeMoney Gender  \\\n",
      "0                       NaN       ...            Strongly disagree   Male   \n",
      "1        20 to 99 employees       ...            Strongly disagree   Male   \n",
      "2  10,000 or more employees       ...                     Disagree   Male   \n",
      "3  10,000 or more employees       ...                     Disagree   Male   \n",
      "4        10 to 19 employees       ...                          NaN    NaN   \n",
      "\n",
      "  HighestEducationParents                          Race         SurveyLong  \\\n",
      "0             High school  White or of European descent  Strongly disagree   \n",
      "1       A master's degree  White or of European descent     Somewhat agree   \n",
      "2   A professional degree  White or of European descent     Somewhat agree   \n",
      "3       A doctoral degree  White or of European descent              Agree   \n",
      "4                     NaN                           NaN                NaN   \n",
      "\n",
      "  QuestionsInteresting QuestionsConfusing InterestedAnswers    Salary  \\\n",
      "0       Strongly agree           Disagree    Strongly agree       NaN   \n",
      "1       Somewhat agree           Disagree    Strongly agree       NaN   \n",
      "2                Agree           Disagree             Agree  113750.0   \n",
      "3                Agree     Somewhat agree    Strongly agree       NaN   \n",
      "4                  NaN                NaN               NaN       NaN   \n",
      "\n",
      "   ExpectedSalary  \n",
      "0             NaN  \n",
      "1         37500.0  \n",
      "2             NaN  \n",
      "3             NaN  \n",
      "4             NaN  \n",
      "\n",
      "[5 rows x 154 columns]\n"
     ]
    },
    {
     "data": {
      "text/html": [
       "<div>\n",
       "<style scoped>\n",
       "    .dataframe tbody tr th:only-of-type {\n",
       "        vertical-align: middle;\n",
       "    }\n",
       "\n",
       "    .dataframe tbody tr th {\n",
       "        vertical-align: top;\n",
       "    }\n",
       "\n",
       "    .dataframe thead th {\n",
       "        text-align: right;\n",
       "    }\n",
       "</style>\n",
       "<table border=\"1\" class=\"dataframe\">\n",
       "  <thead>\n",
       "    <tr style=\"text-align: right;\">\n",
       "      <th></th>\n",
       "      <th>Column</th>\n",
       "      <th>Question</th>\n",
       "    </tr>\n",
       "  </thead>\n",
       "  <tbody>\n",
       "    <tr>\n",
       "      <th>0</th>\n",
       "      <td>Respondent</td>\n",
       "      <td>Respondent ID number</td>\n",
       "    </tr>\n",
       "    <tr>\n",
       "      <th>1</th>\n",
       "      <td>Professional</td>\n",
       "      <td>Which of the following best describes you?</td>\n",
       "    </tr>\n",
       "    <tr>\n",
       "      <th>2</th>\n",
       "      <td>ProgramHobby</td>\n",
       "      <td>Do you program as a hobby or contribute to ope...</td>\n",
       "    </tr>\n",
       "    <tr>\n",
       "      <th>3</th>\n",
       "      <td>Country</td>\n",
       "      <td>In which country do you currently live?</td>\n",
       "    </tr>\n",
       "    <tr>\n",
       "      <th>4</th>\n",
       "      <td>University</td>\n",
       "      <td>Are you currently enrolled in a formal, degree...</td>\n",
       "    </tr>\n",
       "  </tbody>\n",
       "</table>\n",
       "</div>"
      ],
      "text/plain": [
       "         Column                                           Question\n",
       "0    Respondent                               Respondent ID number\n",
       "1  Professional         Which of the following best describes you?\n",
       "2  ProgramHobby  Do you program as a hobby or contribute to ope...\n",
       "3       Country            In which country do you currently live?\n",
       "4    University  Are you currently enrolled in a formal, degree..."
      ]
     },
     "execution_count": 10,
     "metadata": {},
     "output_type": "execute_result"
    }
   ],
   "source": [
    "# We print out the first few rows for the 2017 survey results, as well as the schema\n",
    "print(data_2017.head())\n",
    "schema_2017.head()"
   ]
  },
  {
   "cell_type": "code",
   "execution_count": 13,
   "metadata": {},
   "outputs": [
    {
     "data": {
      "text/plain": [
       "array([], dtype=object)"
      ]
     },
     "execution_count": 13,
     "metadata": {},
     "output_type": "execute_result"
    }
   ],
   "source": [
    "# Let's explore if any columns are in common\n",
    "np.intersect1d(data_2013.columns.values, data_2017.columns.values)"
   ]
  },
  {
   "cell_type": "markdown",
   "metadata": {},
   "source": [
    "As initially feared, the surveys do not have any column names in common, which will complicate the analysis. Two approaches are possible: we could try and map column names onto a common schema, dropping columns which have no equivalent, or we could replicate the same analysis for both datasets, and do the mapping in our interpretation of the results. We choose to do the latter for it will retain more information and will allow for more flexibility. We keep in mind for graphs we may have to rename elements to allow for comparison."
   ]
  },
  {
   "cell_type": "markdown",
   "metadata": {},
   "source": [
    "## Data Preparation\n",
    "\n",
    "### Missing Values\n",
    "\n",
    "We assess the presence of missing values, and deal with them."
   ]
  },
  {
   "cell_type": "code",
   "execution_count": 25,
   "metadata": {},
   "outputs": [
    {
     "data": {
      "text/plain": [
       "If you make a software product, how does your company make money? (You can choose more than one)                                                                                                                                                                                        0.922201\n",
       "Which of the following languages or technologies have you used significantly in the past year?                                                                                                                                                                                          0.852509\n",
       "Which technologies are you excited about?                                                                                                                                                                                                                                               0.763420\n",
       "Which technology products do you own? (You can choose more than one)                                                                                                                                                                                                                    0.745253\n",
       "If your company has a native mobile app, what platforms do you support?                                                                                                                                                                                                                 0.733450\n",
       "What advertisers do you remember seeing on Stack Overflow?                                                                                                                                                                                                                              0.716925\n",
       "What types of purchases are you involved in?                                                                                                                                                                                                                                            0.683157\n",
       "Which US State or Territory do you live in?                                                                                                                                                                                                                                             0.675665\n",
       "What other departments / roles do you interact with regularly?                                                                                                                                                                                                                          0.575387\n",
       "What is your involvement in purchasing products or services for the company you work for? (You can choose more than one)                                                                                                                                                                0.553834\n",
       "What is your budget for outside expenditures (hardware, software, consulting, etc) for 2013?                                                                                                                                                                                            0.367956\n",
       "Please rate how important each of the following characteristics of a company/job offer are to you.    Please select a MAXIMUM of 3 items as \"Non-Negotiables\" to help us identify the most important items, those where you would never consider a company if they didn't meet them.    0.288925\n",
       "How do you use Stack Overflow?                                                                                                                                                                                                                                                          0.275685\n",
       "Including bonus, what is your annual compensation in USD?                                                                                                                                                                                                                               0.275480\n",
       "Have you changed jobs in the last 12 months?                                                                                                                                                                                                                                            0.241199\n",
       "What is your current Stack Overflow reputation?                                                                                                                                                                                                                                         0.237093\n",
       "In the last 12 months, how much money have you spent on personal technology-related purchases?                                                                                                                                                                                          0.234117\n",
       "Please rate the advertising you've seen on Stack Overflow                                                                                                                                                                                                                               0.233296\n",
       "What best describes your career / job satisfaction?                                                                                                                                                                                                                                     0.216976\n",
       "In an average week, how do you spend your time?                                                                                                                                                                                                                                         0.206918\n",
       "Including yourself, how many developers are employed at your company?                                                                                                                                                                                                                   0.195936\n",
       "How large is the team that you work on?                                                                                                                                                                                                                                                 0.184851\n",
       "Which desktop operating system do you use the most?                                                                                                                                                                                                                                     0.171200\n",
       "Which of the following best describes your occupation?                                                                                                                                                                                                                                  0.156420\n",
       "How many people work for your company?                                                                                                                                                                                                                                                  0.156420\n",
       "How old are you?                                                                                                                                                                                                                                                                        0.031612\n",
       "How would you best describe the industry you currently work in?                                                                                                                                                                                                                         0.031407\n",
       "How many years of IT/Programming experience do you have?                                                                                                                                                                                                                                0.031407\n",
       "What Country or Region do you live in?                                                                                                                                                                                                                                                  0.000103\n",
       "dtype: float64"
      ]
     },
     "execution_count": 25,
     "metadata": {},
     "output_type": "execute_result"
    }
   ],
   "source": [
    "data_2013.isnull().mean().sort_values(ascending = False)"
   ]
  },
  {
   "cell_type": "code",
   "execution_count": null,
   "metadata": {},
   "outputs": [],
   "source": []
  }
 ],
 "metadata": {
  "kernelspec": {
   "display_name": "Python [conda env:anaconda3]",
   "language": "python",
   "name": "conda-env-anaconda3-py"
  },
  "language_info": {
   "codemirror_mode": {
    "name": "ipython",
    "version": 3
   },
   "file_extension": ".py",
   "mimetype": "text/x-python",
   "name": "python",
   "nbconvert_exporter": "python",
   "pygments_lexer": "ipython3",
   "version": "3.6.4"
  }
 },
 "nbformat": 4,
 "nbformat_minor": 2
}
