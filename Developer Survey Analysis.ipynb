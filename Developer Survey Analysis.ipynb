{
 "cells": [
  {
   "cell_type": "markdown",
   "metadata": {},
   "source": [
    "# Developer Survey Analysis\n",
    "\n",
    "The goal is this analysis is to analyze the 2018 survey results and gain relevant insights pertaining to the profession. Some questions we are interested in right off the bat are:\n",
    "- what are the most popular languages/technologies among developers? Among data scientist in general?\n",
    "- what are the determinants of job satisfaction?\n",
    "- is it possible to extract different data scientist \"archetypes\" from this survey? Do they differ from developers as a broader group?\n",
    "\n",
    "We will leverage descriptive statistics as well as modeling to answer all these questions. We will analyze the results collected by Stack Overflow and made publicly available [here](https://insights.stackoverflow.com/survey)."
   ]
  },
  {
   "cell_type": "code",
   "execution_count": 49,
   "metadata": {},
   "outputs": [],
   "source": [
    "# We start by loading the necessary libraries\n",
    "import pandas as pd\n",
    "import numpy as np\n",
    "import matplotlib as plt\n",
    "import zipfile\n",
    "import os\n",
    "import re\n",
    "\n",
    "%matplotlib inline"
   ]
  },
  {
   "cell_type": "markdown",
   "metadata": {},
   "source": [
    "## Loading the Data"
   ]
  },
  {
   "cell_type": "code",
   "execution_count": 2,
   "metadata": {},
   "outputs": [
    {
     "name": "stderr",
     "output_type": "stream",
     "text": [
      "/anaconda3/lib/python3.6/site-packages/IPython/core/interactiveshell.py:2728: DtypeWarning: Columns (8,12,13,14,15,16,50,51,52,53,55,56,57,58,59,60,61,62,63,64,65,66,67,68,69,70,71,72,73,74,75,76,77,78,79,80,81,82,83,84,85,93,94,95,96,97,98,99,100,101,102,103,104,105,106,107,108,109,110,111,112,113,114,115,116,117,118,119,120,121,122,123,124,125,126,127,128) have mixed types. Specify dtype option on import or set low_memory=False.\n",
      "  interactivity=interactivity, compiler=compiler, result=result)\n"
     ]
    }
   ],
   "source": [
    "# We first extract the file from its archive and then ingest it into Pandas\n",
    "\n",
    "zip_ref = zipfile.ZipFile('developer_survey_2018.zip', 'r')\n",
    "zip_ref.extractall(os.getcwd())\n",
    "zip_ref.close()\n",
    "\n",
    "data_2018 = pd.read_csv('survey_results_public.csv')\n",
    "schema_2018 = pd.read_csv('survey_results_schema.csv')"
   ]
  },
  {
   "cell_type": "markdown",
   "metadata": {},
   "source": [
    "## Initial Assessment"
   ]
  },
  {
   "cell_type": "code",
   "execution_count": 3,
   "metadata": {},
   "outputs": [
    {
     "name": "stdout",
     "output_type": "stream",
     "text": [
      "The 2018 survey results have 98855 respondents and 129 variables\n"
     ]
    }
   ],
   "source": [
    "print('The 2018 survey results have {} respondents and {} variables'.format(str(data_2018.shape[0]),\n",
    "                            str(data_2018.shape[1])))"
   ]
  },
  {
   "cell_type": "code",
   "execution_count": 4,
   "metadata": {},
   "outputs": [
    {
     "data": {
      "text/html": [
       "<div>\n",
       "<style scoped>\n",
       "    .dataframe tbody tr th:only-of-type {\n",
       "        vertical-align: middle;\n",
       "    }\n",
       "\n",
       "    .dataframe tbody tr th {\n",
       "        vertical-align: top;\n",
       "    }\n",
       "\n",
       "    .dataframe thead th {\n",
       "        text-align: right;\n",
       "    }\n",
       "</style>\n",
       "<table border=\"1\" class=\"dataframe\">\n",
       "  <thead>\n",
       "    <tr style=\"text-align: right;\">\n",
       "      <th></th>\n",
       "      <th>Column</th>\n",
       "      <th>QuestionText</th>\n",
       "    </tr>\n",
       "  </thead>\n",
       "  <tbody>\n",
       "    <tr>\n",
       "      <th>0</th>\n",
       "      <td>Respondent</td>\n",
       "      <td>Randomized respondent ID number (not in order ...</td>\n",
       "    </tr>\n",
       "    <tr>\n",
       "      <th>1</th>\n",
       "      <td>Hobby</td>\n",
       "      <td>Do you code as a hobby?</td>\n",
       "    </tr>\n",
       "    <tr>\n",
       "      <th>2</th>\n",
       "      <td>OpenSource</td>\n",
       "      <td>Do you contribute to open source projects?</td>\n",
       "    </tr>\n",
       "    <tr>\n",
       "      <th>3</th>\n",
       "      <td>Country</td>\n",
       "      <td>In which country do you currently reside?</td>\n",
       "    </tr>\n",
       "    <tr>\n",
       "      <th>4</th>\n",
       "      <td>Student</td>\n",
       "      <td>Are you currently enrolled in a formal, degree...</td>\n",
       "    </tr>\n",
       "  </tbody>\n",
       "</table>\n",
       "</div>"
      ],
      "text/plain": [
       "       Column                                       QuestionText\n",
       "0  Respondent  Randomized respondent ID number (not in order ...\n",
       "1       Hobby                            Do you code as a hobby?\n",
       "2  OpenSource         Do you contribute to open source projects?\n",
       "3     Country          In which country do you currently reside?\n",
       "4     Student  Are you currently enrolled in a formal, degree..."
      ]
     },
     "execution_count": 4,
     "metadata": {},
     "output_type": "execute_result"
    }
   ],
   "source": [
    "# The schema will serve as a useful guide\n",
    "schema_2018.head()"
   ]
  },
  {
   "cell_type": "code",
   "execution_count": 56,
   "metadata": {},
   "outputs": [
    {
     "data": {
      "text/plain": [
       "Respondent                       int64\n",
       "Hobby                           object\n",
       "OpenSource                      object\n",
       "Country                         object\n",
       "Student                         object\n",
       "Employment                      object\n",
       "FormalEducation                 object\n",
       "UndergradMajor                  object\n",
       "CompanySize                     object\n",
       "DevType                         object\n",
       "YearsCoding                     object\n",
       "YearsCodingProf                 object\n",
       "JobSatisfaction                 object\n",
       "CareerSatisfaction              object\n",
       "HopeFiveYears                   object\n",
       "JobSearchStatus                 object\n",
       "LastNewJob                      object\n",
       "AssessJob1                     float64\n",
       "AssessJob2                     float64\n",
       "AssessJob3                     float64\n",
       "AssessJob4                     float64\n",
       "AssessJob5                     float64\n",
       "AssessJob6                     float64\n",
       "AssessJob7                     float64\n",
       "AssessJob8                     float64\n",
       "AssessJob9                     float64\n",
       "AssessJob10                    float64\n",
       "AssessBenefits1                float64\n",
       "AssessBenefits2                float64\n",
       "AssessBenefits3                float64\n",
       "                                ...   \n",
       "AIFuture                        object\n",
       "EthicsChoice                    object\n",
       "EthicsReport                    object\n",
       "EthicsResponsible               object\n",
       "EthicalImplications             object\n",
       "StackOverflowRecommend          object\n",
       "StackOverflowVisit              object\n",
       "StackOverflowHasAccount         object\n",
       "StackOverflowParticipate        object\n",
       "StackOverflowJobs               object\n",
       "StackOverflowDevStory           object\n",
       "StackOverflowConsiderMember     object\n",
       "HypotheticalTools1              object\n",
       "HypotheticalTools2              object\n",
       "HypotheticalTools3              object\n",
       "HypotheticalTools4              object\n",
       "HypotheticalTools5              object\n",
       "WakeTime                        object\n",
       "HoursComputer                   object\n",
       "HoursOutside                    object\n",
       "SkipMeals                       object\n",
       "Exercise                        object\n",
       "Gender                          object\n",
       "SexualOrientation               object\n",
       "EducationParents                object\n",
       "RaceEthnicity                   object\n",
       "Age                             object\n",
       "Dependents                      object\n",
       "SurveyTooLong                   object\n",
       "SurveyEasy                      object\n",
       "Length: 123, dtype: object"
      ]
     },
     "execution_count": 56,
     "metadata": {},
     "output_type": "execute_result"
    }
   ],
   "source": [
    "# We can print out the data type of each column, since it will inform our analysis\n",
    "data_2018.dtypes"
   ]
  },
  {
   "cell_type": "markdown",
   "metadata": {},
   "source": [
    "The 2018 survey gathered responses from almost 100,000 people, on 129 questions. It will be really useful to answer the questions at hand. We have both numeric and categorical variables, which we will need to encode in order to be able to plug them in machine learning models."
   ]
  },
  {
   "cell_type": "markdown",
   "metadata": {},
   "source": [
    "## Data Preparation\n",
    "\n",
    "### Missing Values\n",
    "\n",
    "We assess the presence of missing values, and deal with them."
   ]
  },
  {
   "cell_type": "code",
   "execution_count": 6,
   "metadata": {},
   "outputs": [
    {
     "data": {
      "text/plain": [
       "TimeAfterBootcamp              0.932710\n",
       "MilitaryUS                     0.840362\n",
       "HackathonReasons               0.740114\n",
       "ErgonomicDevices               0.655475\n",
       "AdBlockerReasons               0.618178\n",
       "StackOverflowJobsRecommend     0.612392\n",
       "JobEmailPriorities1            0.532517\n",
       "JobEmailPriorities2            0.532517\n",
       "JobEmailPriorities3            0.532517\n",
       "JobEmailPriorities4            0.532517\n",
       "JobEmailPriorities6            0.532517\n",
       "JobEmailPriorities5            0.532517\n",
       "JobEmailPriorities7            0.532517\n",
       "ConvertedSalary                0.517455\n",
       "JobContactPriorities3          0.507299\n",
       "JobContactPriorities4          0.507299\n",
       "JobContactPriorities2          0.507299\n",
       "JobContactPriorities1          0.507299\n",
       "JobContactPriorities5          0.507299\n",
       "Salary                         0.488362\n",
       "SalaryType                     0.483385\n",
       "FrameworkWorkedWith            0.477821\n",
       "TimeFullyProductive            0.475272\n",
       "AdBlockerDisable               0.444661\n",
       "FrameworkDesireNextYear        0.441424\n",
       "CommunicationTools             0.423701\n",
       "SelfTaughtTypes                0.419817\n",
       "RaceEthnicity                  0.418613\n",
       "DatabaseDesireNextYear         0.418360\n",
       "CurrencySymbol                 0.406707\n",
       "                                 ...   \n",
       "LanguageDesireNextYear         0.259076\n",
       "VersionControl                 0.248414\n",
       "AdsAgreeDisagree2              0.247251\n",
       "AdsAgreeDisagree3              0.247241\n",
       "AdsAgreeDisagree1              0.246523\n",
       "StackOverflowJobs              0.238309\n",
       "IDE                            0.237287\n",
       "HopeFiveYears                  0.234050\n",
       "StackOverflowConsiderMember    0.231126\n",
       "AdBlocker                      0.230641\n",
       "OperatingSystem                0.229386\n",
       "NumberMonitors                 0.227171\n",
       "StackOverflowRecommend         0.226251\n",
       "CareerSatisfaction             0.226099\n",
       "StackOverflowHasAccount        0.223196\n",
       "StackOverflowVisit             0.222993\n",
       "YearsCodingProf                0.211947\n",
       "LanguageWorkedWith             0.207587\n",
       "LastNewJob                     0.201973\n",
       "UndergradMajor                 0.200486\n",
       "JobSearchStatus                0.195913\n",
       "DevType                        0.068353\n",
       "YearsCoding                    0.050781\n",
       "FormalEducation                0.042001\n",
       "Student                        0.039998\n",
       "Employment                     0.035749\n",
       "Country                        0.004168\n",
       "OpenSource                     0.000000\n",
       "Hobby                          0.000000\n",
       "Respondent                     0.000000\n",
       "Length: 129, dtype: float64"
      ]
     },
     "execution_count": 6,
     "metadata": {},
     "output_type": "execute_result"
    }
   ],
   "source": [
    "# We assess the columns\n",
    "data_2018.isnull().mean().sort_values(ascending = False)"
   ]
  },
  {
   "cell_type": "code",
   "execution_count": 7,
   "metadata": {},
   "outputs": [
    {
     "data": {
      "image/png": "[encoded data removed]",
      "text/plain": [
       "<matplotlib.figure.Figure at 0x10e9b6f28>"
      ]
     },
     "metadata": {},
     "output_type": "display_data"
    }
   ],
   "source": [
    "data_2018.isnull().mean(axis = 0).hist();"
   ]
  },
  {
   "cell_type": "code",
   "execution_count": 8,
   "metadata": {},
   "outputs": [],
   "source": [
    "# We drop the columns with more than 60% of missing values\n",
    "data_2018 = data_2018.loc[:, data_2018.isnull().mean() < 0.6]"
   ]
  },
  {
   "cell_type": "code",
   "execution_count": 9,
   "metadata": {},
   "outputs": [
    {
     "data": {
      "image/png": "[encoded data removed]",
      "text/plain": [
       "<matplotlib.figure.Figure at 0x10f5a9e80>"
      ]
     },
     "metadata": {},
     "output_type": "display_data"
    }
   ],
   "source": [
    "# We now assess the rows\n",
    "data_2018.isnull().mean(axis = 1).hist();"
   ]
  },
  {
   "cell_type": "code",
   "execution_count": 10,
   "metadata": {},
   "outputs": [],
   "source": [
    "# We drop the rows with more than 80% of missing values\n",
    "data_2018 = data_2018.loc[data_2018.isnull().mean(axis = 1) < 0.8,:]"
   ]
  },
  {
   "cell_type": "code",
   "execution_count": 11,
   "metadata": {},
   "outputs": [
    {
     "name": "stdout",
     "output_type": "stream",
     "text": [
      "After removing missing values, the 2018 survey results have 82184 respondents and 123 variables\n"
     ]
    }
   ],
   "source": [
    "print('After removing missing values, the 2018 survey results have {} respondents and {} variables'.format(str(data_2018.shape[0]),\n",
    "                            str(data_2018.shape[1])))"
   ]
  },
  {
   "cell_type": "markdown",
   "metadata": {},
   "source": [
    "We assess missing values in rows and columns. We remove columns which have more than 50% of missing values, as well as rows that have more than 80% of missing values, for both these groups do not provide us with useful information for our purposes. We are still left with 123 variables and 82,184 respondents. We will probably have to impute or do more cleaning later on, but this is a good first pass for now."
   ]
  },
  {
   "cell_type": "markdown",
   "metadata": {},
   "source": [
    "### Duplicate Values"
   ]
  },
  {
   "cell_type": "code",
   "execution_count": 12,
   "metadata": {},
   "outputs": [
    {
     "name": "stdout",
     "output_type": "stream",
     "text": [
      "0 0\n"
     ]
    }
   ],
   "source": [
    "print(data_2018.Respondent.duplicated().sum(), data_2018.duplicated().sum())"
   ]
  },
  {
   "cell_type": "markdown",
   "metadata": {},
   "source": [
    "No duplicate values to deal with. "
   ]
  },
  {
   "cell_type": "markdown",
   "metadata": {},
   "source": [
    "### Categorical Variables"
   ]
  },
  {
   "cell_type": "code",
   "execution_count": 66,
   "metadata": {},
   "outputs": [
    {
     "ename": "AttributeError",
     "evalue": "Can only use .str accessor with string values, which use np.object_ dtype in pandas",
     "output_type": "error",
     "traceback": [
      "\u001b[0;31m---------------------------------------------------------------------------\u001b[0m",
      "\u001b[0;31mAttributeError\u001b[0m                            Traceback (most recent call last)",
      "\u001b[0;32m<ipython-input-66-4b05b7c539ee>\u001b[0m in \u001b[0;36m<module>\u001b[0;34m()\u001b[0m\n\u001b[1;32m      1\u001b[0m \u001b[0;31m# We transform the salary variable from a categorical to a numerical variables\u001b[0m\u001b[0;34m\u001b[0m\u001b[0;34m\u001b[0m\u001b[0m\n\u001b[0;32m----> 2\u001b[0;31m \u001b[0mdata_2018\u001b[0m\u001b[0;34m.\u001b[0m\u001b[0mSalary\u001b[0m \u001b[0;34m=\u001b[0m \u001b[0mdata_2018\u001b[0m\u001b[0;34m.\u001b[0m\u001b[0mSalary\u001b[0m\u001b[0;34m.\u001b[0m\u001b[0mstr\u001b[0m\u001b[0;34m.\u001b[0m\u001b[0mreplace\u001b[0m\u001b[0;34m(\u001b[0m\u001b[0;34m','\u001b[0m\u001b[0;34m,\u001b[0m \u001b[0;34m''\u001b[0m\u001b[0;34m)\u001b[0m\u001b[0;34m\u001b[0m\u001b[0m\n\u001b[0m\u001b[1;32m      3\u001b[0m \u001b[0mdata_2018\u001b[0m\u001b[0;34m.\u001b[0m\u001b[0mSalary\u001b[0m \u001b[0;34m=\u001b[0m \u001b[0mdata_2018\u001b[0m\u001b[0;34m.\u001b[0m\u001b[0mSalary\u001b[0m\u001b[0;34m.\u001b[0m\u001b[0mastype\u001b[0m\u001b[0;34m(\u001b[0m\u001b[0mint\u001b[0m\u001b[0;34m)\u001b[0m\u001b[0;34m\u001b[0m\u001b[0m\n",
      "\u001b[0;32m/anaconda3/lib/python3.6/site-packages/pandas/core/generic.py\u001b[0m in \u001b[0;36m__getattr__\u001b[0;34m(self, name)\u001b[0m\n\u001b[1;32m   3608\u001b[0m         if (name in self._internal_names_set or name in self._metadata or\n\u001b[1;32m   3609\u001b[0m                 name in self._accessors):\n\u001b[0;32m-> 3610\u001b[0;31m             \u001b[0;32mreturn\u001b[0m \u001b[0mobject\u001b[0m\u001b[0;34m.\u001b[0m\u001b[0m__getattribute__\u001b[0m\u001b[0;34m(\u001b[0m\u001b[0mself\u001b[0m\u001b[0;34m,\u001b[0m \u001b[0mname\u001b[0m\u001b[0;34m)\u001b[0m\u001b[0;34m\u001b[0m\u001b[0m\n\u001b[0m\u001b[1;32m   3611\u001b[0m         \u001b[0;32melse\u001b[0m\u001b[0;34m:\u001b[0m\u001b[0;34m\u001b[0m\u001b[0m\n\u001b[1;32m   3612\u001b[0m             \u001b[0;32mif\u001b[0m \u001b[0mname\u001b[0m \u001b[0;32min\u001b[0m \u001b[0mself\u001b[0m\u001b[0;34m.\u001b[0m\u001b[0m_info_axis\u001b[0m\u001b[0;34m:\u001b[0m\u001b[0;34m\u001b[0m\u001b[0m\n",
      "\u001b[0;32m/anaconda3/lib/python3.6/site-packages/pandas/core/accessor.py\u001b[0m in \u001b[0;36m__get__\u001b[0;34m(self, instance, owner)\u001b[0m\n\u001b[1;32m     52\u001b[0m             \u001b[0;31m# this ensures that Series.str.<method> is well defined\u001b[0m\u001b[0;34m\u001b[0m\u001b[0;34m\u001b[0m\u001b[0m\n\u001b[1;32m     53\u001b[0m             \u001b[0;32mreturn\u001b[0m \u001b[0mself\u001b[0m\u001b[0;34m.\u001b[0m\u001b[0maccessor_cls\u001b[0m\u001b[0;34m\u001b[0m\u001b[0m\n\u001b[0;32m---> 54\u001b[0;31m         \u001b[0;32mreturn\u001b[0m \u001b[0mself\u001b[0m\u001b[0;34m.\u001b[0m\u001b[0mconstruct_accessor\u001b[0m\u001b[0;34m(\u001b[0m\u001b[0minstance\u001b[0m\u001b[0;34m)\u001b[0m\u001b[0;34m\u001b[0m\u001b[0m\n\u001b[0m\u001b[1;32m     55\u001b[0m \u001b[0;34m\u001b[0m\u001b[0m\n\u001b[1;32m     56\u001b[0m     \u001b[0;32mdef\u001b[0m \u001b[0m__set__\u001b[0m\u001b[0;34m(\u001b[0m\u001b[0mself\u001b[0m\u001b[0;34m,\u001b[0m \u001b[0minstance\u001b[0m\u001b[0;34m,\u001b[0m \u001b[0mvalue\u001b[0m\u001b[0;34m)\u001b[0m\u001b[0;34m:\u001b[0m\u001b[0;34m\u001b[0m\u001b[0m\n",
      "\u001b[0;32m/anaconda3/lib/python3.6/site-packages/pandas/core/strings.py\u001b[0m in \u001b[0;36m_make_accessor\u001b[0;34m(cls, data)\u001b[0m\n\u001b[1;32m   1908\u001b[0m             \u001b[0;31m# (instead of test for object dtype), but that isn't practical for\u001b[0m\u001b[0;34m\u001b[0m\u001b[0;34m\u001b[0m\u001b[0m\n\u001b[1;32m   1909\u001b[0m             \u001b[0;31m# performance reasons until we have a str dtype (GH 9343)\u001b[0m\u001b[0;34m\u001b[0m\u001b[0;34m\u001b[0m\u001b[0m\n\u001b[0;32m-> 1910\u001b[0;31m             raise AttributeError(\"Can only use .str accessor with string \"\n\u001b[0m\u001b[1;32m   1911\u001b[0m                                  \u001b[0;34m\"values, which use np.object_ dtype in \"\u001b[0m\u001b[0;34m\u001b[0m\u001b[0m\n\u001b[1;32m   1912\u001b[0m                                  \"pandas\")\n",
      "\u001b[0;31mAttributeError\u001b[0m: Can only use .str accessor with string values, which use np.object_ dtype in pandas"
     ]
    }
   ],
   "source": [
    "# We transform the salary variable from a categorical to a numerical variables\n",
    "data_2018.Salary = data_2018.Salary.str.replace(',', '')\n",
    "data_2018.Salary = data_2018.Salary.astype(int)"
   ]
  },
  {
   "cell_type": "code",
   "execution_count": 67,
   "metadata": {},
   "outputs": [],
   "source": [
    "categorical_cols = data_2018.select_dtypes(include = [\"object\"]).columns.values.tolist()\n",
    "data_2018_dummies = pd.get_dummies(data_2018, columns = categorical_cols, dummy_na = True)"
   ]
  },
  {
   "cell_type": "code",
   "execution_count": 68,
   "metadata": {},
   "outputs": [],
   "source": [
    "# We drop columns which arise from the multiple response nature of the survey, only keeping the most general answer\n",
    "cols = []\n",
    "\n",
    "for c in data_2018_dummies.columns:\n",
    "    if (re.search(r'.*;.*', c)):\n",
    "        cols.append(c)\n",
    "\n",
    "data_2018_dummies.drop(cols, axis =1, inplace = True)"
   ]
  },
  {
   "cell_type": "markdown",
   "metadata": {},
   "source": [
    "We use one-hot encoding for categorical variables, which will enable us to use them in machine learning models later on. Before doing so, we have to convert the salary variable to numeric (it was viewed as categorical due to the thousand separator certain respondents used). Due to the way certain responses were recorded, we also choose to remove detailed descriptions, only keeping the uppermost level."
   ]
  },
  {
   "cell_type": "markdown",
   "metadata": {},
   "source": [
    "### Languages and Frameworks"
   ]
  },
  {
   "cell_type": "markdown",
   "metadata": {},
   "source": [
    "Look overall, and whether there are associations/biases within various groups/professions. Consider using the original dataset vs. the dummy one for this. Focus on the differences between DS and developers."
   ]
  },
  {
   "cell_type": "markdown",
   "metadata": {},
   "source": [
    "### Determinants of job satisfaction"
   ]
  },
  {
   "cell_type": "markdown",
   "metadata": {},
   "source": [
    "Linear Regression model. Impute missing values. "
   ]
  },
  {
   "cell_type": "markdown",
   "metadata": {},
   "source": [
    "### Archetypes"
   ]
  },
  {
   "cell_type": "markdown",
   "metadata": {},
   "source": [
    "Subset only a few variables of interest (salary, education, languages used, big/small company, job satisfaction, experience) Drill in within the data scientist profession in the US, and repeat the analysis for developers, comparing the two. "
   ]
  },
  {
   "cell_type": "code",
   "execution_count": null,
   "metadata": {},
   "outputs": [],
   "source": []
  }
 ],
 "metadata": {
  "kernelspec": {
   "display_name": "Python [conda env:anaconda3]",
   "language": "python",
   "name": "conda-env-anaconda3-py"
  },
  "language_info": {
   "codemirror_mode": {
    "name": "ipython",
    "version": 3
   },
   "file_extension": ".py",
   "mimetype": "text/x-python",
   "name": "python",
   "nbconvert_exporter": "python",
   "pygments_lexer": "ipython3",
   "version": "3.6.4"
  }
 },
 "nbformat": 4,
 "nbformat_minor": 2
}
