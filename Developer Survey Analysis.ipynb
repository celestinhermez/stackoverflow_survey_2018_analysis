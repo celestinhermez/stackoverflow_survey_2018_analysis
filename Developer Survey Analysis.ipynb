{
 "cells": [
  {
   "cell_type": "markdown",
   "metadata": {},
   "source": [
    "# Developer Survey Analysis\n",
    "\n",
    "The goal is this analysis is to analyze the 2018 survey results and gain relevant insights pertaining to the Data Scientist profession. In particular, we want to see whether they differ from developers. Some questions we are interested in right off the bat are:\n",
    "- what are the most popular languages/technologies among developers? Among data scientists?\n",
    "- what are the determinants of job satisfaction? Do data scientists seem more/less satisfied with their jobs, after controlling for confounding variables?\n",
    "- is it possible to extract different data scientist \"archetypes\" from this survey? Do they differ from developers as a broader group?\n",
    "\n",
    "We will leverage descriptive statistics as well as modeling to answer all these questions. We will analyze the results collected by Stack Overflow and made publicly available [here](https://insights.stackoverflow.com/survey)."
   ]
  },
  {
   "cell_type": "code",
   "execution_count": 37,
   "metadata": {},
   "outputs": [],
   "source": [
    "# We start by loading the necessary libraries\n",
    "import pandas as pd\n",
    "import numpy as np\n",
    "import matplotlib.pyplot as plt\n",
    "import zipfile\n",
    "import os\n",
    "import re\n",
    "from collections import defaultdict\n",
    "import seaborn as sns\n",
    "\n",
    "%matplotlib inline"
   ]
  },
  {
   "cell_type": "markdown",
   "metadata": {},
   "source": [
    "## Loading the Data"
   ]
  },
  {
   "cell_type": "code",
   "execution_count": 2,
   "metadata": {},
   "outputs": [
    {
     "name": "stderr",
     "output_type": "stream",
     "text": [
      "/anaconda3/lib/python3.6/site-packages/IPython/core/interactiveshell.py:2728: DtypeWarning: Columns (8,12,13,14,15,16,50,51,52,53,55,56,57,58,59,60,61,62,63,64,65,66,67,68,69,70,71,72,73,74,75,76,77,78,79,80,81,82,83,84,85,93,94,95,96,97,98,99,100,101,102,103,104,105,106,107,108,109,110,111,112,113,114,115,116,117,118,119,120,121,122,123,124,125,126,127,128) have mixed types. Specify dtype option on import or set low_memory=False.\n",
      "  interactivity=interactivity, compiler=compiler, result=result)\n"
     ]
    }
   ],
   "source": [
    "# We first extract the file from its archive and then ingest it into Pandas\n",
    "\n",
    "zip_ref = zipfile.ZipFile('developer_survey_2018.zip', 'r')\n",
    "zip_ref.extractall(os.getcwd())\n",
    "zip_ref.close()\n",
    "\n",
    "data_2018 = pd.read_csv('survey_results_public.csv')\n",
    "schema_2018 = pd.read_csv('survey_results_schema.csv')"
   ]
  },
  {
   "cell_type": "markdown",
   "metadata": {},
   "source": [
    "## Initial Assessment"
   ]
  },
  {
   "cell_type": "code",
   "execution_count": 3,
   "metadata": {},
   "outputs": [
    {
     "name": "stdout",
     "output_type": "stream",
     "text": [
      "The 2018 survey results have 98855 respondents and 129 variables\n"
     ]
    }
   ],
   "source": [
    "print('The 2018 survey results have {} respondents and {} variables'.format(str(data_2018.shape[0]),\n",
    "                            str(data_2018.shape[1])))"
   ]
  },
  {
   "cell_type": "code",
   "execution_count": 4,
   "metadata": {},
   "outputs": [
    {
     "data": {
      "text/html": [
       "<div>\n",
       "<style scoped>\n",
       "    .dataframe tbody tr th:only-of-type {\n",
       "        vertical-align: middle;\n",
       "    }\n",
       "\n",
       "    .dataframe tbody tr th {\n",
       "        vertical-align: top;\n",
       "    }\n",
       "\n",
       "    .dataframe thead th {\n",
       "        text-align: right;\n",
       "    }\n",
       "</style>\n",
       "<table border=\"1\" class=\"dataframe\">\n",
       "  <thead>\n",
       "    <tr style=\"text-align: right;\">\n",
       "      <th></th>\n",
       "      <th>Column</th>\n",
       "      <th>QuestionText</th>\n",
       "    </tr>\n",
       "  </thead>\n",
       "  <tbody>\n",
       "    <tr>\n",
       "      <th>0</th>\n",
       "      <td>Respondent</td>\n",
       "      <td>Randomized respondent ID number (not in order ...</td>\n",
       "    </tr>\n",
       "    <tr>\n",
       "      <th>1</th>\n",
       "      <td>Hobby</td>\n",
       "      <td>Do you code as a hobby?</td>\n",
       "    </tr>\n",
       "    <tr>\n",
       "      <th>2</th>\n",
       "      <td>OpenSource</td>\n",
       "      <td>Do you contribute to open source projects?</td>\n",
       "    </tr>\n",
       "    <tr>\n",
       "      <th>3</th>\n",
       "      <td>Country</td>\n",
       "      <td>In which country do you currently reside?</td>\n",
       "    </tr>\n",
       "    <tr>\n",
       "      <th>4</th>\n",
       "      <td>Student</td>\n",
       "      <td>Are you currently enrolled in a formal, degree...</td>\n",
       "    </tr>\n",
       "  </tbody>\n",
       "</table>\n",
       "</div>"
      ],
      "text/plain": [
       "       Column                                       QuestionText\n",
       "0  Respondent  Randomized respondent ID number (not in order ...\n",
       "1       Hobby                            Do you code as a hobby?\n",
       "2  OpenSource         Do you contribute to open source projects?\n",
       "3     Country          In which country do you currently reside?\n",
       "4     Student  Are you currently enrolled in a formal, degree..."
      ]
     },
     "execution_count": 4,
     "metadata": {},
     "output_type": "execute_result"
    }
   ],
   "source": [
    "# The schema will serve as a useful guide\n",
    "schema_2018.head()"
   ]
  },
  {
   "cell_type": "code",
   "execution_count": 5,
   "metadata": {},
   "outputs": [
    {
     "data": {
      "text/plain": [
       "Respondent                       int64\n",
       "Hobby                           object\n",
       "OpenSource                      object\n",
       "Country                         object\n",
       "Student                         object\n",
       "Employment                      object\n",
       "FormalEducation                 object\n",
       "UndergradMajor                  object\n",
       "CompanySize                     object\n",
       "DevType                         object\n",
       "YearsCoding                     object\n",
       "YearsCodingProf                 object\n",
       "JobSatisfaction                 object\n",
       "CareerSatisfaction              object\n",
       "HopeFiveYears                   object\n",
       "JobSearchStatus                 object\n",
       "LastNewJob                      object\n",
       "AssessJob1                     float64\n",
       "AssessJob2                     float64\n",
       "AssessJob3                     float64\n",
       "AssessJob4                     float64\n",
       "AssessJob5                     float64\n",
       "AssessJob6                     float64\n",
       "AssessJob7                     float64\n",
       "AssessJob8                     float64\n",
       "AssessJob9                     float64\n",
       "AssessJob10                    float64\n",
       "AssessBenefits1                float64\n",
       "AssessBenefits2                float64\n",
       "AssessBenefits3                float64\n",
       "                                ...   \n",
       "EthicsResponsible               object\n",
       "EthicalImplications             object\n",
       "StackOverflowRecommend          object\n",
       "StackOverflowVisit              object\n",
       "StackOverflowHasAccount         object\n",
       "StackOverflowParticipate        object\n",
       "StackOverflowJobs               object\n",
       "StackOverflowDevStory           object\n",
       "StackOverflowJobsRecommend      object\n",
       "StackOverflowConsiderMember     object\n",
       "HypotheticalTools1              object\n",
       "HypotheticalTools2              object\n",
       "HypotheticalTools3              object\n",
       "HypotheticalTools4              object\n",
       "HypotheticalTools5              object\n",
       "WakeTime                        object\n",
       "HoursComputer                   object\n",
       "HoursOutside                    object\n",
       "SkipMeals                       object\n",
       "ErgonomicDevices                object\n",
       "Exercise                        object\n",
       "Gender                          object\n",
       "SexualOrientation               object\n",
       "EducationParents                object\n",
       "RaceEthnicity                   object\n",
       "Age                             object\n",
       "Dependents                      object\n",
       "MilitaryUS                      object\n",
       "SurveyTooLong                   object\n",
       "SurveyEasy                      object\n",
       "Length: 129, dtype: object"
      ]
     },
     "execution_count": 5,
     "metadata": {},
     "output_type": "execute_result"
    }
   ],
   "source": [
    "# We can print out the data type of each column, since it will inform our analysis\n",
    "data_2018.dtypes"
   ]
  },
  {
   "cell_type": "markdown",
   "metadata": {},
   "source": [
    "The 2018 survey gathered responses from almost 100,000 people, on 129 questions. It will be really useful to answer the questions at hand. We have both numeric and categorical variables, which we will need to encode in order to be able to plug them in machine learning models."
   ]
  },
  {
   "cell_type": "markdown",
   "metadata": {},
   "source": [
    "## Data Preparation\n",
    "\n",
    "### Missing Values\n",
    "\n",
    "We assess the presence of missing values, and deal with them."
   ]
  },
  {
   "cell_type": "code",
   "execution_count": 6,
   "metadata": {},
   "outputs": [
    {
     "data": {
      "text/plain": [
       "TimeAfterBootcamp              0.932710\n",
       "MilitaryUS                     0.840362\n",
       "HackathonReasons               0.740114\n",
       "ErgonomicDevices               0.655475\n",
       "AdBlockerReasons               0.618178\n",
       "StackOverflowJobsRecommend     0.612392\n",
       "JobEmailPriorities1            0.532517\n",
       "JobEmailPriorities2            0.532517\n",
       "JobEmailPriorities3            0.532517\n",
       "JobEmailPriorities4            0.532517\n",
       "JobEmailPriorities6            0.532517\n",
       "JobEmailPriorities5            0.532517\n",
       "JobEmailPriorities7            0.532517\n",
       "ConvertedSalary                0.517455\n",
       "JobContactPriorities3          0.507299\n",
       "JobContactPriorities4          0.507299\n",
       "JobContactPriorities2          0.507299\n",
       "JobContactPriorities1          0.507299\n",
       "JobContactPriorities5          0.507299\n",
       "Salary                         0.488362\n",
       "SalaryType                     0.483385\n",
       "FrameworkWorkedWith            0.477821\n",
       "TimeFullyProductive            0.475272\n",
       "AdBlockerDisable               0.444661\n",
       "FrameworkDesireNextYear        0.441424\n",
       "CommunicationTools             0.423701\n",
       "SelfTaughtTypes                0.419817\n",
       "RaceEthnicity                  0.418613\n",
       "DatabaseDesireNextYear         0.418360\n",
       "CurrencySymbol                 0.406707\n",
       "                                 ...   \n",
       "LanguageDesireNextYear         0.259076\n",
       "VersionControl                 0.248414\n",
       "AdsAgreeDisagree2              0.247251\n",
       "AdsAgreeDisagree3              0.247241\n",
       "AdsAgreeDisagree1              0.246523\n",
       "StackOverflowJobs              0.238309\n",
       "IDE                            0.237287\n",
       "HopeFiveYears                  0.234050\n",
       "StackOverflowConsiderMember    0.231126\n",
       "AdBlocker                      0.230641\n",
       "OperatingSystem                0.229386\n",
       "NumberMonitors                 0.227171\n",
       "StackOverflowRecommend         0.226251\n",
       "CareerSatisfaction             0.226099\n",
       "StackOverflowHasAccount        0.223196\n",
       "StackOverflowVisit             0.222993\n",
       "YearsCodingProf                0.211947\n",
       "LanguageWorkedWith             0.207587\n",
       "LastNewJob                     0.201973\n",
       "UndergradMajor                 0.200486\n",
       "JobSearchStatus                0.195913\n",
       "DevType                        0.068353\n",
       "YearsCoding                    0.050781\n",
       "FormalEducation                0.042001\n",
       "Student                        0.039998\n",
       "Employment                     0.035749\n",
       "Country                        0.004168\n",
       "OpenSource                     0.000000\n",
       "Hobby                          0.000000\n",
       "Respondent                     0.000000\n",
       "Length: 129, dtype: float64"
      ]
     },
     "execution_count": 6,
     "metadata": {},
     "output_type": "execute_result"
    }
   ],
   "source": [
    "# We assess the columns\n",
    "data_2018.isnull().mean().sort_values(ascending = False)"
   ]
  },
  {
   "cell_type": "code",
   "execution_count": 7,
   "metadata": {},
   "outputs": [
    {
     "data": {
      "image/png": "[encoded data removed]",
      "text/plain": [
       "<Figure size 432x288 with 1 Axes>"
      ]
     },
     "metadata": {},
     "output_type": "display_data"
    }
   ],
   "source": [
    "data_2018.isnull().mean(axis = 0).hist();"
   ]
  },
  {
   "cell_type": "code",
   "execution_count": 8,
   "metadata": {},
   "outputs": [],
   "source": [
    "# We drop the columns with more than 60% of missing values\n",
    "data_2018 = data_2018.loc[:, data_2018.isnull().mean() < 0.6]"
   ]
  },
  {
   "cell_type": "code",
   "execution_count": 9,
   "metadata": {},
   "outputs": [
    {
     "data": {
      "image/png": "[encoded data removed]",
      "text/plain": [
       "<Figure size 432x288 with 1 Axes>"
      ]
     },
     "metadata": {},
     "output_type": "display_data"
    }
   ],
   "source": [
    "# We now assess the rows\n",
    "data_2018.isnull().mean(axis = 1).hist();"
   ]
  },
  {
   "cell_type": "code",
   "execution_count": 10,
   "metadata": {},
   "outputs": [],
   "source": [
    "# We drop the rows with more than 80% of missing values\n",
    "data_2018 = data_2018.loc[data_2018.isnull().mean(axis = 1) < 0.8,:]"
   ]
  },
  {
   "cell_type": "code",
   "execution_count": 11,
   "metadata": {},
   "outputs": [
    {
     "name": "stdout",
     "output_type": "stream",
     "text": [
      "After removing missing values, the 2018 survey results have 82184 respondents and 123 variables\n"
     ]
    }
   ],
   "source": [
    "print('After removing missing values, the 2018 survey results have {} respondents and {} variables'.format(str(data_2018.shape[0]),\n",
    "                            str(data_2018.shape[1])))"
   ]
  },
  {
   "cell_type": "markdown",
   "metadata": {},
   "source": [
    "We assess missing values in rows and columns. We remove columns which have more than 50% of missing values, as well as rows that have more than 80% of missing values, for both these groups do not provide us with useful information for our purposes. We are still left with 123 variables and 82,184 respondents. We will probably have to impute or do more cleaning later on, but this is a good first pass for now."
   ]
  },
  {
   "cell_type": "markdown",
   "metadata": {},
   "source": [
    "### Duplicate Values"
   ]
  },
  {
   "cell_type": "code",
   "execution_count": 12,
   "metadata": {},
   "outputs": [
    {
     "name": "stdout",
     "output_type": "stream",
     "text": [
      "0 0\n"
     ]
    }
   ],
   "source": [
    "print(data_2018.Respondent.duplicated().sum(), data_2018.duplicated().sum())"
   ]
  },
  {
   "cell_type": "markdown",
   "metadata": {},
   "source": [
    "No duplicate values to deal with. "
   ]
  },
  {
   "cell_type": "markdown",
   "metadata": {},
   "source": [
    "### Categorical Variables"
   ]
  },
  {
   "cell_type": "code",
   "execution_count": 13,
   "metadata": {},
   "outputs": [],
   "source": [
    "# We transform the salary variable from a categorical to a numerical variables\n",
    "data_2018.Salary = pd.to_numeric(data_2018.Salary.str.replace(',', ''), errors = 'coerce')"
   ]
  },
  {
   "cell_type": "code",
   "execution_count": 14,
   "metadata": {},
   "outputs": [],
   "source": [
    "# Create a numerical representation of JobSatisfaction for predictions later\n",
    "mapping = dict([(category, code) for code, category in enumerate(data_2018.CareerSatisfaction.unique())])\n",
    "data_2018.JobSatisfaction = data_2018.JobSatisfaction.map(mapping)"
   ]
  },
  {
   "cell_type": "code",
   "execution_count": 15,
   "metadata": {},
   "outputs": [],
   "source": [
    "# Create dummy variables for our categorical variables\n",
    "categorical_cols = data_2018.select_dtypes(include = [\"object\"]).columns.values.tolist()\n",
    "data_2018_dummies = pd.get_dummies(data_2018, columns = categorical_cols, dummy_na = True)"
   ]
  },
  {
   "cell_type": "code",
   "execution_count": 16,
   "metadata": {},
   "outputs": [],
   "source": [
    "# We drop columns which arise from the multiple response nature of the survey, only keeping the most general answer\n",
    "cols = []\n",
    "\n",
    "for c in data_2018_dummies.columns:\n",
    "    if (re.search(r'.*;.*', c)):\n",
    "        cols.append(c)\n",
    "\n",
    "data_2018_dummies.drop(cols, axis =1, inplace = True)"
   ]
  },
  {
   "cell_type": "markdown",
   "metadata": {},
   "source": [
    "Later in our analysis, we will want to use the salary variable, which we thus convert to numeric (it was viewed as categorical due to the thousand separator certain respondents used). We also create a numerical representation of job satisfaction, to be used in multi-class classification later on.\n",
    "\n",
    "We use one-hot encoding for categorical variables, which will enable us to use them in machine learning models later on. Due to the way certain responses were recorded, we also choose to remove detailed descriptions, only keeping the uppermost level."
   ]
  },
  {
   "cell_type": "markdown",
   "metadata": {},
   "source": [
    "### Languages"
   ]
  },
  {
   "cell_type": "markdown",
   "metadata": {},
   "source": [
    "Look overall, and whether there are associations/biases within various groups/professions. Consider using the original dataset vs. the dummy one for this. Focus on the differences between DS and developers.\n",
    "Create same visualizations as in the example seen in class."
   ]
  },
  {
   "cell_type": "markdown",
   "metadata": {},
   "source": [
    "For this particular application, since we are not trying to build a model, we use the dataset before creating dummies for categorical variables. We want to look at languages they've worked with, as well as what they want to learn in the future to see whether there is agreement as well as whether it is possible to discern a trend."
   ]
  },
  {
   "cell_type": "code",
   "execution_count": 17,
   "metadata": {},
   "outputs": [],
   "source": [
    "# We start by only keeping non-null elements of the dataframe\n",
    "data_2018_languages_past = data_2018.loc[data_2018.LanguageWorkedWith.notnull(),:]"
   ]
  },
  {
   "cell_type": "code",
   "execution_count": 18,
   "metadata": {},
   "outputs": [],
   "source": [
    "# We extract all the possible languages through a helper function\n",
    "\n",
    "def extract_unique_values(df, column):\n",
    "    '''\n",
    "    INPUT:\n",
    "    df - a dataframe\n",
    "    column - a column of a dataframe with values separated with a semicolon\n",
    "\n",
    "    OUTPUT:\n",
    "    unique_values - a list of unique values present in the column\n",
    "    '''\n",
    "\n",
    "    unique_values = []\n",
    "\n",
    "    for i in df[column].unique():\n",
    "        for j in i.split(';'):\n",
    "            if not j in unique_values:\n",
    "                unique_values.append(j)\n",
    "    return(unique_values)\n",
    "\n",
    "languages = extract_unique_values(data_2018_languages_past, 'LanguageWorkedWith')"
   ]
  },
  {
   "cell_type": "code",
   "execution_count": 28,
   "metadata": {},
   "outputs": [],
   "source": [
    "# Now that we have all the possible values, we use them to create counts for each\n",
    "# We start by creating two helper functions\n",
    "\n",
    "def total_count(df, col1, col2, look_for):\n",
    "    '''\n",
    "    INPUT:\n",
    "    df - the pandas dataframe you want to search\n",
    "    col1 - the column name you want to look through\n",
    "    col2 - the column you want to count values from\n",
    "    look_for - a list of strings you want to search for in each row of df[col]\n",
    "\n",
    "    OUTPUT:\n",
    "    new_df - a dataframe of each look_for with the count of how often it shows up\n",
    "    '''\n",
    "    new_df = defaultdict(int)\n",
    "    #loop through list of ed types\n",
    "    for val in look_for:\n",
    "        #loop through rows\n",
    "        for idx in range(df.shape[0]):\n",
    "            #if the ed type is in the row add 1\n",
    "            if val in df[col1][idx]:\n",
    "                new_df[val] += int(df[col2][idx])\n",
    "    new_df = pd.DataFrame(pd.Series(new_df)).reset_index()\n",
    "    new_df.columns = [col1, col2]\n",
    "    new_df.sort_values('count', ascending=False, inplace=True)\n",
    "    return new_df\n",
    "\n",
    "\n",
    "def compute_unique_count(df, col, rename_index, unique_values):\n",
    "    '''\n",
    "    INPUT:\n",
    "    df - the pandas dataframe from which to extract the values\n",
    "    col - the column whose value counts we want\n",
    "    rename_index - a string to rename the index of our resulting dataframe\n",
    "    unique_values - a list of unique values for which we want the counts\n",
    "\n",
    "    OUTPUT:\n",
    "    counts - a dataframe of each value with its associated counts\n",
    "    '''\n",
    "    \n",
    "    counts = df[col].value_counts().reset_index()\n",
    "    counts.rename(columns={'index': rename_index, col: 'count'}, inplace=True)\n",
    "    counts = total_count(counts, rename_index, 'count', unique_values)\n",
    "    counts.set_index(rename_index, inplace = True)\n",
    "    \n",
    "    return(counts)"
   ]
  },
  {
   "cell_type": "code",
   "execution_count": 29,
   "metadata": {},
   "outputs": [],
   "source": [
    "# We can now process our dataframe to extract all the counts for the values\n",
    "languages_overall = compute_unique_count(data_2018_languages_past, 'LanguageWorkedWith', 'language', languages)"
   ]
  },
  {
   "cell_type": "code",
   "execution_count": 30,
   "metadata": {},
   "outputs": [
    {
     "data": {
      "image/png": "[encoded data removed]",
      "text/plain": [
       "<Figure size 432x288 with 1 Axes>"
      ]
     },
     "metadata": {},
     "output_type": "display_data"
    }
   ],
   "source": [
    "# We can now plot the popularity of various languages overall\n",
    "# We only keep the top 10\n",
    "languages_overall.head(10).plot(kind = 'bar', legend = None);\n",
    "plt.title(\"Top 10 Most Popular Programming Languages Among Respondents of 2018 StackOverflow Survey\");\n",
    "plt.xlabel(\"Language\");\n",
    "plt.ylabel(\"Number of Times Mentioned\");"
   ]
  },
  {
   "cell_type": "code",
   "execution_count": 32,
   "metadata": {},
   "outputs": [],
   "source": [
    "# We create two datasets, one for data scientists/analysts and one for the rest\n",
    "# We must first filter out the NA values in the DevType column to do so\n",
    "# We create a function to modularize the process\n",
    "\n",
    "def extract_DS(df, col, pattern):\n",
    "    '''\n",
    "    INPUT:\n",
    "    df - the pandas dataframe to split in 2\n",
    "    col - the column which contains the profession information\n",
    "    pattern - a list of patterns we can use to see if someone considers oneself a data scientist/analyst\n",
    "\n",
    "    OUTPUT:\n",
    "    df_DS - a dataframe of data scientists\n",
    "    df_noDS - a dataframe of developers other than data scientists\n",
    "    '''\n",
    "    \n",
    "    df.dropna(subset = [col], axis = 0, inplace = True)\n",
    "    data_scientists = df[col].str.contains('|'.join(pattern))\n",
    "    df_DS = df.loc[data_scientists,:]\n",
    "    df_noDS = df.loc[data_scientists == False, :]\n",
    "    \n",
    "    return(df_DS, df_noDS)"
   ]
  },
  {
   "cell_type": "code",
   "execution_count": 33,
   "metadata": {},
   "outputs": [
    {
     "name": "stderr",
     "output_type": "stream",
     "text": [
      "/anaconda3/lib/python3.6/site-packages/ipykernel/__main__.py:17: SettingWithCopyWarning: \n",
      "A value is trying to be set on a copy of a slice from a DataFrame\n",
      "\n",
      "See the caveats in the documentation: http://pandas.pydata.org/pandas-docs/stable/indexing.html#indexing-view-versus-copy\n"
     ]
    }
   ],
   "source": [
    "# We build the pattern and split our data frame into 2, one for data scientists and one not\n",
    "pattern = ['Data or business analyst' , 'Data scientist or machine learning specialist']\n",
    "data_2018_languages_past_DS, data_2018_languages_past_noDS = extract_DS(data_2018_languages_past, 'DevType', pattern)"
   ]
  },
  {
   "cell_type": "code",
   "execution_count": 35,
   "metadata": {},
   "outputs": [],
   "source": [
    "# We now repeat the analysis\n",
    "languages_DS = compute_unique_count(data_2018_languages_past_DS, 'LanguageWorkedWith', 'language', languages)\n",
    "languages_noDS = compute_unique_count(data_2018_languages_past_noDS, 'LanguageWorkedWith', 'language', languages)"
   ]
  },
  {
   "cell_type": "code",
   "execution_count": 66,
   "metadata": {},
   "outputs": [
    {
     "data": {
      "image/png": "[encoded data removed]",
      "text/plain": [
       "<Figure size 432x216 with 2 Axes>"
      ]
     },
     "metadata": {},
     "output_type": "display_data"
    }
   ],
   "source": [
    "languages_DS['Profession'] = 'Data Scientist'\n",
    "languages_noDS['Profession'] = 'Other Developers'\n",
    "df = pd.concat([languages_DS.head(10), languages_noDS.head(10)], axis = 0)\n",
    "df.reset_index(inplace = True)\n",
    "g = sns.FacetGrid(df, col = \"Profession\")\n",
    "g.map(plt.bar, 'language', 'count')\n",
    "g.set_xticklabels(rotation = 90)\n",
    "plt.subplots_adjust(top=0.8)\n",
    "g.fig.suptitle(\"Most Popular Programming Languages Among Data Scientists And Other Developers\")\n",
    "plt.show()"
   ]
  },
  {
   "cell_type": "code",
   "execution_count": 73,
   "metadata": {},
   "outputs": [
    {
     "data": {
      "image/png": "[encoded data removed]",
      "text/plain": [
       "<Figure size 432x216 with 2 Axes>"
      ]
     },
     "metadata": {},
     "output_type": "display_data"
    }
   ],
   "source": [
    "# We can now create a dataframe from these two and build a faceted plot\n",
    "\n",
    "def create_faceted_plot(df_DS, df_noDS, plot_title, xlabel, ylabel):\n",
    "    '''\n",
    "    INPUT:\n",
    "    df_DS - a Pandas dataframe of counts for Data Scientists\n",
    "    df_noDS - a Pandas dataframe of counts for other developers\n",
    "    plot_title - a string, title to give to our plot\n",
    "    xlabel - a string, label for our x axis\n",
    "    ylabel - a string, label for our y axis\n",
    "\n",
    "    OUTPUT:\n",
    "    a faceted plot\n",
    "    '''\n",
    "    \n",
    "    df_DS['Profession'] = 'Data Scientist'\n",
    "    df_noDS['Profession'] = 'Other Developers'\n",
    "    df = pd.concat([df_DS.head(10), df_noDS.head(10)], axis = 0)\n",
    "    df.reset_index(inplace = True)\n",
    "    g = sns.FacetGrid(df, col = \"Profession\")\n",
    "    g.map(plt.bar, 'language', 'count')\n",
    "    g.set_xticklabels(rotation = 90)\n",
    "    g.set_xlabels(xlabel)\n",
    "    g.set_ylabels(ylabel)\n",
    "    plt.subplots_adjust(top=0.8)\n",
    "    g.fig.suptitle(plot_title)\n",
    "    plt.show()\n",
    "\n",
    "create_faceted_plot(languages_DS, languages_noDS,\n",
    "                   \"Most Popular Programming Languages Among Data Scientists And Other Developers\",\n",
    "                   \"Language\", \"Number of Respondents\")"
   ]
  },
  {
   "cell_type": "code",
   "execution_count": 23,
   "metadata": {},
   "outputs": [],
   "source": [
    "# Do the overall analysis after modularizing the code"
   ]
  },
  {
   "cell_type": "markdown",
   "metadata": {},
   "source": [
    "### Determinants of job satisfaction"
   ]
  },
  {
   "cell_type": "markdown",
   "metadata": {},
   "source": [
    "Linear Regression model. Impute missing values. Only a subset of all features? Compare data scientists vs. developers in general. Start by only looking at on average, and then control for other values. Deal with categorical variables here - rather than have all the values for dev_type, create a dummy if data scientist/analyst or not and drop dev_type."
   ]
  },
  {
   "cell_type": "markdown",
   "metadata": {},
   "source": [
    "### Archetypes"
   ]
  },
  {
   "cell_type": "markdown",
   "metadata": {},
   "source": [
    "Subset only a few variables of interest (salary, education, languages used, big/small company, job satisfaction, experience) Drill in within the data scientist profession in the US, and repeat the analysis for developers, comparing the two. Use the dummy variable for DS here, and do the clustering on the two subsets."
   ]
  },
  {
   "cell_type": "code",
   "execution_count": null,
   "metadata": {},
   "outputs": [],
   "source": []
  }
 ],
 "metadata": {
  "kernelspec": {
   "display_name": "Python [conda env:anaconda3]",
   "language": "python",
   "name": "conda-env-anaconda3-py"
  },
  "language_info": {
   "codemirror_mode": {
    "name": "ipython",
    "version": 3
   },
   "file_extension": ".py",
   "mimetype": "text/x-python",
   "name": "python",
   "nbconvert_exporter": "python",
   "pygments_lexer": "ipython3",
   "version": "3.6.6"
  }
 },
 "nbformat": 4,
 "nbformat_minor": 2
}
