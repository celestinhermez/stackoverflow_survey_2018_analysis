{
 "cells": [
  {
   "cell_type": "markdown",
   "metadata": {},
   "source": [
    "# Developer Survey Analysis\n",
    "\n",
    "The goal is this analysis is to analyze the 2018 Stack Overflow survey results and gain relevant insights pertaining to developers, in particular the subgroup that identifies themselves as data scientist. We are interested in studying whether they differ from developers. Some questions we are interested in right off the bat are:\n",
    "- what are the most popular languages among developers? Among data scientists?\n",
    "- what are the determinants of job satisfaction? Do data scientists seem more/less satisfied with their jobs, after controlling for confounding variables?\n",
    "- is it possible to extract different data scientist \"archetypes\" from this survey? Do they differ from developers as a broader group?\n",
    "\n",
    "We will leverage descriptive statistics as well as modeling to answer all these questions. We will analyze the results collected by Stack Overflow and made publicly available [here](https://insights.stackoverflow.com/survey)."
   ]
  },
  {
   "cell_type": "code",
   "execution_count": 1,
   "metadata": {},
   "outputs": [
    {
     "name": "stderr",
     "output_type": "stream",
     "text": [
      "/anaconda3/lib/python3.6/site-packages/statsmodels/compat/pandas.py:56: FutureWarning: The pandas.core.datetools module is deprecated and will be removed in a future version. Please use the pandas.tseries module instead.\n",
      "  from pandas.core import datetools\n",
      "/anaconda3/lib/python3.6/site-packages/sklearn/cross_validation.py:41: DeprecationWarning: This module was deprecated in version 0.18 in favor of the model_selection module into which all the refactored classes and functions are moved. Also note that the interface of the new CV iterators are different from that of this module. This module will be removed in 0.20.\n",
      "  \"This module will be removed in 0.20.\", DeprecationWarning)\n",
      "/anaconda3/lib/python3.6/site-packages/sklearn/grid_search.py:42: DeprecationWarning: This module was deprecated in version 0.18 in favor of the model_selection module into which all the refactored classes and functions are moved. This module will be removed in 0.20.\n",
      "  DeprecationWarning)\n"
     ]
    }
   ],
   "source": [
    "# We start by loading the necessary libraries\n",
    "import pandas as pd\n",
    "import numpy as np\n",
    "from sklearn import linear_model\n",
    "import matplotlib.pyplot as plt\n",
    "import statsmodels.api as sm\n",
    "from scipy import stats\n",
    "import zipfile\n",
    "from sklearn.cluster import KMeans\n",
    "import os\n",
    "import re\n",
    "import math\n",
    "from collections import defaultdict\n",
    "import seaborn as sns\n",
    "from sklearn.model_selection import train_test_split\n",
    "from sklearn.preprocessing import StandardScaler\n",
    "from sklearn.linear_model import LinearRegression, Lasso, Ridge\n",
    "from sklearn.metrics import r2_score, mean_squared_error, make_scorer\n",
    "from sklearn.grid_search import GridSearchCV\n",
    "\n",
    "%matplotlib inline"
   ]
  },
  {
   "cell_type": "markdown",
   "metadata": {},
   "source": [
    "## Loading the Data"
   ]
  },
  {
   "cell_type": "code",
   "execution_count": 2,
   "metadata": {},
   "outputs": [
    {
     "name": "stderr",
     "output_type": "stream",
     "text": [
      "/anaconda3/lib/python3.6/site-packages/IPython/core/interactiveshell.py:2728: DtypeWarning: Columns (8,12,13,14,15,16,50,51,52,53,55,56,57,58,59,60,61,62,63,64,65,66,67,68,69,70,71,72,73,74,75,76,77,78,79,80,81,82,83,84,85,93,94,95,96,97,98,99,100,101,102,103,104,105,106,107,108,109,110,111,112,113,114,115,116,117,118,119,120,121,122,123,124,125,126,127,128) have mixed types. Specify dtype option on import or set low_memory=False.\n",
      "  interactivity=interactivity, compiler=compiler, result=result)\n"
     ]
    }
   ],
   "source": [
    "# We first extract the file from its archive and then ingest it into Pandas\n",
    "\n",
    "zip_ref = zipfile.ZipFile('developer_survey_2018.zip', 'r')\n",
    "zip_ref.extractall(os.getcwd())\n",
    "zip_ref.close()\n",
    "\n",
    "data_2018 = pd.read_csv('survey_results_public.csv')\n",
    "schema_2018 = pd.read_csv('survey_results_schema.csv')"
   ]
  },
  {
   "cell_type": "markdown",
   "metadata": {},
   "source": [
    "## Initial Assessment"
   ]
  },
  {
   "cell_type": "code",
   "execution_count": 3,
   "metadata": {},
   "outputs": [
    {
     "name": "stdout",
     "output_type": "stream",
     "text": [
      "The 2018 survey had 98855 respondents and 129 variables\n"
     ]
    }
   ],
   "source": [
    "print('The 2018 survey had {} respondents and {} variables'.format(str(data_2018.shape[0]),\n",
    "                            str(data_2018.shape[1])))"
   ]
  },
  {
   "cell_type": "code",
   "execution_count": 4,
   "metadata": {},
   "outputs": [
    {
     "data": {
      "text/html": [
       "<div>\n",
       "<style scoped>\n",
       "    .dataframe tbody tr th:only-of-type {\n",
       "        vertical-align: middle;\n",
       "    }\n",
       "\n",
       "    .dataframe tbody tr th {\n",
       "        vertical-align: top;\n",
       "    }\n",
       "\n",
       "    .dataframe thead th {\n",
       "        text-align: right;\n",
       "    }\n",
       "</style>\n",
       "<table border=\"1\" class=\"dataframe\">\n",
       "  <thead>\n",
       "    <tr style=\"text-align: right;\">\n",
       "      <th></th>\n",
       "      <th>Column</th>\n",
       "      <th>QuestionText</th>\n",
       "    </tr>\n",
       "  </thead>\n",
       "  <tbody>\n",
       "    <tr>\n",
       "      <th>0</th>\n",
       "      <td>Respondent</td>\n",
       "      <td>Randomized respondent ID number (not in order ...</td>\n",
       "    </tr>\n",
       "    <tr>\n",
       "      <th>1</th>\n",
       "      <td>Hobby</td>\n",
       "      <td>Do you code as a hobby?</td>\n",
       "    </tr>\n",
       "    <tr>\n",
       "      <th>2</th>\n",
       "      <td>OpenSource</td>\n",
       "      <td>Do you contribute to open source projects?</td>\n",
       "    </tr>\n",
       "    <tr>\n",
       "      <th>3</th>\n",
       "      <td>Country</td>\n",
       "      <td>In which country do you currently reside?</td>\n",
       "    </tr>\n",
       "    <tr>\n",
       "      <th>4</th>\n",
       "      <td>Student</td>\n",
       "      <td>Are you currently enrolled in a formal, degree...</td>\n",
       "    </tr>\n",
       "  </tbody>\n",
       "</table>\n",
       "</div>"
      ],
      "text/plain": [
       "       Column                                       QuestionText\n",
       "0  Respondent  Randomized respondent ID number (not in order ...\n",
       "1       Hobby                            Do you code as a hobby?\n",
       "2  OpenSource         Do you contribute to open source projects?\n",
       "3     Country          In which country do you currently reside?\n",
       "4     Student  Are you currently enrolled in a formal, degree..."
      ]
     },
     "execution_count": 4,
     "metadata": {},
     "output_type": "execute_result"
    }
   ],
   "source": [
    "# The schema will serve as a useful guide\n",
    "schema_2018.head()"
   ]
  },
  {
   "cell_type": "code",
   "execution_count": 5,
   "metadata": {},
   "outputs": [
    {
     "data": {
      "text/plain": [
       "Respondent                       int64\n",
       "Hobby                           object\n",
       "OpenSource                      object\n",
       "Country                         object\n",
       "Student                         object\n",
       "Employment                      object\n",
       "FormalEducation                 object\n",
       "UndergradMajor                  object\n",
       "CompanySize                     object\n",
       "DevType                         object\n",
       "YearsCoding                     object\n",
       "YearsCodingProf                 object\n",
       "JobSatisfaction                 object\n",
       "CareerSatisfaction              object\n",
       "HopeFiveYears                   object\n",
       "JobSearchStatus                 object\n",
       "LastNewJob                      object\n",
       "AssessJob1                     float64\n",
       "AssessJob2                     float64\n",
       "AssessJob3                     float64\n",
       "AssessJob4                     float64\n",
       "AssessJob5                     float64\n",
       "AssessJob6                     float64\n",
       "AssessJob7                     float64\n",
       "AssessJob8                     float64\n",
       "AssessJob9                     float64\n",
       "AssessJob10                    float64\n",
       "AssessBenefits1                float64\n",
       "AssessBenefits2                float64\n",
       "AssessBenefits3                float64\n",
       "                                ...   \n",
       "EthicsResponsible               object\n",
       "EthicalImplications             object\n",
       "StackOverflowRecommend          object\n",
       "StackOverflowVisit              object\n",
       "StackOverflowHasAccount         object\n",
       "StackOverflowParticipate        object\n",
       "StackOverflowJobs               object\n",
       "StackOverflowDevStory           object\n",
       "StackOverflowJobsRecommend      object\n",
       "StackOverflowConsiderMember     object\n",
       "HypotheticalTools1              object\n",
       "HypotheticalTools2              object\n",
       "HypotheticalTools3              object\n",
       "HypotheticalTools4              object\n",
       "HypotheticalTools5              object\n",
       "WakeTime                        object\n",
       "HoursComputer                   object\n",
       "HoursOutside                    object\n",
       "SkipMeals                       object\n",
       "ErgonomicDevices                object\n",
       "Exercise                        object\n",
       "Gender                          object\n",
       "SexualOrientation               object\n",
       "EducationParents                object\n",
       "RaceEthnicity                   object\n",
       "Age                             object\n",
       "Dependents                      object\n",
       "MilitaryUS                      object\n",
       "SurveyTooLong                   object\n",
       "SurveyEasy                      object\n",
       "Length: 129, dtype: object"
      ]
     },
     "execution_count": 5,
     "metadata": {},
     "output_type": "execute_result"
    }
   ],
   "source": [
    "# We can print out the data type of each column\n",
    "data_2018.dtypes"
   ]
  },
  {
   "cell_type": "markdown",
   "metadata": {},
   "source": [
    "The 2018 survey gathered responses from almost 100,000 people, on 129 questions. We have both numeric and categorical variables, which we will need to encode in order to be able to plug them in machine learning models."
   ]
  },
  {
   "cell_type": "markdown",
   "metadata": {},
   "source": [
    "## Data Preparation\n",
    "\n",
    "### Missing Values\n",
    "\n",
    "We assess the presence of missing values, and deal with them."
   ]
  },
  {
   "cell_type": "code",
   "execution_count": 6,
   "metadata": {},
   "outputs": [
    {
     "data": {
      "text/plain": [
       "TimeAfterBootcamp              0.932710\n",
       "MilitaryUS                     0.840362\n",
       "HackathonReasons               0.740114\n",
       "ErgonomicDevices               0.655475\n",
       "AdBlockerReasons               0.618178\n",
       "StackOverflowJobsRecommend     0.612392\n",
       "JobEmailPriorities1            0.532517\n",
       "JobEmailPriorities2            0.532517\n",
       "JobEmailPriorities3            0.532517\n",
       "JobEmailPriorities4            0.532517\n",
       "JobEmailPriorities6            0.532517\n",
       "JobEmailPriorities5            0.532517\n",
       "JobEmailPriorities7            0.532517\n",
       "ConvertedSalary                0.517455\n",
       "JobContactPriorities3          0.507299\n",
       "JobContactPriorities4          0.507299\n",
       "JobContactPriorities2          0.507299\n",
       "JobContactPriorities1          0.507299\n",
       "JobContactPriorities5          0.507299\n",
       "Salary                         0.488362\n",
       "SalaryType                     0.483385\n",
       "FrameworkWorkedWith            0.477821\n",
       "TimeFullyProductive            0.475272\n",
       "AdBlockerDisable               0.444661\n",
       "FrameworkDesireNextYear        0.441424\n",
       "CommunicationTools             0.423701\n",
       "SelfTaughtTypes                0.419817\n",
       "RaceEthnicity                  0.418613\n",
       "DatabaseDesireNextYear         0.418360\n",
       "CurrencySymbol                 0.406707\n",
       "                                 ...   \n",
       "LanguageDesireNextYear         0.259076\n",
       "VersionControl                 0.248414\n",
       "AdsAgreeDisagree2              0.247251\n",
       "AdsAgreeDisagree3              0.247241\n",
       "AdsAgreeDisagree1              0.246523\n",
       "StackOverflowJobs              0.238309\n",
       "IDE                            0.237287\n",
       "HopeFiveYears                  0.234050\n",
       "StackOverflowConsiderMember    0.231126\n",
       "AdBlocker                      0.230641\n",
       "OperatingSystem                0.229386\n",
       "NumberMonitors                 0.227171\n",
       "StackOverflowRecommend         0.226251\n",
       "CareerSatisfaction             0.226099\n",
       "StackOverflowHasAccount        0.223196\n",
       "StackOverflowVisit             0.222993\n",
       "YearsCodingProf                0.211947\n",
       "LanguageWorkedWith             0.207587\n",
       "LastNewJob                     0.201973\n",
       "UndergradMajor                 0.200486\n",
       "JobSearchStatus                0.195913\n",
       "DevType                        0.068353\n",
       "YearsCoding                    0.050781\n",
       "FormalEducation                0.042001\n",
       "Student                        0.039998\n",
       "Employment                     0.035749\n",
       "Country                        0.004168\n",
       "OpenSource                     0.000000\n",
       "Hobby                          0.000000\n",
       "Respondent                     0.000000\n",
       "Length: 129, dtype: float64"
      ]
     },
     "execution_count": 6,
     "metadata": {},
     "output_type": "execute_result"
    }
   ],
   "source": [
    "# We assess the proportion of missing values in each column\n",
    "data_2018.isnull().mean().sort_values(ascending = False)"
   ]
  },
  {
   "cell_type": "code",
   "execution_count": 7,
   "metadata": {},
   "outputs": [
    {
     "data": {
      "image/png": "[encoded data removed]",
      "text/plain": [
       "<Figure size 432x288 with 1 Axes>"
      ]
     },
     "metadata": {},
     "output_type": "display_data"
    }
   ],
   "source": [
    "data_2018.isnull().mean(axis = 0).hist();"
   ]
  },
  {
   "cell_type": "code",
   "execution_count": 8,
   "metadata": {},
   "outputs": [],
   "source": [
    "# We drop the columns with more than 60% of missing values\n",
    "data_2018 = data_2018.loc[:, data_2018.isnull().mean() < 0.6]"
   ]
  },
  {
   "cell_type": "code",
   "execution_count": 9,
   "metadata": {},
   "outputs": [
    {
     "data": {
      "image/png": "[encoded data removed]",
      "text/plain": [
       "<Figure size 432x288 with 1 Axes>"
      ]
     },
     "metadata": {},
     "output_type": "display_data"
    }
   ],
   "source": [
    "# We now assess the rows\n",
    "data_2018.isnull().mean(axis = 1).hist();"
   ]
  },
  {
   "cell_type": "code",
   "execution_count": 10,
   "metadata": {},
   "outputs": [],
   "source": [
    "# We drop the rows with more than 80% of missing values\n",
    "data_2018 = data_2018.loc[data_2018.isnull().mean(axis = 1) < 0.8,:]"
   ]
  },
  {
   "cell_type": "code",
   "execution_count": 11,
   "metadata": {},
   "outputs": [
    {
     "name": "stdout",
     "output_type": "stream",
     "text": [
      "After removing missing values, we are left with 82184 respondents and 123 variables\n"
     ]
    }
   ],
   "source": [
    "print('After removing missing values, we are left with {} respondents and {} variables'.format(str(data_2018.shape[0]),\n",
    "                            str(data_2018.shape[1])))"
   ]
  },
  {
   "cell_type": "markdown",
   "metadata": {},
   "source": [
    "We assess missing values in rows and columns. We remove columns which have more than 50% of missing values, as well as rows that have more than 80% of missing values, for both these groups do not provide us with useful information for our purposes. We are still left with 123 variables and 82,184 respondents. We will probably have to impute or do more cleaning later on, but this is a good first pass for now."
   ]
  },
  {
   "cell_type": "markdown",
   "metadata": {},
   "source": [
    "### Duplicate Values"
   ]
  },
  {
   "cell_type": "code",
   "execution_count": 12,
   "metadata": {},
   "outputs": [
    {
     "name": "stdout",
     "output_type": "stream",
     "text": [
      "0 0\n"
     ]
    }
   ],
   "source": [
    "print(data_2018.Respondent.duplicated().sum(), data_2018.duplicated().sum())"
   ]
  },
  {
   "cell_type": "markdown",
   "metadata": {},
   "source": [
    "No duplicate values to deal with. "
   ]
  },
  {
   "cell_type": "markdown",
   "metadata": {},
   "source": [
    "### Categorical Variables"
   ]
  },
  {
   "cell_type": "code",
   "execution_count": 13,
   "metadata": {},
   "outputs": [],
   "source": [
    "# We transform the salary variable from a categorical to a numerical variables\n",
    "data_2018.Salary = pd.to_numeric(data_2018.Salary.str.replace(',', ''), errors = 'coerce')"
   ]
  },
  {
   "cell_type": "code",
   "execution_count": 14,
   "metadata": {},
   "outputs": [],
   "source": [
    "# Create a numerical representation of JobSatisfaction for predictions later\n",
    "mapping = {'Extremely dissatisfied': 0, 'Moderately dissatisfied': 1, 'Slightly dissatisfied': 2, \n",
    "           'Neither satisfied nor dissatisfied':3, 'Sligthly satisfied':4, 'Moderately satisfied': 5, \n",
    "           'Extremely satisfied': 6, np.nan: 7}\n",
    "satisf_labels = list(mapping.keys())\n",
    "data_2018.JobSatisfaction = data_2018.JobSatisfaction.map(mapping)"
   ]
  },
  {
   "cell_type": "code",
   "execution_count": 15,
   "metadata": {},
   "outputs": [
    {
     "name": "stderr",
     "output_type": "stream",
     "text": [
      "/anaconda3/lib/python3.6/site-packages/pandas/core/indexing.py:194: SettingWithCopyWarning: \n",
      "A value is trying to be set on a copy of a slice from a DataFrame\n",
      "\n",
      "See the caveats in the documentation: http://pandas.pydata.org/pandas-docs/stable/indexing.html#indexing-view-versus-copy\n",
      "  self._setitem_with_indexer(indexer, value)\n"
     ]
    }
   ],
   "source": [
    "# We create a new column that specifies whether someone is a data scientist\n",
    "\n",
    "pattern = ['Data or business analyst' , 'Data scientist or machine learning specialist']\n",
    "data_2018.dropna(subset = ['DevType'], axis = 0, inplace = True)\n",
    "data_scientists = data_2018['DevType'].str.contains('|'.join(pattern))\n",
    "data_2018['DataScientist'] = 0\n",
    "data_2018.DataScientist.loc[data_scientists] = 1"
   ]
  },
  {
   "cell_type": "markdown",
   "metadata": {},
   "source": [
    "Later in our analysis, we will want to use the salary variable, which we thus convert to numeric (it was viewed as categorical due to the thousand separator certain respondents used). We also create a numerical representation of job satisfaction, to be used in multi-class classification later on. Finally, we encode whether someone is a data scientist as a binary variable, and drop the job variable, since we are interested in comparing data scientists to other developers as a whole.\n",
    "\n",
    "We will use one-hot encoding for our categorical variables later on."
   ]
  },
  {
   "cell_type": "markdown",
   "metadata": {},
   "source": [
    "## Languages"
   ]
  },
  {
   "cell_type": "markdown",
   "metadata": {},
   "source": [
    "We want to look at languages they've worked with, as well as what they want to learn in the future to see whether there is agreement as well as whether it is possible to discern a trend."
   ]
  },
  {
   "cell_type": "code",
   "execution_count": 16,
   "metadata": {},
   "outputs": [],
   "source": [
    "# We start by only keeping non-null elements of the dataframe\n",
    "data_2018_languages_past = data_2018.loc[data_2018.LanguageWorkedWith.notnull(),:]"
   ]
  },
  {
   "cell_type": "code",
   "execution_count": 17,
   "metadata": {},
   "outputs": [
    {
     "name": "stderr",
     "output_type": "stream",
     "text": [
      "/anaconda3/lib/python3.6/site-packages/pandas/core/series.py:2993: SettingWithCopyWarning: \n",
      "A value is trying to be set on a copy of a slice from a DataFrame\n",
      "\n",
      "See the caveats in the documentation: http://pandas.pydata.org/pandas-docs/stable/indexing.html#indexing-view-versus-copy\n",
      "  self._update_inplace(result)\n"
     ]
    }
   ],
   "source": [
    "# We extract all the possible languages through a helper function\n",
    "\n",
    "def extract_unique_values(df, column):\n",
    "    '''\n",
    "    INPUT:\n",
    "    df - a dataframe\n",
    "    column - a column of a dataframe with values separated with a semicolon\n",
    "\n",
    "    OUTPUT:\n",
    "    unique_values - a list of unique values present in the column\n",
    "    '''\n",
    "    df[column].dropna(inplace = True)\n",
    "    unique_values = []\n",
    "\n",
    "    for i in df[column].unique():\n",
    "        for j in i.split(';'):\n",
    "            if not j in unique_values:\n",
    "                unique_values.append(j)\n",
    "    return(unique_values)\n",
    "\n",
    "languages = extract_unique_values(data_2018_languages_past, 'LanguageWorkedWith')"
   ]
  },
  {
   "cell_type": "code",
   "execution_count": 18,
   "metadata": {},
   "outputs": [],
   "source": [
    "# Now that we have all the possible values, we use them to create counts for each\n",
    "# We start by creating two helper functions\n",
    "\n",
    "def total_count(df, col1, col2, look_for):\n",
    "    '''\n",
    "    INPUT:\n",
    "    df - the pandas dataframe you want to search\n",
    "    col1 - the column name you want to look through\n",
    "    col2 - the column you want to count values from\n",
    "    look_for - a list of strings you want to search for in each row of df[col]\n",
    "\n",
    "    OUTPUT:\n",
    "    new_df - a dataframe of each look_for with the count of how often it shows up\n",
    "    '''\n",
    "    new_df = defaultdict(int)\n",
    "    #loop through list of languages\n",
    "    for val in look_for:\n",
    "        #loop through rows\n",
    "        for idx in range(df.shape[0]):\n",
    "            #if the ed type is in the row add 1\n",
    "            if val in df[col1][idx]:\n",
    "                new_df[val] += int(df[col2][idx])\n",
    "    new_df = pd.DataFrame(pd.Series(new_df)).reset_index()\n",
    "    new_df.columns = [col1, col2]\n",
    "    new_df.sort_values('count', ascending=False, inplace=True)\n",
    "    return new_df\n",
    "\n",
    "\n",
    "def compute_unique_count(df, col, rename_index, unique_values):\n",
    "    '''\n",
    "    INPUT:\n",
    "    df - the pandas dataframe from which to extract the values\n",
    "    col - the column whose value counts we want\n",
    "    rename_index - a string to rename the index of our resulting dataframe\n",
    "    unique_values - a list of unique values for which we want the counts\n",
    "\n",
    "    OUTPUT:\n",
    "    counts - a dataframe of each value with its associated counts\n",
    "    '''\n",
    "    \n",
    "    counts = df[col].value_counts().reset_index()\n",
    "    counts.rename(columns={'index': rename_index, col: 'count'}, inplace=True)\n",
    "    counts = total_count(counts, rename_index, 'count', unique_values)\n",
    "    counts.set_index(rename_index, inplace = True)\n",
    "    \n",
    "    return(counts)"
   ]
  },
  {
   "cell_type": "code",
   "execution_count": 19,
   "metadata": {},
   "outputs": [],
   "source": [
    "# We can now process our dataframe to extract all the counts for the values\n",
    "languages_overall = compute_unique_count(data_2018_languages_past, 'LanguageWorkedWith', 'language', languages)"
   ]
  },
  {
   "cell_type": "code",
   "execution_count": 20,
   "metadata": {},
   "outputs": [
    {
     "data": {
      "image/png": "[encoded data removed]",
      "text/plain": [
       "<Figure size 432x288 with 1 Axes>"
      ]
     },
     "metadata": {},
     "output_type": "display_data"
    }
   ],
   "source": [
    "# We can now plot the popularity of various languages overall\n",
    "# We only keep the top 10\n",
    "languages_overall.head(10).plot(kind = 'bar', legend = None);\n",
    "plt.title(\"Top 10 Most Popular Programming Languages Among Respondents of 2018 StackOverflow Survey\");\n",
    "plt.xlabel(\"Language\");\n",
    "plt.ylabel(\"Number of Times Mentioned\");"
   ]
  },
  {
   "cell_type": "code",
   "execution_count": 21,
   "metadata": {},
   "outputs": [],
   "source": [
    "# We create two datasets, one for data scientists/analysts and one for the rest\n",
    "data_2018_languages_past_DS = data_2018_languages_past.loc[data_2018_languages_past.DataScientist == 1,:]\n",
    "data_2018_languages_past_noDS = data_2018_languages_past.loc[data_2018_languages_past.DataScientist == 0,:]"
   ]
  },
  {
   "cell_type": "code",
   "execution_count": 22,
   "metadata": {},
   "outputs": [],
   "source": [
    "# We now repeat the analysis\n",
    "languages_DS = compute_unique_count(data_2018_languages_past_DS, 'LanguageWorkedWith', 'language', languages)\n",
    "languages_noDS = compute_unique_count(data_2018_languages_past_noDS, 'LanguageWorkedWith', 'language', languages)"
   ]
  },
  {
   "cell_type": "code",
   "execution_count": 23,
   "metadata": {},
   "outputs": [
    {
     "data": {
      "image/png": "[encoded data removed]",
      "text/plain": [
       "<Figure size 432x216 with 2 Axes>"
      ]
     },
     "metadata": {},
     "output_type": "display_data"
    }
   ],
   "source": [
    "# We can now create a dataframe from these two and build a faceted plot\n",
    "\n",
    "def create_faceted_plot(df_DS, df_noDS, plot_title, xlabel, ylabel):\n",
    "    '''\n",
    "    INPUT:\n",
    "    df_DS - a Pandas dataframe of counts for Data Scientists\n",
    "    df_noDS - a Pandas dataframe of counts for other developers\n",
    "    plot_title - a string, title to give to our plot\n",
    "    xlabel - a string, label for our x axis\n",
    "    ylabel - a string, label for our y axis\n",
    "\n",
    "    OUTPUT:\n",
    "    a faceted plot\n",
    "    '''\n",
    "    \n",
    "    df_DS['Profession'] = 'Data Scientist'\n",
    "    df_noDS['Profession'] = 'Other Developers'\n",
    "    df = pd.concat([df_DS.head(10), df_noDS.head(10)], axis = 0)\n",
    "    df.reset_index(inplace = True)\n",
    "    g = sns.FacetGrid(df, col = \"Profession\")\n",
    "    g.map(plt.bar, 'language', 'count')\n",
    "    g.set_xticklabels(rotation = 90)\n",
    "    g.set_xlabels(xlabel)\n",
    "    g.set_ylabels(ylabel)\n",
    "    plt.subplots_adjust(top=0.8)\n",
    "    g.fig.suptitle(plot_title)\n",
    "    plt.show()\n",
    "\n",
    "create_faceted_plot(languages_DS, languages_noDS,\n",
    "                   \"Most Popular Programming Languages Among Data Scientists And Other Developers\",\n",
    "                   \"Language\", \"Number of Respondents\")"
   ]
  },
  {
   "cell_type": "code",
   "execution_count": 24,
   "metadata": {},
   "outputs": [
    {
     "name": "stderr",
     "output_type": "stream",
     "text": [
      "/anaconda3/lib/python3.6/site-packages/pandas/core/series.py:2993: SettingWithCopyWarning: \n",
      "A value is trying to be set on a copy of a slice from a DataFrame\n",
      "\n",
      "See the caveats in the documentation: http://pandas.pydata.org/pandas-docs/stable/indexing.html#indexing-view-versus-copy\n",
      "  self._update_inplace(result)\n"
     ]
    },
    {
     "data": {
      "image/png": "[encoded data removed]",
      "text/plain": [
       "<Figure size 432x288 with 1 Axes>"
      ]
     },
     "metadata": {},
     "output_type": "display_data"
    }
   ],
   "source": [
    "# We can now repeat the same analysis, for languages people want to work with in the future\n",
    "# We first look at it overall\n",
    "\n",
    "data_2018_languages_future = data_2018.loc[data_2018.LanguageDesireNextYear.notnull(),:]\n",
    "languages_future = extract_unique_values(data_2018_languages_future, 'LanguageDesireNextYear')\n",
    "languages_future_overall = compute_unique_count(data_2018_languages_future,\n",
    "                                                'LanguageDesireNextYear', 'language', languages_future)\n",
    "languages_future_overall.head(10).plot(kind = 'bar', legend = None);\n",
    "plt.title(\"Top 10 Most Desired Programming Languages for the Future Among Respondents of 2018 StackOverflow Survey\");\n",
    "plt.xlabel(\"Desired Language\");\n",
    "plt.ylabel(\"Number of Times Mentioned\");"
   ]
  },
  {
   "cell_type": "code",
   "execution_count": 25,
   "metadata": {},
   "outputs": [
    {
     "data": {
      "image/png": "[encoded data removed]",
      "text/plain": [
       "<Figure size 432x216 with 2 Axes>"
      ]
     },
     "metadata": {},
     "output_type": "display_data"
    }
   ],
   "source": [
    "# We can then split it between data scientists and other developers\n",
    "data_2018_languages_future_DS = data_2018_languages_future.loc[data_2018_languages_future.DataScientist == 1,:]\n",
    "data_2018_languages_future_noDS = data_2018_languages_future.loc[data_2018_languages_future.DataScientist == 0,:]\n",
    "\n",
    "languages_future_DS = compute_unique_count(data_2018_languages_future_DS, \n",
    "                                           'LanguageDesireNextYear', 'language', languages_future)\n",
    "languages_future_noDS = compute_unique_count(data_2018_languages_future_noDS,\n",
    "                                             'LanguageDesireNextYear', 'language', languages_future)\n",
    "create_faceted_plot(languages_future_DS, languages_future_noDS,\n",
    "                   \"Most Popular Programming Languages for the Future Among Data Scientists And Other Developers\",\n",
    "                   \"Language\", \"Number of Respondents\")"
   ]
  },
  {
   "cell_type": "markdown",
   "metadata": {},
   "source": [
    "### Interpretation"
   ]
  },
  {
   "cell_type": "markdown",
   "metadata": {},
   "source": [
    "We get several valuable insights from this analysis.\n",
    "\n",
    "First of all, data scientists do not differ from other developers in terms of languages they have used in the past or want to work with in the future. This is interesting as a lot of the languages mentioned are not the first ones we think about for data science (C, PHP, JavaScript). They could nonetheless point to data scientists being proficient in these efficient languages to deploy models into production, rather than simply doing ad hoc analyses in Python or R.\n",
    "\n",
    "In addition, comparing languages used in the past with those who are an objective in the future, most of the languages are the same and in a similar order. The main differences are the rise in popularity of Python and R. These two languages have been rising in popularity in recent years with the explosion of data science, with the creation of many libraries to do state-of-the-art machine learning. It is no coincidence that the rise of these two languages happens at a time when the profession is considered attractive. Many developers, data scientists or not, want to work with them as they are the most widely used techniques."
   ]
  },
  {
   "cell_type": "markdown",
   "metadata": {},
   "source": [
    "## Determinants of job satisfaction"
   ]
  },
  {
   "cell_type": "markdown",
   "metadata": {},
   "source": [
    "## Descriptive Statistics"
   ]
  },
  {
   "cell_type": "code",
   "execution_count": 26,
   "metadata": {},
   "outputs": [],
   "source": [
    "# We start by creating a copy of our data frame\n",
    "data_2018_satisf = data_2018.copy()\n",
    "\n",
    "# We drop the respondent variable which is simply an identifier\n",
    "data_2018_satisf.drop('Respondent', axis = 1, inplace = True)"
   ]
  },
  {
   "cell_type": "code",
   "execution_count": 27,
   "metadata": {},
   "outputs": [
    {
     "data": {
      "text/plain": [
       "DataScientist\n",
       "0    4.700198\n",
       "1    4.624523\n",
       "Name: JobSatisfaction, dtype: float64"
      ]
     },
     "execution_count": 27,
     "metadata": {},
     "output_type": "execute_result"
    }
   ],
   "source": [
    "# We look at the mean\n",
    "data_2018_satisf.groupby('DataScientist')['JobSatisfaction'].mean()"
   ]
  },
  {
   "cell_type": "code",
   "execution_count": 28,
   "metadata": {},
   "outputs": [
    {
     "data": {
      "image/png": "[encoded data removed]",
      "text/plain": [
       "<Figure size 432x216 with 2 Axes>"
      ]
     },
     "metadata": {},
     "output_type": "display_data"
    }
   ],
   "source": [
    "# We compare the distributions\n",
    "satisf_df = data_2018_satisf[['DataScientist', 'JobSatisfaction']]\n",
    "satisf_df_plot = satisf_df.groupby(['DataScientist', 'JobSatisfaction'])['JobSatisfaction'].count().groupby(level = 0).apply(lambda x:\n",
    "                                                 100 * x / float(x.sum()))\n",
    "satisf_df_plot.index.set_names(['Data Scientist', 'Satisfaction Rating'], inplace = True)\n",
    "satisf_df_plot = satisf_df_plot.reset_index()\n",
    "satisf_df_plot.rename(columns = {'JobSatisfaction':'Proportion'}, inplace = True)\n",
    "\n",
    "g = sns.FacetGrid(satisf_df_plot, col = 'Data Scientist')\n",
    "g.map(plt.bar, 'Satisfaction Rating', 'Proportion')\n",
    "g.set_xticklabels(rotation = 90)\n",
    "g.set_xlabels('Satisfaction Rating')\n",
    "g.set_ylabels('Frequency (%)')\n",
    "g.set(xticklabels=satisf_labels, xticks=np.arange(0,8,1))\n",
    "plt.subplots_adjust(top=0.8)\n",
    "g.fig.suptitle('Job Satisfaction Ratings between Data Scientists and Other Developers')\n",
    "plt.show()"
   ]
  },
  {
   "cell_type": "code",
   "execution_count": 29,
   "metadata": {},
   "outputs": [
    {
     "data": {
      "text/html": [
       "<div>\n",
       "<style scoped>\n",
       "    .dataframe tbody tr th:only-of-type {\n",
       "        vertical-align: middle;\n",
       "    }\n",
       "\n",
       "    .dataframe tbody tr th {\n",
       "        vertical-align: top;\n",
       "    }\n",
       "\n",
       "    .dataframe thead th {\n",
       "        text-align: right;\n",
       "    }\n",
       "</style>\n",
       "<table border=\"1\" class=\"dataframe\">\n",
       "  <thead>\n",
       "    <tr style=\"text-align: right;\">\n",
       "      <th></th>\n",
       "      <th></th>\n",
       "      <th>Proportion</th>\n",
       "    </tr>\n",
       "    <tr>\n",
       "      <th>Data Scientist</th>\n",
       "      <th>Satisfaction Rating</th>\n",
       "      <th></th>\n",
       "    </tr>\n",
       "  </thead>\n",
       "  <tbody>\n",
       "    <tr>\n",
       "      <th rowspan=\"7\" valign=\"top\">0</th>\n",
       "      <th>0.0</th>\n",
       "      <td>3.208565</td>\n",
       "    </tr>\n",
       "    <tr>\n",
       "      <th>1.0</th>\n",
       "      <td>8.348767</td>\n",
       "    </tr>\n",
       "    <tr>\n",
       "      <th>2.0</th>\n",
       "      <td>9.409624</td>\n",
       "    </tr>\n",
       "    <tr>\n",
       "      <th>3.0</th>\n",
       "      <td>6.496735</td>\n",
       "    </tr>\n",
       "    <tr>\n",
       "      <th>5.0</th>\n",
       "      <td>34.187868</td>\n",
       "    </tr>\n",
       "    <tr>\n",
       "      <th>6.0</th>\n",
       "      <td>16.016831</td>\n",
       "    </tr>\n",
       "    <tr>\n",
       "      <th>7.0</th>\n",
       "      <td>22.331611</td>\n",
       "    </tr>\n",
       "    <tr>\n",
       "      <th rowspan=\"7\" valign=\"top\">1</th>\n",
       "      <th>0.0</th>\n",
       "      <td>3.544565</td>\n",
       "    </tr>\n",
       "    <tr>\n",
       "      <th>1.0</th>\n",
       "      <td>8.665636</td>\n",
       "    </tr>\n",
       "    <tr>\n",
       "      <th>2.0</th>\n",
       "      <td>9.108707</td>\n",
       "    </tr>\n",
       "    <tr>\n",
       "      <th>3.0</th>\n",
       "      <td>6.512107</td>\n",
       "    </tr>\n",
       "    <tr>\n",
       "      <th>5.0</th>\n",
       "      <td>35.188047</td>\n",
       "    </tr>\n",
       "    <tr>\n",
       "      <th>6.0</th>\n",
       "      <td>18.773828</td>\n",
       "    </tr>\n",
       "    <tr>\n",
       "      <th>7.0</th>\n",
       "      <td>18.207110</td>\n",
       "    </tr>\n",
       "  </tbody>\n",
       "</table>\n",
       "</div>"
      ],
      "text/plain": [
       "                                    Proportion\n",
       "Data Scientist Satisfaction Rating            \n",
       "0              0.0                    3.208565\n",
       "               1.0                    8.348767\n",
       "               2.0                    9.409624\n",
       "               3.0                    6.496735\n",
       "               5.0                   34.187868\n",
       "               6.0                   16.016831\n",
       "               7.0                   22.331611\n",
       "1              0.0                    3.544565\n",
       "               1.0                    8.665636\n",
       "               2.0                    9.108707\n",
       "               3.0                    6.512107\n",
       "               5.0                   35.188047\n",
       "               6.0                   18.773828\n",
       "               7.0                   18.207110"
      ]
     },
     "execution_count": 29,
     "metadata": {},
     "output_type": "execute_result"
    }
   ],
   "source": [
    "satisf_df_plot.set_index(['Data Scientist', 'Satisfaction Rating'])"
   ]
  },
  {
   "cell_type": "markdown",
   "metadata": {},
   "source": [
    "## Modeling"
   ]
  },
  {
   "cell_type": "code",
   "execution_count": 90,
   "metadata": {},
   "outputs": [],
   "source": [
    "# We first have to remove missing values from the JobSatisfaction column since it is our target variable\n",
    "\n",
    "data_2018_satisf = data_2018_satisf.dropna(subset = ['JobSatisfaction'], axis = 0)"
   ]
  },
  {
   "cell_type": "code",
   "execution_count": 91,
   "metadata": {},
   "outputs": [],
   "source": [
    "# We focus on a subset of our variables to build our model\n",
    "# We choose them based on domain-knowledge and our intuition\n",
    "\n",
    "predictors = ['Hobby', 'Exercise', 'Gender', 'DevType', 'OpenSource', 'SexualOrientation', 'EducationTypes',\n",
    "            'DataScientist', 'NumberMonitors', 'UndergradMajor', 'TimeFullyProductive',\n",
    "              'RaceEthnicity', 'Age', 'Employment', 'Dependents', 'CompanySize', \n",
    "              'YearsCoding', 'WakeTime', 'HoursComputer', 'YearsCodingProf', 'OperatingSystem',\n",
    "             'HoursOutside', 'SkipMeals', 'FormalEducation', 'HopeFiveYears',\n",
    "              'ConvertedSalary', 'JobSatisfaction']\n",
    "\n",
    "data_2018_satisf_subset = data_2018_satisf.loc[:,predictors]"
   ]
  },
  {
   "cell_type": "code",
   "execution_count": 92,
   "metadata": {},
   "outputs": [
    {
     "name": "stderr",
     "output_type": "stream",
     "text": [
      "/anaconda3/lib/python3.6/site-packages/pandas/core/indexing.py:194: SettingWithCopyWarning: \n",
      "A value is trying to be set on a copy of a slice from a DataFrame\n",
      "\n",
      "See the caveats in the documentation: http://pandas.pydata.org/pandas-docs/stable/indexing.html#indexing-view-versus-copy\n",
      "  self._setitem_with_indexer(indexer, value)\n"
     ]
    }
   ],
   "source": [
    "# We need to encode ourselves the DevType, EducationTypes, Gender, SexualOrientation and DevType columns\n",
    "for c in ['EducationTypes', 'DevType', 'RaceEthnicity', 'Gender', 'SexualOrientation']:\n",
    "    data_2018_satisf_subset = pd.concat([data_2018_satisf_subset, data_2018_satisf_subset[c].str.get_dummies(sep = ';')], \n",
    "                                        axis = 1)\n",
    "    data_2018_satisf_subset.drop(c, inplace = True, axis = 1)\n"
   ]
  },
  {
   "cell_type": "code",
   "execution_count": 93,
   "metadata": {
    "scrolled": true
   },
   "outputs": [],
   "source": [
    "# We impute missing values for the salary columns\n",
    "\n",
    "data_2018_satisf_subset['ConvertedSalary'] = data_2018_satisf_subset['ConvertedSalary'].fillna(data_2018_satisf_subset['ConvertedSalary'].median())\n",
    "\n",
    "# We create our dummy variables\n",
    "data_2018_satisf_dummies = pd.get_dummies(data_2018_satisf_subset)"
   ]
  },
  {
   "cell_type": "code",
   "execution_count": 94,
   "metadata": {},
   "outputs": [
    {
     "name": "stdout",
     "output_type": "stream",
     "text": [
      "The R2 score on the train set is 0.3459097150809418 and 0.3457395342358274 on the test set with linear regression\n",
      "The RMSE is 1.656358017527729 on the train set and 1.6600599405091117 on the test set with linear regression\n",
      "The R2 score on the train set is 0.0 and -4.127736797587822e-05 on the test set with Lasso regression\n",
      "The RMSE is 2.048025524255059 on the train set and 2.052378201961116 on the test set with Lasso regression\n",
      "The R2 score on the train set is 0.2558244725028759 and 0.2556504553532939 on the test set with Ridge regression\n",
      "The RMSE is 1.7667416884611347 on the train set and 1.770667001865983 on the test set with Ridge regression\n"
     ]
    }
   ],
   "source": [
    "# We separate our predictor from our target variable\n",
    "X = data_2018_satisf_dummies.drop(labels = 'JobSatisfaction', axis = 1)\n",
    "y = data_2018_satisf_dummies['JobSatisfaction']\n",
    "\n",
    "# We can now build our models\n",
    "X_train, X_test, y_train, y_test = train_test_split(X, y, test_size = 0.2, random_state = 42)\n",
    "\n",
    "# Linear Regression\n",
    "lm = LinearRegression(normalize = True)\n",
    "lm.fit(X_train, y_train)\n",
    "lm_y_test_preds = lm.predict(X_test)\n",
    "lm_y_train_preds = lm.predict(X_train)\n",
    "\n",
    "lm_r2_train = lm.score(X_train, y_train)\n",
    "lm_r2_test = lm.score(X_test, y_test)\n",
    "\n",
    "lm_rmse_train = math.sqrt(mean_squared_error(y_train, lm_y_train_preds))\n",
    "lm_rmse_test = math.sqrt(mean_squared_error(y_test, lm_y_test_preds))\n",
    "\n",
    "print(\"The R2 score on the train set is {} and {} on the test set with linear regression\".format(lm_r2_train, lm_r2_test))\n",
    "print(\"The RMSE is {} on the train set and {} on the test set with linear regression\". format(lm_rmse_train, lm_rmse_test))\n",
    "\n",
    "# Lasso\n",
    "lasso = Lasso(normalize = True)\n",
    "lasso.fit(X_train, y_train)\n",
    "lasso_y_test_preds = lasso.predict(X_test)\n",
    "lasso_y_train_preds = lasso.predict(X_train)\n",
    "\n",
    "lasso_r2_train = lasso.score(X_train, y_train)\n",
    "lasso_r2_test = lasso.score(X_test, y_test)\n",
    "\n",
    "lasso_rmse_train = math.sqrt(mean_squared_error(y_train, lasso_y_train_preds))\n",
    "lasso_rmse_test = math.sqrt(mean_squared_error(y_test, lasso_y_test_preds))\n",
    "\n",
    "print(\"The R2 score on the train set is {} and {} on the test set with Lasso regression\".format(lasso_r2_train, \n",
    "                                                                                                lasso_r2_test))\n",
    "print(\"The RMSE is {} on the train set and {} on the test set with Lasso regression\". format(lasso_rmse_train,\n",
    "                                                                                             lasso_rmse_test))\n",
    "\n",
    "# Ridge\n",
    "ridge = Ridge(normalize = True)\n",
    "ridge.fit(X_train, y_train)\n",
    "ridge_y_test_preds = ridge.predict(X_test)\n",
    "ridge_y_train_preds = ridge.predict(X_train)\n",
    "\n",
    "ridge_r2_train = ridge.score(X_train, y_train)\n",
    "ridge_r2_test = ridge.score(X_test, y_test)\n",
    "\n",
    "ridge_rmse_train = math.sqrt(mean_squared_error(y_train, ridge_y_train_preds))\n",
    "ridge_rmse_test = math.sqrt(mean_squared_error(y_test, ridge_y_test_preds))\n",
    "\n",
    "print(\"The R2 score on the train set is {} and {} on the test set with Ridge regression\".format(ridge_r2_train, \n",
    "                                                                                                ridge_r2_test))\n",
    "print(\"The RMSE is {} on the train set and {} on the test set with Ridge regression\". format(ridge_rmse_train,\n",
    "                                                                                             ridge_rmse_test))"
   ]
  },
  {
   "cell_type": "code",
   "execution_count": 95,
   "metadata": {},
   "outputs": [
    {
     "name": "stderr",
     "output_type": "stream",
     "text": [
      "/anaconda3/lib/python3.6/site-packages/scipy/linalg/basic.py:40: RuntimeWarning: scipy.linalg.solve\n",
      "Ill-conditioned matrix detected. Result is not guaranteed to be accurate.\n",
      "Reciprocal condition number/precision: 9.344092606021645e-17 / 1.1102230246251565e-16\n",
      "  RuntimeWarning)\n",
      "/anaconda3/lib/python3.6/site-packages/scipy/linalg/basic.py:40: RuntimeWarning: scipy.linalg.solve\n",
      "Ill-conditioned matrix detected. Result is not guaranteed to be accurate.\n",
      "Reciprocal condition number/precision: 9.505969284795399e-17 / 1.1102230246251565e-16\n",
      "  RuntimeWarning)\n",
      "/anaconda3/lib/python3.6/site-packages/scipy/linalg/basic.py:40: RuntimeWarning: scipy.linalg.solve\n",
      "Ill-conditioned matrix detected. Result is not guaranteed to be accurate.\n",
      "Reciprocal condition number/precision: 7.430251503482789e-17 / 1.1102230246251565e-16\n",
      "  RuntimeWarning)\n"
     ]
    },
    {
     "name": "stdout",
     "output_type": "stream",
     "text": [
      "The r-squared is 0.3327402683901002 and the RMSE is 1.673659801123723\n"
     ]
    }
   ],
   "source": [
    "# Ridge Regression seems to be the most promising one, as well as the one most likely to generalize\n",
    "# We use GridSearch to find the optimal value of alpha parameter and whether normalizing helps\n",
    "# We fit on our entire dataset\n",
    "\n",
    "ridge = Ridge()\n",
    "\n",
    "parameters = {'alpha': [0.1,0.25,0.75,1,1.5,2], 'normalize': [True, False]}\n",
    "\n",
    "scorer = make_scorer(r2_score)\n",
    "\n",
    "grid_obj = GridSearchCV(ridge, parameters, scorer)\n",
    "\n",
    "grid_fit = grid_obj.fit(X, y)\n",
    "\n",
    "best_ridge = grid_fit.best_estimator_\n",
    "\n",
    "preds = best_ridge.predict(X)\n",
    "\n",
    "r_2 = best_ridge.score(X,y)\n",
    "\n",
    "rmse = math.sqrt(mean_squared_error(y, preds))\n",
    "\n",
    "print('The r-squared is {} and the RMSE is {}'.format(r_2, rmse))"
   ]
  },
  {
   "cell_type": "code",
   "execution_count": 96,
   "metadata": {},
   "outputs": [
    {
     "data": {
      "text/html": [
       "<div>\n",
       "<style scoped>\n",
       "    .dataframe tbody tr th:only-of-type {\n",
       "        vertical-align: middle;\n",
       "    }\n",
       "\n",
       "    .dataframe tbody tr th {\n",
       "        vertical-align: top;\n",
       "    }\n",
       "\n",
       "    .dataframe thead th {\n",
       "        text-align: right;\n",
       "    }\n",
       "</style>\n",
       "<table border=\"1\" class=\"dataframe\">\n",
       "  <thead>\n",
       "    <tr style=\"text-align: right;\">\n",
       "      <th></th>\n",
       "      <th>Features</th>\n",
       "      <th>Coefficient</th>\n",
       "    </tr>\n",
       "  </thead>\n",
       "  <tbody>\n",
       "    <tr>\n",
       "      <th>170</th>\n",
       "      <td>HopeFiveYears_Working in a career completely u...</td>\n",
       "      <td>-1.377315</td>\n",
       "    </tr>\n",
       "    <tr>\n",
       "      <th>91</th>\n",
       "      <td>Employment_Independent contractor, freelancer,...</td>\n",
       "      <td>-1.001844</td>\n",
       "    </tr>\n",
       "    <tr>\n",
       "      <th>171</th>\n",
       "      <td>HopeFiveYears_Working in a different or more s...</td>\n",
       "      <td>-0.976830</td>\n",
       "    </tr>\n",
       "    <tr>\n",
       "      <th>167</th>\n",
       "      <td>HopeFiveYears_Working as a founder or co-found...</td>\n",
       "      <td>-0.887023</td>\n",
       "    </tr>\n",
       "    <tr>\n",
       "      <th>77</th>\n",
       "      <td>TimeFullyProductive_More than a year</td>\n",
       "      <td>-0.752731</td>\n",
       "    </tr>\n",
       "    <tr>\n",
       "      <th>166</th>\n",
       "      <td>HopeFiveYears_Retirement</td>\n",
       "      <td>-0.728727</td>\n",
       "    </tr>\n",
       "    <tr>\n",
       "      <th>168</th>\n",
       "      <td>HopeFiveYears_Working as a product manager or ...</td>\n",
       "      <td>-0.727376</td>\n",
       "    </tr>\n",
       "    <tr>\n",
       "      <th>169</th>\n",
       "      <td>HopeFiveYears_Working as an engineering manage...</td>\n",
       "      <td>-0.671384</td>\n",
       "    </tr>\n",
       "    <tr>\n",
       "      <th>142</th>\n",
       "      <td>YearsCodingProf_9-11 years</td>\n",
       "      <td>-0.664033</td>\n",
       "    </tr>\n",
       "    <tr>\n",
       "      <th>78</th>\n",
       "      <td>TimeFullyProductive_Nine months to a year</td>\n",
       "      <td>-0.643733</td>\n",
       "    </tr>\n",
       "    <tr>\n",
       "      <th>135</th>\n",
       "      <td>YearsCodingProf_18-20 years</td>\n",
       "      <td>-0.641155</td>\n",
       "    </tr>\n",
       "    <tr>\n",
       "      <th>138</th>\n",
       "      <td>YearsCodingProf_27-29 years</td>\n",
       "      <td>-0.641074</td>\n",
       "    </tr>\n",
       "    <tr>\n",
       "      <th>89</th>\n",
       "      <td>Employment_Employed full-time</td>\n",
       "      <td>-0.633328</td>\n",
       "    </tr>\n",
       "    <tr>\n",
       "      <th>133</th>\n",
       "      <td>YearsCodingProf_12-14 years</td>\n",
       "      <td>-0.629443</td>\n",
       "    </tr>\n",
       "    <tr>\n",
       "      <th>139</th>\n",
       "      <td>YearsCodingProf_3-5 years</td>\n",
       "      <td>-0.621281</td>\n",
       "    </tr>\n",
       "    <tr>\n",
       "      <th>134</th>\n",
       "      <td>YearsCodingProf_15-17 years</td>\n",
       "      <td>-0.620634</td>\n",
       "    </tr>\n",
       "    <tr>\n",
       "      <th>141</th>\n",
       "      <td>YearsCodingProf_6-8 years</td>\n",
       "      <td>-0.590621</td>\n",
       "    </tr>\n",
       "    <tr>\n",
       "      <th>137</th>\n",
       "      <td>YearsCodingProf_24-26 years</td>\n",
       "      <td>-0.585605</td>\n",
       "    </tr>\n",
       "    <tr>\n",
       "      <th>136</th>\n",
       "      <td>YearsCodingProf_21-23 years</td>\n",
       "      <td>-0.562026</td>\n",
       "    </tr>\n",
       "    <tr>\n",
       "      <th>80</th>\n",
       "      <td>TimeFullyProductive_Six to nine months</td>\n",
       "      <td>-0.561924</td>\n",
       "    </tr>\n",
       "    <tr>\n",
       "      <th>81</th>\n",
       "      <td>TimeFullyProductive_Three to six months</td>\n",
       "      <td>-0.545699</td>\n",
       "    </tr>\n",
       "    <tr>\n",
       "      <th>90</th>\n",
       "      <td>Employment_Employed part-time</td>\n",
       "      <td>-0.531992</td>\n",
       "    </tr>\n",
       "    <tr>\n",
       "      <th>140</th>\n",
       "      <td>YearsCodingProf_30 or more years</td>\n",
       "      <td>-0.506161</td>\n",
       "    </tr>\n",
       "    <tr>\n",
       "      <th>132</th>\n",
       "      <td>YearsCodingProf_0-2 years</td>\n",
       "      <td>-0.488369</td>\n",
       "    </tr>\n",
       "    <tr>\n",
       "      <th>79</th>\n",
       "      <td>TimeFullyProductive_One to three months</td>\n",
       "      <td>-0.487244</td>\n",
       "    </tr>\n",
       "    <tr>\n",
       "      <th>76</th>\n",
       "      <td>TimeFullyProductive_Less than a month</td>\n",
       "      <td>-0.431558</td>\n",
       "    </tr>\n",
       "    <tr>\n",
       "      <th>165</th>\n",
       "      <td>HopeFiveYears_Doing the same work</td>\n",
       "      <td>-0.343913</td>\n",
       "    </tr>\n",
       "    <tr>\n",
       "      <th>99</th>\n",
       "      <td>CompanySize_10,000 or more employees</td>\n",
       "      <td>-0.300793</td>\n",
       "    </tr>\n",
       "    <tr>\n",
       "      <th>130</th>\n",
       "      <td>HoursComputer_Less than 1 hour</td>\n",
       "      <td>-0.248327</td>\n",
       "    </tr>\n",
       "    <tr>\n",
       "      <th>85</th>\n",
       "      <td>Age_45 - 54 years old</td>\n",
       "      <td>-0.231605</td>\n",
       "    </tr>\n",
       "    <tr>\n",
       "      <th>...</th>\n",
       "      <td>...</td>\n",
       "      <td>...</td>\n",
       "    </tr>\n",
       "    <tr>\n",
       "      <th>110</th>\n",
       "      <td>YearsCoding_24-26 years</td>\n",
       "      <td>0.063364</td>\n",
       "    </tr>\n",
       "    <tr>\n",
       "      <th>26</th>\n",
       "      <td>Game or graphics developer</td>\n",
       "      <td>0.067639</td>\n",
       "    </tr>\n",
       "    <tr>\n",
       "      <th>23</th>\n",
       "      <td>Engineering manager</td>\n",
       "      <td>0.068639</td>\n",
       "    </tr>\n",
       "    <tr>\n",
       "      <th>59</th>\n",
       "      <td>NumberMonitors_1</td>\n",
       "      <td>0.070001</td>\n",
       "    </tr>\n",
       "    <tr>\n",
       "      <th>64</th>\n",
       "      <td>UndergradMajor_A business discipline (ex. acco...</td>\n",
       "      <td>0.070511</td>\n",
       "    </tr>\n",
       "    <tr>\n",
       "      <th>113</th>\n",
       "      <td>YearsCoding_30 or more years</td>\n",
       "      <td>0.074718</td>\n",
       "    </tr>\n",
       "    <tr>\n",
       "      <th>82</th>\n",
       "      <td>Age_18 - 24 years old</td>\n",
       "      <td>0.077095</td>\n",
       "    </tr>\n",
       "    <tr>\n",
       "      <th>29</th>\n",
       "      <td>Product manager</td>\n",
       "      <td>0.090254</td>\n",
       "    </tr>\n",
       "    <tr>\n",
       "      <th>146</th>\n",
       "      <td>OperatingSystem_Windows</td>\n",
       "      <td>0.091752</td>\n",
       "    </tr>\n",
       "    <tr>\n",
       "      <th>11</th>\n",
       "      <td>Taught yourself a new language, framework, or ...</td>\n",
       "      <td>0.093517</td>\n",
       "    </tr>\n",
       "    <tr>\n",
       "      <th>6</th>\n",
       "      <td>Participated in a hackathon</td>\n",
       "      <td>0.097859</td>\n",
       "    </tr>\n",
       "    <tr>\n",
       "      <th>63</th>\n",
       "      <td>NumberMonitors_More than 4</td>\n",
       "      <td>0.099530</td>\n",
       "    </tr>\n",
       "    <tr>\n",
       "      <th>16</th>\n",
       "      <td>Data scientist or machine learning specialist</td>\n",
       "      <td>0.109119</td>\n",
       "    </tr>\n",
       "    <tr>\n",
       "      <th>31</th>\n",
       "      <td>Student</td>\n",
       "      <td>0.123973</td>\n",
       "    </tr>\n",
       "    <tr>\n",
       "      <th>68</th>\n",
       "      <td>UndergradMajor_A social science (ex. anthropol...</td>\n",
       "      <td>0.125603</td>\n",
       "    </tr>\n",
       "    <tr>\n",
       "      <th>144</th>\n",
       "      <td>OperatingSystem_Linux-based</td>\n",
       "      <td>0.129541</td>\n",
       "    </tr>\n",
       "    <tr>\n",
       "      <th>8</th>\n",
       "      <td>Received on-the-job training in software devel...</td>\n",
       "      <td>0.134279</td>\n",
       "    </tr>\n",
       "    <tr>\n",
       "      <th>21</th>\n",
       "      <td>Educator or academic researcher</td>\n",
       "      <td>0.139157</td>\n",
       "    </tr>\n",
       "    <tr>\n",
       "      <th>60</th>\n",
       "      <td>NumberMonitors_2</td>\n",
       "      <td>0.139696</td>\n",
       "    </tr>\n",
       "    <tr>\n",
       "      <th>40</th>\n",
       "      <td>White or of European descent</td>\n",
       "      <td>0.140381</td>\n",
       "    </tr>\n",
       "    <tr>\n",
       "      <th>160</th>\n",
       "      <td>FormalEducation_Other doctoral degree (Ph.D, E...</td>\n",
       "      <td>0.173989</td>\n",
       "    </tr>\n",
       "    <tr>\n",
       "      <th>88</th>\n",
       "      <td>Age_Under 18 years old</td>\n",
       "      <td>0.203954</td>\n",
       "    </tr>\n",
       "    <tr>\n",
       "      <th>2</th>\n",
       "      <td>EducationTypes_na</td>\n",
       "      <td>0.214599</td>\n",
       "    </tr>\n",
       "    <tr>\n",
       "      <th>145</th>\n",
       "      <td>OperatingSystem_MacOS</td>\n",
       "      <td>0.225876</td>\n",
       "    </tr>\n",
       "    <tr>\n",
       "      <th>62</th>\n",
       "      <td>NumberMonitors_4</td>\n",
       "      <td>0.236301</td>\n",
       "    </tr>\n",
       "    <tr>\n",
       "      <th>61</th>\n",
       "      <td>NumberMonitors_3</td>\n",
       "      <td>0.266778</td>\n",
       "    </tr>\n",
       "    <tr>\n",
       "      <th>14</th>\n",
       "      <td>C-suite executive (CEO, CTO, etc.)</td>\n",
       "      <td>0.302786</td>\n",
       "    </tr>\n",
       "    <tr>\n",
       "      <th>92</th>\n",
       "      <td>Employment_Not employed, and not looking for work</td>\n",
       "      <td>0.799223</td>\n",
       "    </tr>\n",
       "    <tr>\n",
       "      <th>94</th>\n",
       "      <td>Employment_Retired</td>\n",
       "      <td>0.966572</td>\n",
       "    </tr>\n",
       "    <tr>\n",
       "      <th>93</th>\n",
       "      <td>Employment_Not employed, but looking for work</td>\n",
       "      <td>1.120196</td>\n",
       "    </tr>\n",
       "  </tbody>\n",
       "</table>\n",
       "<p>172 rows × 2 columns</p>\n",
       "</div>"
      ],
      "text/plain": [
       "                                              Features  Coefficient\n",
       "170  HopeFiveYears_Working in a career completely u...    -1.377315\n",
       "91   Employment_Independent contractor, freelancer,...    -1.001844\n",
       "171  HopeFiveYears_Working in a different or more s...    -0.976830\n",
       "167  HopeFiveYears_Working as a founder or co-found...    -0.887023\n",
       "77                TimeFullyProductive_More than a year    -0.752731\n",
       "166                           HopeFiveYears_Retirement    -0.728727\n",
       "168  HopeFiveYears_Working as a product manager or ...    -0.727376\n",
       "169  HopeFiveYears_Working as an engineering manage...    -0.671384\n",
       "142                         YearsCodingProf_9-11 years    -0.664033\n",
       "78           TimeFullyProductive_Nine months to a year    -0.643733\n",
       "135                        YearsCodingProf_18-20 years    -0.641155\n",
       "138                        YearsCodingProf_27-29 years    -0.641074\n",
       "89                       Employment_Employed full-time    -0.633328\n",
       "133                        YearsCodingProf_12-14 years    -0.629443\n",
       "139                          YearsCodingProf_3-5 years    -0.621281\n",
       "134                        YearsCodingProf_15-17 years    -0.620634\n",
       "141                          YearsCodingProf_6-8 years    -0.590621\n",
       "137                        YearsCodingProf_24-26 years    -0.585605\n",
       "136                        YearsCodingProf_21-23 years    -0.562026\n",
       "80              TimeFullyProductive_Six to nine months    -0.561924\n",
       "81             TimeFullyProductive_Three to six months    -0.545699\n",
       "90                       Employment_Employed part-time    -0.531992\n",
       "140                   YearsCodingProf_30 or more years    -0.506161\n",
       "132                          YearsCodingProf_0-2 years    -0.488369\n",
       "79             TimeFullyProductive_One to three months    -0.487244\n",
       "76               TimeFullyProductive_Less than a month    -0.431558\n",
       "165                  HopeFiveYears_Doing the same work    -0.343913\n",
       "99                CompanySize_10,000 or more employees    -0.300793\n",
       "130                     HoursComputer_Less than 1 hour    -0.248327\n",
       "85                               Age_45 - 54 years old    -0.231605\n",
       "..                                                 ...          ...\n",
       "110                            YearsCoding_24-26 years     0.063364\n",
       "26                          Game or graphics developer     0.067639\n",
       "23                                 Engineering manager     0.068639\n",
       "59                                    NumberMonitors_1     0.070001\n",
       "64   UndergradMajor_A business discipline (ex. acco...     0.070511\n",
       "113                       YearsCoding_30 or more years     0.074718\n",
       "82                               Age_18 - 24 years old     0.077095\n",
       "29                                     Product manager     0.090254\n",
       "146                            OperatingSystem_Windows     0.091752\n",
       "11   Taught yourself a new language, framework, or ...     0.093517\n",
       "6                          Participated in a hackathon     0.097859\n",
       "63                          NumberMonitors_More than 4     0.099530\n",
       "16       Data scientist or machine learning specialist     0.109119\n",
       "31                                             Student     0.123973\n",
       "68   UndergradMajor_A social science (ex. anthropol...     0.125603\n",
       "144                        OperatingSystem_Linux-based     0.129541\n",
       "8    Received on-the-job training in software devel...     0.134279\n",
       "21                     Educator or academic researcher     0.139157\n",
       "60                                    NumberMonitors_2     0.139696\n",
       "40                        White or of European descent     0.140381\n",
       "160  FormalEducation_Other doctoral degree (Ph.D, E...     0.173989\n",
       "88                              Age_Under 18 years old     0.203954\n",
       "2                                    EducationTypes_na     0.214599\n",
       "145                              OperatingSystem_MacOS     0.225876\n",
       "62                                    NumberMonitors_4     0.236301\n",
       "61                                    NumberMonitors_3     0.266778\n",
       "14                  C-suite executive (CEO, CTO, etc.)     0.302786\n",
       "92   Employment_Not employed, and not looking for work     0.799223\n",
       "94                                  Employment_Retired     0.966572\n",
       "93       Employment_Not employed, but looking for work     1.120196\n",
       "\n",
       "[172 rows x 2 columns]"
      ]
     },
     "execution_count": 96,
     "metadata": {},
     "output_type": "execute_result"
    }
   ],
   "source": [
    "coef_df = pd.DataFrame({'Features':X.columns, 'Coefficient': best_ridge.coef_})\n",
    "coef_df[['Features', 'Coefficient']].sort_values('Coefficient', axis = 0)"
   ]
  },
  {
   "cell_type": "markdown",
   "metadata": {},
   "source": [
    "### Interpretation"
   ]
  },
  {
   "cell_type": "markdown",
   "metadata": {},
   "source": [
    "Good news: developers in general are happy with their job, with an average rating between sligthly and moderately satisfied. There is no significant difference for the subgroup of data scientists, with a slight tendency to have a higher satisfaction and to rate as being extremely satisfied. \n",
    "\n",
    "We can build a model to see which elements correlate most closely with a high or low satisfaction at work. Our model only explains 35% of the variability in the job satisfaction, but we find that C-suite executives, those with a lot of monitors, with PhD's, younger, product managers who constantly acquire new skills are the happiest while contractors or part-time employees later in their careers, as well as people in very large companies, tend to have lower job satisfaction. The sweet spot: mid sized company, where they have opportunities for growth and learning and are well-treated (number of monitors)."
   ]
  },
  {
   "cell_type": "markdown",
   "metadata": {},
   "source": [
    "## Archetypes"
   ]
  },
  {
   "cell_type": "markdown",
   "metadata": {},
   "source": [
    "Subset only a few variables of interest (salary, education, languages used, big/small company, job satisfaction, experience) Drill in within the data scientist profession in the US, and repeat the analysis for developers, comparing the two. Use the dummy variable for DS here, and do the clustering on the two subsets.\n",
    "\n",
    "We will only create 3 clusters, because we do not want to get at an optimal solution but rather extract some underlying structure of the data."
   ]
  },
  {
   "cell_type": "code",
   "execution_count": 99,
   "metadata": {},
   "outputs": [],
   "source": [
    "# We start by creating a copy of our data frame\n",
    "data_2018_cluster = data_2018.copy()\n",
    "\n",
    "# We drop the respondent variable which is simply an identifier\n",
    "data_2018_cluster.drop('Respondent', axis = 1, inplace = True)"
   ]
  },
  {
   "cell_type": "code",
   "execution_count": 117,
   "metadata": {},
   "outputs": [],
   "source": [
    "# We focus on a subset of our variables to build our model\n",
    "# We choose them based on domain-knowledge and our intuition\n",
    "\n",
    "predictors = ['Hobby', 'Country', 'Exercise', 'Gender', 'OpenSource', 'EducationTypes',\n",
    "              'SexualOrientation', 'DataScientist', 'NumberMonitors', 'UndergradMajor', 'TimeFullyProductive',\n",
    "              'RaceEthnicity', 'Age', 'Employment', 'Dependents', 'CompanySize', \n",
    "              'YearsCoding', 'WakeTime', 'HoursComputer', 'YearsCodingProf', 'OperatingSystem',\n",
    "             'HoursOutside', 'SkipMeals', 'FormalEducation', 'HopeFiveYears',\n",
    "              'ConvertedSalary', 'JobSatisfaction', 'DevType']\n",
    "\n",
    "\n",
    "data_2018_cluster_subset = data_2018_cluster.loc[:,predictors]\n",
    "\n",
    "for c in ['EducationTypes', 'DevType', 'RaceEthnicity', 'Gender', 'SexualOrientation']:\n",
    "    data_2018_cluster_subset = pd.concat([data_2018_cluster_subset, data_2018_cluster_subset[c].str.get_dummies(sep = ';')], \n",
    "                                        axis = 1)\n",
    "    data_2018_cluster_subset.drop(c, inplace = True, axis = 1)\n",
    "    \n",
    "# We impute missing values for the salary and job satisfaction columns\n",
    "\n",
    "for c in ['ConvertedSalary', 'JobSatisfaction']:\n",
    "    data_2018_cluster_subset[c] = data_2018_cluster_subset[c].fillna(data_2018_cluster_subset[c].median())\n",
    "\n",
    "# We create our dummy variables\n",
    "data_2018_cluster_dummies = pd.get_dummies(data_2018_cluster_subset)\n",
    "\n",
    "# We standardize our data\n",
    "scaler = StandardScaler()\n",
    "cluster_data_scaled = scaler.fit_transform(data_2018_cluster_dummies)\n",
    "cluster_data_scaled = pd.DataFrame(cluster_data_scaled, columns = data_2018_cluster_dummies.columns)"
   ]
  },
  {
   "cell_type": "code",
   "execution_count": 118,
   "metadata": {},
   "outputs": [],
   "source": [
    "def cluster(df, k):\n",
    "    '''\n",
    "    INPUTS:\n",
    "    df - data we want to cluster\n",
    "    k - number of clusters desired\n",
    "\n",
    "    OUTPUT:\n",
    "    a dataframe of features as observations and clusters as columns, values being the center value\n",
    "    '''\n",
    "    \n",
    "    model = KMeans(n_clusters=k)\n",
    "    model.fit(df)\n",
    "    first_cluster_center = model.cluster_centers_[0]\n",
    "    second_cluster_center = model.cluster_centers_[1]\n",
    "    third_cluster_center = model.cluster_centers_[2]\n",
    "    \n",
    "    centers_df = pd.DataFrame({'Feature': df.columns.values,\n",
    "                               'First Cluster Center': first_cluster_center,\n",
    "                               'Second Cluster Center': second_cluster_center,\n",
    "                               'Third Cluster Center': third_cluster_center})\n",
    "    \n",
    "    return centers_df"
   ]
  },
  {
   "cell_type": "code",
   "execution_count": 119,
   "metadata": {},
   "outputs": [],
   "source": [
    "# We extract three clusters for the whole dataset\n",
    "overall_centers = cluster(cluster_data_scaled, 3)"
   ]
  },
  {
   "cell_type": "code",
   "execution_count": 120,
   "metadata": {},
   "outputs": [],
   "source": [
    "def extract_top_features(center_df, k, top = 5):\n",
    "    '''\n",
    "    INPUTS:\n",
    "    center_df - a dataframe with centers for various clusters\n",
    "    k - which cluster we want to focus on\n",
    "    top - how many features to visualize\n",
    "\n",
    "    OUTPUT:\n",
    "    prints out the most important features for this cluster\n",
    "    '''\n",
    "    \n",
    "    chosen_cluster = center_df.set_index('Feature').iloc[:,k]\n",
    "    ordered_centers = chosen_cluster.sort_values()\n",
    "    \n",
    "    print('The top {} negative features are: \\n {} \\n \\nWhile the top {} positive features are \\n {}'.format(\n",
    "    top, ordered_centers[:top], top, ordered_centers[-(top+1):-1]))"
   ]
  },
  {
   "cell_type": "code",
   "execution_count": 121,
   "metadata": {},
   "outputs": [
    {
     "name": "stdout",
     "output_type": "stream",
     "text": [
      "The top 5 negative features are: \n",
      " Feature\n",
      "Male                                                                                -0.889609\n",
      "Straight or heterosexual                                                            -0.885924\n",
      "Taught yourself a new language, framework, or tool without taking a formal course   -0.797687\n",
      "White or of European descent                                                        -0.721928\n",
      "Age_25 - 34 years old                                                               -0.663079\n",
      "Name: First Cluster Center, dtype: float64 \n",
      " \n",
      "While the top 5 positive features are \n",
      " Feature\n",
      "YearsCodingProf_0-2 years                            0.327624\n",
      "Employment_Not employed, and not looking for work    0.401300\n",
      "Employment_Not employed, but looking for work        0.425957\n",
      "YearsCoding_0-2 years                                0.450211\n",
      "JobSatisfaction                                      0.475851\n",
      "Name: First Cluster Center, dtype: float64\n"
     ]
    }
   ],
   "source": [
    "# Looking at the first cluster\n",
    "extract_top_features(overall_centers,0)"
   ]
  },
  {
   "cell_type": "code",
   "execution_count": 122,
   "metadata": {},
   "outputs": [
    {
     "name": "stdout",
     "output_type": "stream",
     "text": [
      "The top 5 negative features are: \n",
      " Feature\n",
      "Age_35 - 44 years old                           -0.309495\n",
      "JobSatisfaction                                 -0.243846\n",
      "Student                                         -0.204327\n",
      "YearsCoding_30 or more years                    -0.204036\n",
      "Employment_Not employed, but looking for work   -0.198644\n",
      "Name: Second Cluster Center, dtype: float64 \n",
      " \n",
      "While the top 5 positive features are \n",
      " Feature\n",
      "YearsCodingProf_3-5 years                                                            0.319492\n",
      "Taught yourself a new language, framework, or tool without taking a formal course    0.336186\n",
      "Male                                                                                 0.399503\n",
      "Straight or heterosexual                                                             0.403873\n",
      "Dependents_No                                                                        0.475734\n",
      "Name: Second Cluster Center, dtype: float64\n"
     ]
    }
   ],
   "source": [
    "# The second cluster\n",
    "extract_top_features(overall_centers,1)"
   ]
  },
  {
   "cell_type": "code",
   "execution_count": 123,
   "metadata": {},
   "outputs": [
    {
     "name": "stdout",
     "output_type": "stream",
     "text": [
      "The top 5 negative features are: \n",
      " Feature\n",
      "Age_25 - 34 years old       -0.627635\n",
      "YearsCodingProf_0-2 years   -0.555606\n",
      "YearsCoding_3-5 years       -0.525448\n",
      "YearsCodingProf_3-5 years   -0.493091\n",
      "Age_18 - 24 years old       -0.474286\n",
      "Name: Third Cluster Center, dtype: float64 \n",
      " \n",
      "While the top 5 positive features are \n",
      " Feature\n",
      "YearsCodingProf_15-17 years     0.683350\n",
      "YearsCodingProf_18-20 years     0.701733\n",
      "YearsCoding_30 or more years    0.755281\n",
      "Age_45 - 54 years old           0.793500\n",
      "Dependents_Yes                  0.981562\n",
      "Name: Third Cluster Center, dtype: float64\n"
     ]
    }
   ],
   "source": [
    "# And the third cluster\n",
    "extract_top_features(overall_centers,2)"
   ]
  },
  {
   "cell_type": "code",
   "execution_count": 124,
   "metadata": {},
   "outputs": [
    {
     "name": "stderr",
     "output_type": "stream",
     "text": [
      "/anaconda3/lib/python3.6/site-packages/ipykernel/__main__.py:5: SettingWithCopyWarning: \n",
      "A value is trying to be set on a copy of a slice from a DataFrame\n",
      "\n",
      "See the caveats in the documentation: http://pandas.pydata.org/pandas-docs/stable/indexing.html#indexing-view-versus-copy\n"
     ]
    }
   ],
   "source": [
    "# Repeating the analysis for data scientists\n",
    "# We subset before scaling, and drop the data scientist column afterwards\n",
    "data_scientist = data_2018_cluster_dummies.DataScientist == 1\n",
    "cluster_data_DS = data_2018_cluster_dummies.loc[data_scientist,:]\n",
    "cluster_data_DS.drop('DataScientist', axis = 1, inplace = True)"
   ]
  },
  {
   "cell_type": "code",
   "execution_count": 125,
   "metadata": {},
   "outputs": [],
   "source": [
    "# We scale and apply our function\n",
    "DS_scaler = StandardScaler()\n",
    "DS_scaled = DS_scaler.fit_transform(cluster_data_DS)\n",
    "DS_scaled = pd.DataFrame(DS_scaled, columns = cluster_data_DS.columns)\n",
    "\n",
    "DS_centers = cluster(DS_scaled, 3)"
   ]
  },
  {
   "cell_type": "code",
   "execution_count": 126,
   "metadata": {},
   "outputs": [
    {
     "name": "stdout",
     "output_type": "stream",
     "text": [
      "The top 5 negative features are: \n",
      " Feature\n",
      "Straight or heterosexual                                                            -0.620287\n",
      "Male                                                                                -0.520286\n",
      "White or of European descent                                                        -0.409342\n",
      "OperatingSystem_Windows                                                             -0.336752\n",
      "Taught yourself a new language, framework, or tool without taking a formal course   -0.317759\n",
      "Name: First Cluster Center, dtype: float64 \n",
      " \n",
      "While the top 5 positive features are \n",
      " Feature\n",
      "Asexual                                              1.317964\n",
      "East Asian                                           1.527238\n",
      "Non-binary, genderqueer, or gender non-conforming    1.598664\n",
      "HoursComputer_Less than 1 hour                       2.523431\n",
      "Transgender                                          4.082594\n",
      "Name: First Cluster Center, dtype: float64\n"
     ]
    }
   ],
   "source": [
    "# For the first cluster\n",
    "extract_top_features(DS_centers,0)"
   ]
  },
  {
   "cell_type": "code",
   "execution_count": 127,
   "metadata": {},
   "outputs": [
    {
     "name": "stdout",
     "output_type": "stream",
     "text": [
      "The top 5 negative features are: \n",
      " Feature\n",
      "Student                                         -0.301083\n",
      "YearsCodingProf_0-2 years                       -0.276552\n",
      "Employment_Not employed, but looking for work   -0.216105\n",
      "Age_18 - 24 years old                           -0.203312\n",
      "Country_India                                   -0.195405\n",
      "Name: Second Cluster Center, dtype: float64 \n",
      " \n",
      "While the top 5 positive features are \n",
      " Feature\n",
      "Age_25 - 34 years old                                                                0.290019\n",
      "Employment_Employed full-time                                                        0.304007\n",
      "Taught yourself a new language, framework, or tool without taking a formal course    0.376618\n",
      "Male                                                                                 0.400906\n",
      "Straight or heterosexual                                                             0.412004\n",
      "Name: Second Cluster Center, dtype: float64\n"
     ]
    }
   ],
   "source": [
    "# For the second cluster\n",
    "extract_top_features(DS_centers,1)"
   ]
  },
  {
   "cell_type": "code",
   "execution_count": 128,
   "metadata": {},
   "outputs": [
    {
     "name": "stdout",
     "output_type": "stream",
     "text": [
      "The top 5 negative features are: \n",
      " Feature\n",
      "White or of European descent                                                        -0.720369\n",
      "Straight or heterosexual                                                            -0.685446\n",
      "Male                                                                                -0.671120\n",
      "Taught yourself a new language, framework, or tool without taking a formal course   -0.638956\n",
      "Employment_Employed full-time                                                       -0.518793\n",
      "Name: Third Cluster Center, dtype: float64 \n",
      " \n",
      "While the top 5 positive features are \n",
      " Feature\n",
      "JobSatisfaction                                  0.322461\n",
      "Age_18 - 24 years old                            0.352705\n",
      "Country_India                                    0.353670\n",
      "Employment_Not employed, but looking for work    0.363748\n",
      "YearsCodingProf_0-2 years                        0.471703\n",
      "Name: Third Cluster Center, dtype: float64\n"
     ]
    }
   ],
   "source": [
    "# The third cluster\n",
    "extract_top_features(DS_centers,2)"
   ]
  },
  {
   "cell_type": "code",
   "execution_count": 129,
   "metadata": {},
   "outputs": [
    {
     "name": "stderr",
     "output_type": "stream",
     "text": [
      "/anaconda3/lib/python3.6/site-packages/ipykernel/__main__.py:3: SettingWithCopyWarning: \n",
      "A value is trying to be set on a copy of a slice from a DataFrame\n",
      "\n",
      "See the caveats in the documentation: http://pandas.pydata.org/pandas-docs/stable/indexing.html#indexing-view-versus-copy\n",
      "  app.launch_new_instance()\n"
     ]
    }
   ],
   "source": [
    "# Finally for non-data scientists\n",
    "cluster_data_noDS = data_2018_cluster_dummies.loc[data_scientist==False,:]\n",
    "cluster_data_noDS.drop('DataScientist', axis = 1, inplace = True)"
   ]
  },
  {
   "cell_type": "code",
   "execution_count": 130,
   "metadata": {},
   "outputs": [],
   "source": [
    "noDS_scaler = StandardScaler()\n",
    "noDS_scaled = noDS_scaler.fit_transform(cluster_data_noDS)\n",
    "noDS_scaled = pd.DataFrame(noDS_scaled, columns = cluster_data_noDS.columns)\n",
    "\n",
    "noDS_centers = cluster(noDS_scaled, 3)"
   ]
  },
  {
   "cell_type": "code",
   "execution_count": 131,
   "metadata": {},
   "outputs": [
    {
     "name": "stdout",
     "output_type": "stream",
     "text": [
      "The top 5 negative features are: \n",
      " Feature\n",
      "Male                                                                                -0.869708\n",
      "Straight or heterosexual                                                            -0.866559\n",
      "Taught yourself a new language, framework, or tool without taking a formal course   -0.778955\n",
      "White or of European descent                                                        -0.699595\n",
      "Age_25 - 34 years old                                                               -0.667679\n",
      "Name: First Cluster Center, dtype: float64 \n",
      " \n",
      "While the top 5 positive features are \n",
      " Feature\n",
      "FormalEducation_Secondary school (e.g. American high school, German Realschule or Gymnasium, etc.)    0.322445\n",
      "Employment_Not employed, and not looking for work                                                     0.404804\n",
      "Employment_Not employed, but looking for work                                                         0.418065\n",
      "YearsCoding_0-2 years                                                                                 0.455439\n",
      "JobSatisfaction                                                                                       0.479961\n",
      "Name: First Cluster Center, dtype: float64\n"
     ]
    }
   ],
   "source": [
    "# Looking at the first cluster\n",
    "extract_top_features(noDS_centers,0)"
   ]
  },
  {
   "cell_type": "code",
   "execution_count": 132,
   "metadata": {},
   "outputs": [
    {
     "name": "stdout",
     "output_type": "stream",
     "text": [
      "The top 5 negative features are: \n",
      " Feature\n",
      "Age_25 - 34 years old       -0.629785\n",
      "YearsCodingProf_0-2 years   -0.555595\n",
      "YearsCoding_3-5 years       -0.534959\n",
      "YearsCodingProf_3-5 years   -0.501781\n",
      "Age_18 - 24 years old       -0.483682\n",
      "Name: Second Cluster Center, dtype: float64 \n",
      " \n",
      "While the top 5 positive features are \n",
      " Feature\n",
      "YearsCodingProf_15-17 years     0.711280\n",
      "YearsCodingProf_18-20 years     0.727128\n",
      "YearsCoding_30 or more years    0.762686\n",
      "Age_45 - 54 years old           0.807670\n",
      "Dependents_Yes                  0.998504\n",
      "Name: Second Cluster Center, dtype: float64\n"
     ]
    }
   ],
   "source": [
    "# Second cluster\n",
    "extract_top_features(noDS_centers,1)"
   ]
  },
  {
   "cell_type": "code",
   "execution_count": 133,
   "metadata": {},
   "outputs": [
    {
     "name": "stdout",
     "output_type": "stream",
     "text": [
      "The top 5 negative features are: \n",
      " Feature\n",
      "Age_35 - 44 years old                           -0.307799\n",
      "JobSatisfaction                                 -0.254066\n",
      "Student                                         -0.226754\n",
      "Employment_Not employed, but looking for work   -0.199710\n",
      "YearsCoding_30 or more years                    -0.194288\n",
      "Name: Third Cluster Center, dtype: float64 \n",
      " \n",
      "While the top 5 positive features are \n",
      " Feature\n",
      "YearsCodingProf_3-5 years                                                            0.321614\n",
      "Taught yourself a new language, framework, or tool without taking a formal course    0.337713\n",
      "Male                                                                                 0.399683\n",
      "Straight or heterosexual                                                             0.403462\n",
      "Dependents_No                                                                        0.465789\n",
      "Name: Third Cluster Center, dtype: float64\n"
     ]
    }
   ],
   "source": [
    "# Third cluster\n",
    "extract_top_features(noDS_centers,2)"
   ]
  },
  {
   "cell_type": "markdown",
   "metadata": {},
   "source": [
    "### Interpretation"
   ]
  },
  {
   "cell_type": "markdown",
   "metadata": {},
   "source": [
    "Among respondents of the survey, we have three main archetypes of respondents:\n",
    "- unemployed young developers who have started to code only recently\n",
    "- mid-career male coder who tries to learn new skills on his own time\n",
    "- older developers with children\n",
    "\n",
    "Drilling deeper, among data scientists:\n",
    "- asian ethnicity who studied computer science in school who are non-binary and non-heterosexual\n",
    "- straight white male, mid-career, learning new languages on his own time, potentially did not study it in school\n",
    "- indians who studied computer science in school, have just started a career they are very satisfied with"
   ]
  },
  {
   "cell_type": "code",
   "execution_count": null,
   "metadata": {},
   "outputs": [],
   "source": []
  }
 ],
 "metadata": {
  "kernelspec": {
   "display_name": "Python [conda env:anaconda3]",
   "language": "python",
   "name": "conda-env-anaconda3-py"
  },
  "language_info": {
   "codemirror_mode": {
    "name": "ipython",
    "version": 3
   },
   "file_extension": ".py",
   "mimetype": "text/x-python",
   "name": "python",
   "nbconvert_exporter": "python",
   "pygments_lexer": "ipython3",
   "version": "3.6.6"
  }
 },
 "nbformat": 4,
 "nbformat_minor": 2
}
